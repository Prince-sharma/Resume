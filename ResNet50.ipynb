{
  "nbformat": 4,
  "nbformat_minor": 0,
  "metadata": {
    "coursera": {
      "course_slug": "convolutional-neural-networks",
      "graded_item_id": "OEpi5",
      "launcher_item_id": "jK9EQ"
    },
    "kernelspec": {
      "display_name": "Python 3",
      "language": "python",
      "name": "python3"
    },
    "language_info": {
      "codemirror_mode": {
        "name": "ipython",
        "version": 3
      },
      "file_extension": ".py",
      "mimetype": "text/x-python",
      "name": "python",
      "nbconvert_exporter": "python",
      "pygments_lexer": "ipython3",
      "version": "3.6.9"
    },
    "colab": {
      "name": "ResNet50.ipynb",
      "provenance": [],
      "include_colab_link": true
    },
    "accelerator": "GPU"
  },
  "cells": [
    {
      "cell_type": "markdown",
      "metadata": {
        "id": "view-in-github",
        "colab_type": "text"
      },
      "source": [
        "<a href=\"https://colab.research.google.com/github/Prince-sharma/Resume/blob/master/ResNet50.ipynb\" target=\"_parent\"><img src=\"https://colab.research.google.com/assets/colab-badge.svg\" alt=\"Open In Colab\"/></a>"
      ]
    },
    {
      "cell_type": "markdown",
      "metadata": {
        "id": "fppf5Wpglh6K",
        "colab_type": "text"
      },
      "source": [
        "# Residual Networks\n",
        "\n",
        "Welcome to the second assignment of this week! You will learn how to build very deep convolutional networks, using Residual Networks (ResNets). In theory, very deep networks can represent very complex functions; but in practice, they are hard to train. Residual Networks, introduced by [He et al.](https://arxiv.org/pdf/1512.03385.pdf), allow you to train much deeper networks than were previously practically feasible.\n",
        "\n",
        "**In this assignment, you will:**\n",
        "- Implement the basic building blocks of ResNets. \n",
        "- Put together these building blocks to implement and train a state-of-the-art neural network for image classification. "
      ]
    },
    {
      "cell_type": "code",
      "metadata": {
        "id": "uQXSLBJmloC7",
        "colab_type": "code",
        "colab": {
          "base_uri": "https://localhost:8080/",
          "height": 122
        },
        "outputId": "1e2cfa0c-6532-49ad-c402-f71de510decf"
      },
      "source": [
        "from google.colab import drive\n",
        "drive.mount('/content/drive')"
      ],
      "execution_count": 10,
      "outputs": [
        {
          "output_type": "stream",
          "text": [
            "Go to this URL in a browser: https://accounts.google.com/o/oauth2/auth?client_id=947318989803-6bn6qk8qdgf4n4g3pfee6491hc0brc4i.apps.googleusercontent.com&redirect_uri=urn%3aietf%3awg%3aoauth%3a2.0%3aoob&response_type=code&scope=email%20https%3a%2f%2fwww.googleapis.com%2fauth%2fdocs.test%20https%3a%2f%2fwww.googleapis.com%2fauth%2fdrive%20https%3a%2f%2fwww.googleapis.com%2fauth%2fdrive.photos.readonly%20https%3a%2f%2fwww.googleapis.com%2fauth%2fpeopleapi.readonly\n",
            "\n",
            "Enter your authorization code:\n",
            "··········\n",
            "Mounted at /content/drive\n"
          ],
          "name": "stdout"
        }
      ]
    },
    {
      "cell_type": "code",
      "metadata": {
        "id": "0qK33Up7nQXr",
        "colab_type": "code",
        "colab": {
          "base_uri": "https://localhost:8080/",
          "height": 34
        },
        "outputId": "a2539d0e-61e2-42ce-9b2e-74a7bfa0623f"
      },
      "source": [
        "%cd '/content/drive/My Drive/Colab Notebooks/'"
      ],
      "execution_count": 14,
      "outputs": [
        {
          "output_type": "stream",
          "text": [
            "/content/drive/My Drive/Colab Notebooks\n"
          ],
          "name": "stdout"
        }
      ]
    },
    {
      "cell_type": "markdown",
      "metadata": {
        "id": "cuG659Lflh6N",
        "colab_type": "text"
      },
      "source": [
        "## <font color='darkblue'>Updates</font>\n",
        "\n",
        "#### If you were working on the notebook before this update...\n",
        "* The current notebook is version \"2a\".\n",
        "* You can find your original work saved in the notebook with the previous version name (\"v2\") \n",
        "* To view the file directory, go to the menu \"File->Open\", and this will open a new tab that shows the file directory.\n",
        "\n",
        "#### List of updates\n",
        "* For testing on an image, replaced `preprocess_input(x)` with `x=x/255.0` to normalize the input image in the same way that the model's training data was normalized.\n",
        "* Refers to \"shallower\" layers as those layers closer to the input, and \"deeper\" layers as those closer to the output (Using \"shallower\" layers instead of \"lower\" or \"earlier\").\n",
        "* Added/updated instructions.\n"
      ]
    },
    {
      "cell_type": "code",
      "metadata": {
        "id": "UVGnuySuogKI",
        "colab_type": "code",
        "colab": {
          "base_uri": "https://localhost:8080/",
          "height": 68
        },
        "outputId": "c17f406f-3c24-454b-c533-36df96a07e7e"
      },
      "source": [
        "%ls"
      ],
      "execution_count": 15,
      "outputs": [
        {
          "output_type": "stream",
          "text": [
            "\u001b[0m\u001b[01;34mdatasets\u001b[0m/                         DO_1_classification.ipynb    resnets_utils.py\n",
            "deeplearning.ai-tensorflow.ipynb  \u001b[01;34m__pycache__\u001b[0m/\n",
            "Digit_recog_1.ipynb               Residual_Networks_v2a.ipynb\n"
          ],
          "name": "stdout"
        }
      ]
    },
    {
      "cell_type": "markdown",
      "metadata": {
        "id": "5-jVB-F2lh6O",
        "colab_type": "text"
      },
      "source": [
        "This assignment will be done in Keras. \n",
        "\n",
        "Before jumping into the problem, let's run the cell below to load the required packages."
      ]
    },
    {
      "cell_type": "code",
      "metadata": {
        "id": "loE8Jteflh6Q",
        "colab_type": "code",
        "colab": {
          "base_uri": "https://localhost:8080/",
          "height": 34
        },
        "outputId": "9128b6ca-eb95-4de3-eb7f-9d04e811062e"
      },
      "source": [
        "import numpy as np\n",
        "from keras import layers\n",
        "from keras.layers import Input, Add, Dense, Activation, ZeroPadding2D, BatchNormalization, Flatten, Conv2D, AveragePooling2D, MaxPooling2D, GlobalMaxPooling2D\n",
        "from keras.models import Model, load_model\n",
        "from keras.preprocessing import image\n",
        "from keras.utils import layer_utils\n",
        "from keras.utils.data_utils import get_file\n",
        "from keras.applications.imagenet_utils import preprocess_input\n",
        "import pydot\n",
        "from IPython.display import SVG\n",
        "from keras.utils.vis_utils import model_to_dot\n",
        "from keras.utils import plot_model\n",
        "from resnets_utils import *\n",
        "from keras.initializers import glorot_uniform\n",
        "import scipy.misc\n",
        "from matplotlib.pyplot import imshow\n",
        "%matplotlib inline\n",
        "\n",
        "import keras.backend as K\n",
        "K.set_image_data_format('channels_last')\n",
        "K.set_learning_phase(1)"
      ],
      "execution_count": 16,
      "outputs": [
        {
          "output_type": "stream",
          "text": [
            "Using TensorFlow backend.\n"
          ],
          "name": "stderr"
        }
      ]
    },
    {
      "cell_type": "markdown",
      "metadata": {
        "id": "8wRMCEFHlh6d",
        "colab_type": "text"
      },
      "source": [
        "## 1 - The problem of very deep neural networks\n",
        "\n",
        "Last week, you built your first convolutional neural network. In recent years, neural networks have become deeper, with state-of-the-art networks going from just a few layers (e.g., AlexNet) to over a hundred layers.\n",
        "\n",
        "* The main benefit of a very deep network is that it can represent very complex functions. It can also learn features at many different levels of abstraction, from edges (at the shallower layers, closer to the input) to very complex features (at the deeper layers, closer to the output). \n",
        "* However, using a deeper network doesn't always help. A huge barrier to training them is vanishing gradients: very deep networks often have a gradient signal that goes to zero quickly, thus making gradient descent prohibitively slow. \n",
        "* More specifically, during gradient descent, as you backprop from the final layer back to the first layer, you are multiplying by the weight matrix on each step, and thus the gradient can decrease exponentially quickly to zero (or, in rare cases, grow exponentially quickly and \"explode\" to take very large values). \n",
        "* During training, you might therefore see the magnitude (or norm) of the gradient for the shallower layers decrease to zero very rapidly as training proceeds: "
      ]
    },
    {
      "cell_type": "markdown",
      "metadata": {
        "id": "C3M0xMR2lh6e",
        "colab_type": "text"
      },
      "source": [
        "<img src=\"images/vanishing_grad_kiank.png\" style=\"width:450px;height:220px;\">\n",
        "<caption><center> <u> <font color='purple'> **Figure 1** </u><font color='purple'>  : **Vanishing gradient** <br> The speed of learning decreases very rapidly for the shallower layers as the network trains </center></caption>\n",
        "\n",
        "You are now going to solve this problem by building a Residual Network!"
      ]
    },
    {
      "cell_type": "markdown",
      "metadata": {
        "id": "Ql-lTnrYlh6i",
        "colab_type": "text"
      },
      "source": [
        "## 2 - Building a Residual Network\n",
        "\n",
        "In ResNets, a \"shortcut\" or a \"skip connection\" allows the model to skip layers:  \n",
        "\n",
        "<img src=\"images/skip_connection_kiank.png\" style=\"width:650px;height:200px;\">\n",
        "<caption><center> <u> <font color='purple'> **Figure 2** </u><font color='purple'>  : A ResNet block showing a **skip-connection** <br> </center></caption>\n",
        "\n",
        "The image on the left shows the \"main path\" through the network. The image on the right adds a shortcut to the main path. By stacking these ResNet blocks on top of each other, you can form a very deep network. \n",
        "\n",
        "We also saw in lecture that having ResNet blocks with the shortcut also makes it very easy for one of the blocks to learn an identity function. This means that you can stack on additional ResNet blocks with little risk of harming training set performance.  \n",
        "    \n",
        "(There is also some evidence that the ease of learning an identity function accounts for ResNets' remarkable performance even more so than skip connections helping with vanishing gradients).\n",
        "\n",
        "Two main types of blocks are used in a ResNet, depending mainly on whether the input/output dimensions are same or different. You are going to implement both of them: the \"identity block\" and the \"convolutional block.\""
      ]
    },
    {
      "cell_type": "markdown",
      "metadata": {
        "id": "9bqqWOtqlh6k",
        "colab_type": "text"
      },
      "source": [
        "### 2.1 - The identity block\n",
        "\n",
        "The identity block is the standard block used in ResNets, and corresponds to the case where the input activation (say $a^{[l]}$) has the same dimension as the output activation (say $a^{[l+2]}$). To flesh out the different steps of what happens in a ResNet's identity block, here is an alternative diagram showing the individual steps:\n",
        "\n",
        "<img src=\"images/idblock2_kiank.png\" style=\"width:650px;height:150px;\">\n",
        "<caption><center> <u> <font color='purple'> **Figure 3** </u><font color='purple'>  : **Identity block.** Skip connection \"skips over\" 2 layers. </center></caption>\n",
        "\n",
        "The upper path is the \"shortcut path.\" The lower path is the \"main path.\" In this diagram, we have also made explicit the CONV2D and ReLU steps in each layer. To speed up training we have also added a BatchNorm step. Don't worry about this being complicated to implement--you'll see that BatchNorm is just one line of code in Keras! \n",
        "\n",
        "In this exercise, you'll actually implement a slightly more powerful version of this identity block, in which the skip connection \"skips over\" 3 hidden layers rather than 2 layers. It looks like this: \n",
        "\n",
        "<img src=\"images/idblock3_kiank.png\" style=\"width:650px;height:150px;\">\n",
        "<caption><center> <u> <font color='purple'> **Figure 4** </u><font color='purple'>  : **Identity block.** Skip connection \"skips over\" 3 layers.</center></caption>"
      ]
    },
    {
      "cell_type": "markdown",
      "metadata": {
        "id": "9yAHCR6Slh6l",
        "colab_type": "text"
      },
      "source": [
        "Here are the individual steps.\n",
        "\n",
        "First component of main path: \n",
        "- The first CONV2D has $F_1$ filters of shape (1,1) and a stride of (1,1). Its padding is \"valid\" and its name should be `conv_name_base + '2a'`. Use 0 as the seed for the random initialization. \n",
        "- The first BatchNorm is normalizing the 'channels' axis.  Its name should be `bn_name_base + '2a'`.\n",
        "- Then apply the ReLU activation function. This has no name and no hyperparameters. \n",
        "\n",
        "Second component of main path:\n",
        "- The second CONV2D has $F_2$ filters of shape $(f,f)$ and a stride of (1,1). Its padding is \"same\" and its name should be `conv_name_base + '2b'`. Use 0 as the seed for the random initialization. \n",
        "- The second BatchNorm is normalizing the 'channels' axis.  Its name should be `bn_name_base + '2b'`.\n",
        "- Then apply the ReLU activation function. This has no name and no hyperparameters. \n",
        "\n",
        "Third component of main path:\n",
        "- The third CONV2D has $F_3$ filters of shape (1,1) and a stride of (1,1). Its padding is \"valid\" and its name should be `conv_name_base + '2c'`. Use 0 as the seed for the random initialization. \n",
        "- The third BatchNorm is normalizing the 'channels' axis.  Its name should be `bn_name_base + '2c'`. \n",
        "- Note that there is **no** ReLU activation function in this component. \n",
        "\n",
        "Final step: \n",
        "- The `X_shortcut` and the output from the 3rd layer `X` are added together.\n",
        "- **Hint**: The syntax will look something like `Add()([var1,var2])`\n",
        "- Then apply the ReLU activation function. This has no name and no hyperparameters. \n",
        "\n",
        "**Exercise**: Implement the ResNet identity block. We have implemented the first component of the main path. Please read this carefully to make sure you understand what it is doing. You should implement the rest. \n",
        "- To implement the Conv2D step: [Conv2D](https://keras.io/layers/convolutional/#conv2d)\n",
        "- To implement BatchNorm: [BatchNormalization](https://faroit.github.io/keras-docs/1.2.2/layers/normalization/) (axis: Integer, the axis that should be normalized (typically the 'channels' axis))\n",
        "- For the activation, use:  `Activation('relu')(X)`\n",
        "- To add the value passed forward by the shortcut: [Add](https://keras.io/layers/merge/#add)"
      ]
    },
    {
      "cell_type": "code",
      "metadata": {
        "id": "Hn4a2vlDlh6m",
        "colab_type": "code",
        "colab": {}
      },
      "source": [
        "# GRADED FUNCTION: identity_block\n",
        "\n",
        "def identity_block(X, f, filters, stage, block):\n",
        "    \"\"\"\n",
        "    Implementation of the identity block as defined in Figure 4\n",
        "    \n",
        "    Arguments:\n",
        "    X -- input tensor of shape (m, n_H_prev, n_W_prev, n_C_prev)\n",
        "    f -- integer, specifying the shape of the middle CONV's window for the main path\n",
        "    filters -- python list of integers, defining the number of filters in the CONV layers of the main path\n",
        "    stage -- integer, used to name the layers, depending on their position in the network\n",
        "    block -- string/character, used to name the layers, depending on their position in the network\n",
        "    \n",
        "    Returns:\n",
        "    X -- output of the identity block, tensor of shape (n_H, n_W, n_C)\n",
        "    \"\"\"\n",
        "    \n",
        "    # defining name basis\n",
        "    conv_name_base = 'res' + str(stage) + block + '_branch'\n",
        "    bn_name_base = 'bn' + str(stage) + block + '_branch'\n",
        "    \n",
        "    # Retrieve Filters\n",
        "    F1, F2, F3 = filters\n",
        "    \n",
        "    # Save the input value. You'll need this later to add back to the main path. \n",
        "    X_shortcut = X\n",
        "    \n",
        "    # First component of main path\n",
        "    X = Conv2D(filters = F1, kernel_size = (1, 1), strides = (1,1), padding = 'valid', name = conv_name_base + '2a', kernel_initializer = glorot_uniform(seed=0))(X)\n",
        "    X = BatchNormalization(axis = 3, name = bn_name_base + '2a')(X)\n",
        "    X = Activation('relu')(X)\n",
        "    \n",
        "    ### START CODE HERE ###\n",
        "    \n",
        "    # Second component of main path (≈3 lines)\n",
        "    X = Conv2D(filters = F2, kernel_size = (f,f), strides = (1,1), padding = 'same', name = conv_name_base + '2b' , kernel_initializer = glorot_uniform(seed=0))(X)\n",
        "    X = BatchNormalization( axis = 3, name = bn_name_base + '2b')(X)\n",
        "    X = Activation('relu')(X)\n",
        "\n",
        "    # Third component of main path (≈2 lines)\n",
        "    X = Conv2D( filters = F3, kernel_size = (1,1), strides = (1,1), padding = 'valid', name = conv_name_base + '2c', kernel_initializer = glorot_uniform(seed=0))(X)\n",
        "    X = BatchNormalization( axis = 3, name= bn_name_base + '2c')(X)\n",
        "\n",
        "    # Final step: Add shortcut value to main path, and pass it through a RELU activation (≈2 lines)\n",
        "    X = Add()([X_shortcut,X])\n",
        "    X = Activation('relu')(X)\n",
        "    \n",
        "    ### END CODE HERE ###\n",
        "    \n",
        "    return X"
      ],
      "execution_count": 0,
      "outputs": []
    },
    {
      "cell_type": "code",
      "metadata": {
        "id": "btp868oolh6u",
        "colab_type": "code",
        "colab": {
          "base_uri": "https://localhost:8080/",
          "height": 105
        },
        "outputId": "6c836823-81b9-49f6-8fdb-cc468c7db620"
      },
      "source": [
        "tf.compat.v1.reset_default_graph()\n",
        "\n",
        "with tf.compat.v1.Session() as test:\n",
        "    np.random.seed(1)\n",
        "    A_prev = tf.compat.v1.placeholder(\"float\", [3, 4, 4, 6])\n",
        "    X = np.random.randn(3, 4, 4, 6)\n",
        "    A = identity_block(A_prev, f = 2, filters = [2, 4, 6], stage = 1, block = 'a')\n",
        "    test.run(tf.compat.v1.global_variables_initializer())\n",
        "    out = test.run([A], feed_dict={A_prev: X, K.learning_phase(): 0})\n",
        "    print(\"out = \" + str(out[0][1][1][0]))"
      ],
      "execution_count": 19,
      "outputs": [
        {
          "output_type": "stream",
          "text": [
            "WARNING:tensorflow:From /usr/local/lib/python3.6/dist-packages/tensorflow/python/ops/resource_variable_ops.py:1666: calling BaseResourceVariable.__init__ (from tensorflow.python.ops.resource_variable_ops) with constraint is deprecated and will be removed in a future version.\n",
            "Instructions for updating:\n",
            "If using Keras pass *_constraint arguments to layers.\n",
            "out = [0.94822997 0.         1.1610146  2.747859   0.         1.36677   ]\n"
          ],
          "name": "stdout"
        }
      ]
    },
    {
      "cell_type": "markdown",
      "metadata": {
        "id": "TfUqn0mvlh61",
        "colab_type": "text"
      },
      "source": [
        "**Expected Output**:\n",
        "\n",
        "<table>\n",
        "    <tr>\n",
        "        <td>\n",
        "            **out**\n",
        "        </td>\n",
        "        <td>\n",
        "           [ 0.94822985  0.          1.16101444  2.747859    0.          1.36677003]\n",
        "        </td>\n",
        "    </tr>\n",
        "\n",
        "</table>"
      ]
    },
    {
      "cell_type": "markdown",
      "metadata": {
        "id": "C7Zinc86lh63",
        "colab_type": "text"
      },
      "source": [
        "## 2.2 - The convolutional block\n",
        "\n",
        "The ResNet \"convolutional block\" is the second block type. You can use this type of block when the input and output dimensions don't match up. The difference with the identity block is that there is a CONV2D layer in the shortcut path: \n",
        "\n",
        "<img src=\"images/convblock_kiank.png\" style=\"width:650px;height:150px;\">\n",
        "<caption><center> <u> <font color='purple'> **Figure 4** </u><font color='purple'>  : **Convolutional block** </center></caption>\n",
        "\n",
        "* The CONV2D layer in the shortcut path is used to resize the input $x$ to a different dimension, so that the dimensions match up in the final addition needed to add the shortcut value back to the main path. (This plays a similar role as the matrix $W_s$ discussed in lecture.) \n",
        "* For example, to reduce the activation dimensions's height and width by a factor of 2, you can use a 1x1 convolution with a stride of 2. \n",
        "* The CONV2D layer on the shortcut path does not use any non-linear activation function. Its main role is to just apply a (learned) linear function that reduces the dimension of the input, so that the dimensions match up for the later addition step. \n",
        "\n",
        "The details of the convolutional block are as follows. \n",
        "\n",
        "First component of main path:\n",
        "- The first CONV2D has $F_1$ filters of shape (1,1) and a stride of (s,s). Its padding is \"valid\" and its name should be `conv_name_base + '2a'`. Use 0 as the `glorot_uniform` seed.\n",
        "- The first BatchNorm is normalizing the 'channels' axis.  Its name should be `bn_name_base + '2a'`.\n",
        "- Then apply the ReLU activation function. This has no name and no hyperparameters. \n",
        "\n",
        "Second component of main path:\n",
        "- The second CONV2D has $F_2$ filters of shape (f,f) and a stride of (1,1). Its padding is \"same\" and it's name should be `conv_name_base + '2b'`.  Use 0 as the `glorot_uniform` seed.\n",
        "- The second BatchNorm is normalizing the 'channels' axis.  Its name should be `bn_name_base + '2b'`.\n",
        "- Then apply the ReLU activation function. This has no name and no hyperparameters. \n",
        "\n",
        "Third component of main path:\n",
        "- The third CONV2D has $F_3$ filters of shape (1,1) and a stride of (1,1). Its padding is \"valid\" and it's name should be `conv_name_base + '2c'`.  Use 0 as the `glorot_uniform` seed.\n",
        "- The third BatchNorm is normalizing the 'channels' axis.  Its name should be `bn_name_base + '2c'`. Note that there is no ReLU activation function in this component. \n",
        "\n",
        "Shortcut path:\n",
        "- The CONV2D has $F_3$ filters of shape (1,1) and a stride of (s,s). Its padding is \"valid\" and its name should be `conv_name_base + '1'`.  Use 0 as the `glorot_uniform` seed.\n",
        "- The BatchNorm is normalizing the 'channels' axis.  Its name should be `bn_name_base + '1'`. \n",
        "\n",
        "Final step: \n",
        "- The shortcut and the main path values are added together.\n",
        "- Then apply the ReLU activation function. This has no name and no hyperparameters. \n",
        "    \n",
        "**Exercise**: Implement the convolutional block. We have implemented the first component of the main path; you should implement the rest. As before, always use 0 as the seed for the random initialization, to ensure consistency with our grader.\n",
        "- [Conv2D](https://keras.io/layers/convolutional/#conv2d)\n",
        "- [BatchNormalization](https://keras.io/layers/normalization/#batchnormalization) (axis: Integer, the axis that should be normalized (typically the features axis))\n",
        "- For the activation, use:  `Activation('relu')(X)`\n",
        "- [Add](https://keras.io/layers/merge/#add)"
      ]
    },
    {
      "cell_type": "code",
      "metadata": {
        "id": "jJDUGNAqlh64",
        "colab_type": "code",
        "colab": {}
      },
      "source": [
        "# GRADED FUNCTION: convolutional_block\n",
        "\n",
        "def convolutional_block(X, f, filters, stage, block, s = 2):\n",
        "    \"\"\"\n",
        "    Implementation of the convolutional block as defined in Figure 4\n",
        "    \n",
        "    Arguments:\n",
        "    X -- input tensor of shape (m, n_H_prev, n_W_prev, n_C_prev)\n",
        "    f -- integer, specifying the shape of the middle CONV's window for the main path\n",
        "    filters -- python list of integers, defining the number of filters in the CONV layers of the main path\n",
        "    stage -- integer, used to name the layers, depending on their position in the network\n",
        "    block -- string/character, used to name the layers, depending on their position in the network\n",
        "    s -- Integer, specifying the stride to be used\n",
        "    \n",
        "    Returns:\n",
        "    X -- output of the convolutional block, tensor of shape (n_H, n_W, n_C)\n",
        "    \"\"\"\n",
        "    \n",
        "    # defining name basis\n",
        "    conv_name_base = 'res' + str(stage) + block + '_branch'\n",
        "    bn_name_base = 'bn' + str(stage) + block + '_branch'\n",
        "    \n",
        "    # Retrieve Filters\n",
        "    F1, F2, F3 = filters\n",
        "    \n",
        "    # Save the input value\n",
        "    X_shortcut = X\n",
        "\n",
        "\n",
        "    ##### MAIN PATH #####\n",
        "    # First component of main path \n",
        "    X = Conv2D(F1, (1, 1), strides = (s,s), padding='valid', name = conv_name_base + '2a', kernel_initializer = glorot_uniform(seed=0))(X)\n",
        "    X = BatchNormalization(axis = 3, name = bn_name_base + '2a')(X)\n",
        "    X = Activation('relu')(X)\n",
        "    \n",
        "    ### START CODE HERE ###\n",
        "\n",
        "    # Second component of main path (≈3 lines)\n",
        "    X = Conv2D(F2, (f, f), strides = (1,1), padding='same', name = conv_name_base + '2b', kernel_initializer = glorot_uniform(seed=0))(X)\n",
        "    X = BatchNormalization(axis = 3, name = bn_name_base + '2b')(X)\n",
        "    X = Activation('relu')(X)\n",
        "\n",
        "    # Third component of main path (≈2 lines)\n",
        "    X = Conv2D(F3, (1, 1), strides = (1,1), padding='valid', name = conv_name_base + '2c', kernel_initializer = glorot_uniform(seed=0))(X)\n",
        "    X = BatchNormalization(axis = 3, name = bn_name_base + '2c')(X)\n",
        "\n",
        "    ##### SHORTCUT PATH #### (≈2 lines)\n",
        "    X_shortcut = Conv2D(F3, (1, 1), strides = (s,s), padding='valid', name = conv_name_base + '1', kernel_initializer = glorot_uniform(seed=0))(X_shortcut)\n",
        "    X_shortcut = BatchNormalization(axis = 3, name = bn_name_base + '1')(X_shortcut)\n",
        "\n",
        "    # Final step: Add shortcut value to main path, and pass it through a RELU activation (≈2 lines)\n",
        "    X = Add()([X_shortcut,X])\n",
        "    X = Activation('relu')(X)\n",
        "    \n",
        "    ### END CODE HERE ###\n",
        "    \n",
        "    return X"
      ],
      "execution_count": 0,
      "outputs": []
    },
    {
      "cell_type": "code",
      "metadata": {
        "id": "VpuT3Xcxlh6_",
        "colab_type": "code",
        "colab": {
          "base_uri": "https://localhost:8080/",
          "height": 34
        },
        "outputId": "48e7c929-71e0-4223-adaf-c71453b98c40"
      },
      "source": [
        "tf.compat.v1.reset_default_graph()\n",
        "\n",
        "with tf.compat.v1.Session() as test:\n",
        "    np.random.seed(1)\n",
        "    A_prev = tf.compat.v1.placeholder(\"float\", [3, 4, 4, 6])\n",
        "    X = np.random.randn(3, 4, 4, 6)\n",
        "    A = convolutional_block(A_prev, f = 2, filters = [2, 4, 6], stage = 1, block = 'a')\n",
        "    test.run(tf.compat.v1.global_variables_initializer())\n",
        "    out = test.run([A], feed_dict={A_prev: X, K.learning_phase(): 0})\n",
        "    print(\"out = \" + str(out[0][1][1][0]))"
      ],
      "execution_count": 21,
      "outputs": [
        {
          "output_type": "stream",
          "text": [
            "out = [0.09018461 1.2348979  0.4682202  0.03671762 0.         0.65516603]\n"
          ],
          "name": "stdout"
        }
      ]
    },
    {
      "cell_type": "markdown",
      "metadata": {
        "id": "2FjwG9Oklh7I",
        "colab_type": "text"
      },
      "source": [
        "**Expected Output**:\n",
        "\n",
        "<table>\n",
        "    <tr>\n",
        "        <td>\n",
        "            **out**\n",
        "        </td>\n",
        "        <td>\n",
        "           [ 0.09018463  1.23489773  0.46822017  0.0367176   0.          0.65516603]\n",
        "        </td>\n",
        "    </tr>\n",
        "\n",
        "</table>"
      ]
    },
    {
      "cell_type": "markdown",
      "metadata": {
        "id": "xB0aIPfdlh7K",
        "colab_type": "text"
      },
      "source": [
        "## 3 - Building your first ResNet model (50 layers)\n",
        "\n",
        "You now have the necessary blocks to build a very deep ResNet. The following figure describes in detail the architecture of this neural network. \"ID BLOCK\" in the diagram stands for \"Identity block,\" and \"ID BLOCK x3\" means you should stack 3 identity blocks together.\n",
        "\n",
        "<img src=\"images/resnet_kiank.png\" style=\"width:850px;height:150px;\">\n",
        "<caption><center> <u> <font color='purple'> **Figure 5** </u><font color='purple'>  : **ResNet-50 model** </center></caption>\n",
        "\n",
        "The details of this ResNet-50 model are:\n",
        "- Zero-padding pads the input with a pad of (3,3)\n",
        "- Stage 1:\n",
        "    - The 2D Convolution has 64 filters of shape (7,7) and uses a stride of (2,2). Its name is \"conv1\".\n",
        "    - BatchNorm is applied to the 'channels' axis of the input.\n",
        "    - MaxPooling uses a (3,3) window and a (2,2) stride.\n",
        "- Stage 2:\n",
        "    - The convolutional block uses three sets of filters of size [64,64,256], \"f\" is 3, \"s\" is 1 and the block is \"a\".\n",
        "    - The 2 identity blocks use three sets of filters of size [64,64,256], \"f\" is 3 and the blocks are \"b\" and \"c\".\n",
        "- Stage 3:\n",
        "    - The convolutional block uses three sets of filters of size [128,128,512], \"f\" is 3, \"s\" is 2 and the block is \"a\".\n",
        "    - The 3 identity blocks use three sets of filters of size [128,128,512], \"f\" is 3 and the blocks are \"b\", \"c\" and \"d\".\n",
        "- Stage 4:\n",
        "    - The convolutional block uses three sets of filters of size [256, 256, 1024], \"f\" is 3, \"s\" is 2 and the block is \"a\".\n",
        "    - The 5 identity blocks use three sets of filters of size [256, 256, 1024], \"f\" is 3 and the blocks are \"b\", \"c\", \"d\", \"e\" and \"f\".\n",
        "- Stage 5:\n",
        "    - The convolutional block uses three sets of filters of size [512, 512, 2048], \"f\" is 3, \"s\" is 2 and the block is \"a\".\n",
        "    - The 2 identity blocks use three sets of filters of size [512, 512, 2048], \"f\" is 3 and the blocks are \"b\" and \"c\".\n",
        "- The 2D Average Pooling uses a window of shape (2,2) and its name is \"avg_pool\".\n",
        "- The 'flatten' layer doesn't have any hyperparameters or name.\n",
        "- The Fully Connected (Dense) layer reduces its input to the number of classes using a softmax activation. Its name should be `'fc' + str(classes)`.\n",
        "\n",
        "**Exercise**: Implement the ResNet with 50 layers described in the figure above. We have implemented Stages 1 and 2. Please implement the rest. (The syntax for implementing Stages 3-5 should be quite similar to that of Stage 2.) Make sure you follow the naming convention in the text above. \n",
        "\n",
        "You'll need to use this function: \n",
        "- Average pooling [see reference](https://keras.io/layers/pooling/#averagepooling2d)\n",
        "\n",
        "Here are some other functions we used in the code below:\n",
        "- Conv2D: [See reference](https://keras.io/layers/convolutional/#conv2d)\n",
        "- BatchNorm: [See reference](https://keras.io/layers/normalization/#batchnormalization) (axis: Integer, the axis that should be normalized (typically the features axis))\n",
        "- Zero padding: [See reference](https://keras.io/layers/convolutional/#zeropadding2d)\n",
        "- Max pooling: [See reference](https://keras.io/layers/pooling/#maxpooling2d)\n",
        "- Fully connected layer: [See reference](https://keras.io/layers/core/#dense)\n",
        "- Addition: [See reference](https://keras.io/layers/merge/#add)"
      ]
    },
    {
      "cell_type": "code",
      "metadata": {
        "id": "2o46YrYalh7L",
        "colab_type": "code",
        "colab": {}
      },
      "source": [
        "# GRADED FUNCTION: ResNet50\n",
        "\n",
        "def ResNet50(input_shape = (64, 64, 3), classes = 6):\n",
        "    \"\"\"\n",
        "    Implementation of the popular ResNet50 the following architecture:\n",
        "    CONV2D -> BATCHNORM -> RELU -> MAXPOOL -> CONVBLOCK -> IDBLOCK*2 -> CONVBLOCK -> IDBLOCK*3\n",
        "    -> CONVBLOCK -> IDBLOCK*5 -> CONVBLOCK -> IDBLOCK*2 -> AVGPOOL -> TOPLAYER\n",
        "\n",
        "    Arguments:\n",
        "    input_shape -- shape of the images of the dataset\n",
        "    classes -- integer, number of classes\n",
        "\n",
        "    Returns:\n",
        "    model -- a Model() instance in Keras\n",
        "    \"\"\"\n",
        "    \n",
        "    # Define the input as a tensor with shape input_shape\n",
        "    X_input = Input(input_shape)\n",
        "\n",
        "    \n",
        "    # Zero-Padding\n",
        "    X = ZeroPadding2D((3, 3))(X_input)\n",
        "    \n",
        "    # Stage 1\n",
        "    X = Conv2D(64, (7, 7), strides = (2, 2), name = 'conv1', kernel_initializer = glorot_uniform(seed=0))(X)\n",
        "    X = BatchNormalization(axis = 3, name = 'bn_conv1')(X)\n",
        "    X = Activation('relu')(X)\n",
        "    X = MaxPooling2D((3, 3), strides=(2, 2))(X)\n",
        "\n",
        "    # Stage 2\n",
        "    X = convolutional_block(X, f = 3, filters = [64, 64, 256], stage = 2, block='a', s = 1)\n",
        "    X = identity_block(X, 3, [64, 64, 256], stage=2, block='b')\n",
        "    X = identity_block(X, 3, [64, 64, 256], stage=2, block='c')\n",
        "\n",
        "    ### START CODE HERE ###\n",
        "\n",
        "    # Stage 3 (≈4 lines)\n",
        "    X = convolutional_block(X, f = 3, filters = [128, 128, 512], stage = 3, block='a', s = 2)\n",
        "    X = identity_block(X, 3, [128, 128, 512], stage=3, block='b')\n",
        "    X = identity_block(X, 3, [128, 128, 512], stage=3, block='c')\n",
        "    X = identity_block(X, 3, [128, 128, 512], stage=3, block='d')\n",
        "\n",
        "    # Stage 4 (≈6 lines)\n",
        "    X = convolutional_block(X, f = 3, filters = [256, 256, 1024], stage = 4, block='a', s = 2)\n",
        "    X = identity_block(X, 3, [256, 256, 1024], stage=4, block='b')\n",
        "    X = identity_block(X, 3, [256, 256, 1024], stage=4, block='c')\n",
        "    X = identity_block(X, 3, [256, 256, 1024], stage=4, block='d')\n",
        "    X = identity_block(X, 3, [256, 256, 1024], stage=4, block='e')\n",
        "    X = identity_block(X, 3, [256, 256, 1024], stage=4, block='f')\n",
        "\n",
        "    # Stage 5 (≈3 lines)\n",
        "    X = convolutional_block(X, f = 3, filters = [512, 512, 2048], stage = 5, block='a', s = 2)\n",
        "    X = identity_block(X, 3, [512, 512, 2048], stage=5, block='b')\n",
        "    X = identity_block(X, 3, [512, 512, 2048], stage=5, block='c')\n",
        "\n",
        "    # AVGPOOL (≈1 line). Use \"X = AveragePooling2D(...)(X)\"\n",
        "    X = AveragePooling2D((2,2),name='avg_pool')(X)\n",
        "    \n",
        "    ### END CODE HERE ###\n",
        "\n",
        "    # output layer\n",
        "    X = Flatten()(X)\n",
        "    X = Dense(classes, activation='softmax', name='fc' + str(classes), kernel_initializer = glorot_uniform(seed=0))(X)\n",
        "    \n",
        "    \n",
        "    # Create model\n",
        "    model = Model(inputs = X_input, outputs = X, name='ResNet50')\n",
        "\n",
        "    return model"
      ],
      "execution_count": 0,
      "outputs": []
    },
    {
      "cell_type": "markdown",
      "metadata": {
        "id": "Dcq15L49lh7T",
        "colab_type": "text"
      },
      "source": [
        "Run the following code to build the model's graph. If your implementation is not correct you will know it by checking your accuracy when running `model.fit(...)` below."
      ]
    },
    {
      "cell_type": "code",
      "metadata": {
        "id": "Aju6A_Ymlh7U",
        "colab_type": "code",
        "colab": {}
      },
      "source": [
        "model = ResNet50(input_shape = (64, 64, 3), classes = 6)"
      ],
      "execution_count": 0,
      "outputs": []
    },
    {
      "cell_type": "markdown",
      "metadata": {
        "id": "rzigdDhWlh7b",
        "colab_type": "text"
      },
      "source": [
        "As seen in the Keras Tutorial Notebook, prior training a model, you need to configure the learning process by compiling the model."
      ]
    },
    {
      "cell_type": "code",
      "metadata": {
        "id": "zd3cxC4-lh7c",
        "colab_type": "code",
        "colab": {}
      },
      "source": [
        "model.compile(optimizer='adam', loss='categorical_crossentropy', metrics=['accuracy'])"
      ],
      "execution_count": 0,
      "outputs": []
    },
    {
      "cell_type": "markdown",
      "metadata": {
        "id": "b_HgoiRUlh7k",
        "colab_type": "text"
      },
      "source": [
        "The model is now ready to be trained. The only thing you need is a dataset."
      ]
    },
    {
      "cell_type": "markdown",
      "metadata": {
        "id": "YKhzdXMVlh7n",
        "colab_type": "text"
      },
      "source": [
        "Let's load the SIGNS Dataset.\n",
        "\n",
        "<img src=\"images/signs_data_kiank.png\" style=\"width:450px;height:250px;\">\n",
        "<caption><center> <u> <font color='purple'> **Figure 6** </u><font color='purple'>  : **SIGNS dataset** </center></caption>\n"
      ]
    },
    {
      "cell_type": "code",
      "metadata": {
        "scrolled": true,
        "id": "DvXfIrRelh7q",
        "colab_type": "code",
        "colab": {
          "base_uri": "https://localhost:8080/",
          "height": 119
        },
        "outputId": "6dd1823e-f11c-4260-f704-47bd96f972f6"
      },
      "source": [
        "X_train_orig, Y_train_orig, X_test_orig, Y_test_orig, classes = load_dataset()\n",
        "\n",
        "# Normalize image vectors\n",
        "X_train = X_train_orig/255.\n",
        "X_test = X_test_orig/255.\n",
        "\n",
        "# Convert training and test labels to one hot matrices\n",
        "Y_train = convert_to_one_hot(Y_train_orig, 6).T\n",
        "Y_test = convert_to_one_hot(Y_test_orig, 6).T\n",
        "\n",
        "print (\"number of training examples = \" + str(X_train.shape[0]))\n",
        "print (\"number of test examples = \" + str(X_test.shape[0]))\n",
        "print (\"X_train shape: \" + str(X_train.shape))\n",
        "print (\"Y_train shape: \" + str(Y_train.shape))\n",
        "print (\"X_test shape: \" + str(X_test.shape))\n",
        "print (\"Y_test shape: \" + str(Y_test.shape))"
      ],
      "execution_count": 22,
      "outputs": [
        {
          "output_type": "stream",
          "text": [
            "number of training examples = 1080\n",
            "number of test examples = 120\n",
            "X_train shape: (1080, 64, 64, 3)\n",
            "Y_train shape: (1080, 6)\n",
            "X_test shape: (120, 64, 64, 3)\n",
            "Y_test shape: (120, 6)\n"
          ],
          "name": "stdout"
        }
      ]
    },
    {
      "cell_type": "code",
      "metadata": {
        "id": "Ukh8PIHNq2gR",
        "colab_type": "code",
        "colab": {}
      },
      "source": [
        "model.fit(X_train, Y_train, epochs = 20, batch_size = 32)"
      ],
      "execution_count": 0,
      "outputs": []
    },
    {
      "cell_type": "code",
      "metadata": {
        "id": "rZ4rICexrGOI",
        "colab_type": "code",
        "colab": {
          "base_uri": "https://localhost:8080/",
          "height": 34
        },
        "outputId": "eddbdc81-dc51-419b-9686-b579bf636ae5"
      },
      "source": [
        "%tensorflow_version 2.x\n",
        "import tensorflow as tf\n",
        "device_name = tf.test.gpu_device_name()\n",
        "if device_name != '/device:GPU:0':\n",
        "  raise SystemError('GPU device not found')\n",
        "print('Found GPU at: {}'.format(device_name))"
      ],
      "execution_count": 1,
      "outputs": [
        {
          "output_type": "stream",
          "text": [
            "Found GPU at: /device:GPU:0\n"
          ],
          "name": "stdout"
        }
      ]
    },
    {
      "cell_type": "markdown",
      "metadata": {
        "id": "2lqam4Gxlh7x",
        "colab_type": "text"
      },
      "source": [
        "Run the following cell to train your model on 2 epochs with a batch size of 32. On a CPU it should take you around 5min per epoch. "
      ]
    },
    {
      "cell_type": "code",
      "metadata": {
        "scrolled": false,
        "id": "rpqUVkNulh7y",
        "colab_type": "code",
        "colab": {
          "base_uri": "https://localhost:8080/",
          "height": 697
        },
        "outputId": "fd2757d5-e763-41be-a7d6-5f3cdcd8b6bd"
      },
      "source": [
        "with tf.device('/device:GPU:0'):\n",
        "  model.fit(X_train, Y_train, epochs = 20, batch_size = 32)"
      ],
      "execution_count": 28,
      "outputs": [
        {
          "output_type": "stream",
          "text": [
            "Epoch 1/20\n",
            "1080/1080 [==============================] - 3s 3ms/step - loss: 0.0566 - accuracy: 0.9806\n",
            "Epoch 2/20\n",
            "1080/1080 [==============================] - 3s 3ms/step - loss: 0.0734 - accuracy: 0.9806\n",
            "Epoch 3/20\n",
            "1080/1080 [==============================] - 3s 3ms/step - loss: 0.0889 - accuracy: 0.9759\n",
            "Epoch 4/20\n",
            "1080/1080 [==============================] - 3s 3ms/step - loss: 0.0603 - accuracy: 0.9843\n",
            "Epoch 5/20\n",
            "1080/1080 [==============================] - 3s 3ms/step - loss: 0.0173 - accuracy: 0.9954\n",
            "Epoch 6/20\n",
            "1080/1080 [==============================] - 3s 3ms/step - loss: 0.0040 - accuracy: 0.9981\n",
            "Epoch 7/20\n",
            "1080/1080 [==============================] - 3s 3ms/step - loss: 0.0031 - accuracy: 0.9991\n",
            "Epoch 8/20\n",
            "1080/1080 [==============================] - 3s 3ms/step - loss: 9.0118e-04 - accuracy: 1.0000\n",
            "Epoch 9/20\n",
            "1080/1080 [==============================] - 3s 3ms/step - loss: 1.4619e-04 - accuracy: 1.0000\n",
            "Epoch 10/20\n",
            "1080/1080 [==============================] - 3s 3ms/step - loss: 2.4977e-04 - accuracy: 1.0000\n",
            "Epoch 11/20\n",
            "1080/1080 [==============================] - 3s 3ms/step - loss: 6.3224e-04 - accuracy: 1.0000\n",
            "Epoch 12/20\n",
            "1080/1080 [==============================] - 3s 3ms/step - loss: 1.9015e-04 - accuracy: 1.0000\n",
            "Epoch 13/20\n",
            "1080/1080 [==============================] - 3s 3ms/step - loss: 2.4909e-04 - accuracy: 1.0000\n",
            "Epoch 14/20\n",
            "1080/1080 [==============================] - 3s 3ms/step - loss: 3.8469e-04 - accuracy: 1.0000\n",
            "Epoch 15/20\n",
            "1080/1080 [==============================] - 3s 3ms/step - loss: 1.9322e-04 - accuracy: 1.0000\n",
            "Epoch 16/20\n",
            "1080/1080 [==============================] - 3s 3ms/step - loss: 1.2318e-04 - accuracy: 1.0000\n",
            "Epoch 17/20\n",
            "1080/1080 [==============================] - 3s 3ms/step - loss: 1.9965e-04 - accuracy: 1.0000\n",
            "Epoch 18/20\n",
            "1080/1080 [==============================] - 3s 3ms/step - loss: 6.6442e-05 - accuracy: 1.0000\n",
            "Epoch 19/20\n",
            "1080/1080 [==============================] - 3s 3ms/step - loss: 1.4069e-04 - accuracy: 1.0000\n",
            "Epoch 20/20\n",
            "1080/1080 [==============================] - 3s 3ms/step - loss: 7.0988e-05 - accuracy: 1.0000\n"
          ],
          "name": "stdout"
        }
      ]
    },
    {
      "cell_type": "markdown",
      "metadata": {
        "id": "lyFyfERalh78",
        "colab_type": "text"
      },
      "source": [
        "**Expected Output**:\n",
        "\n",
        "<table>\n",
        "    <tr>\n",
        "        <td>\n",
        "            ** Epoch 1/2**\n",
        "        </td>\n",
        "        <td>\n",
        "           loss: between 1 and 5, acc: between 0.2 and 0.5, although your results can be different from ours.\n",
        "        </td>\n",
        "    </tr>\n",
        "    <tr>\n",
        "        <td>\n",
        "            ** Epoch 2/2**\n",
        "        </td>\n",
        "        <td>\n",
        "           loss: between 1 and 5, acc: between 0.2 and 0.5, you should see your loss decreasing and the accuracy increasing.\n",
        "        </td>\n",
        "    </tr>\n",
        "\n",
        "</table>"
      ]
    },
    {
      "cell_type": "markdown",
      "metadata": {
        "id": "1IgCJI_Jlh79",
        "colab_type": "text"
      },
      "source": [
        "Let's see how this model (trained on only two epochs) performs on the test set."
      ]
    },
    {
      "cell_type": "code",
      "metadata": {
        "scrolled": true,
        "id": "XB9LQtStlh7-",
        "colab_type": "code",
        "colab": {
          "base_uri": "https://localhost:8080/",
          "height": 68
        },
        "outputId": "685748c5-6c7c-42aa-b7b2-a5f00979f73d"
      },
      "source": [
        "preds = model.evaluate(X_test, Y_test)\n",
        "print (\"Loss = \" + str(preds[0]))\n",
        "print (\"Test Accuracy = \" + str(preds[1]))"
      ],
      "execution_count": 29,
      "outputs": [
        {
          "output_type": "stream",
          "text": [
            "120/120 [==============================] - 0s 638us/step\n",
            "Loss = 0.09959908274856086\n",
            "Test Accuracy = 0.9833333492279053\n"
          ],
          "name": "stdout"
        }
      ]
    },
    {
      "cell_type": "markdown",
      "metadata": {
        "id": "yZLOfidTlh8E",
        "colab_type": "text"
      },
      "source": [
        "**Expected Output**:\n",
        "\n",
        "<table>\n",
        "    <tr>\n",
        "        <td>\n",
        "            **Test Accuracy**\n",
        "        </td>\n",
        "        <td>\n",
        "           between 0.16 and 0.25\n",
        "        </td>\n",
        "    </tr>\n",
        "\n",
        "</table>"
      ]
    },
    {
      "cell_type": "markdown",
      "metadata": {
        "id": "HURJe6-llh8G",
        "colab_type": "text"
      },
      "source": [
        "For the purpose of this assignment, we've asked you to train the model for just two epochs. You can see that it achieves poor performances. Please go ahead and submit your assignment; to check correctness, the online grader will run your code only for a small number of epochs as well."
      ]
    },
    {
      "cell_type": "markdown",
      "metadata": {
        "id": "vhZpDiGTlh8I",
        "colab_type": "text"
      },
      "source": [
        "After you have finished this official (graded) part of this assignment, you can also optionally train the ResNet for more iterations, if you want. We get a lot better performance when we train for ~20 epochs, but this will take more than an hour when training on a CPU. \n",
        "\n",
        "Using a GPU, we've trained our own ResNet50 model's weights on the SIGNS dataset. You can load and run our trained model on the test set in the cells below. It may take ≈1min to load the model."
      ]
    },
    {
      "cell_type": "code",
      "metadata": {
        "id": "-VK-uJqwlh8J",
        "colab_type": "code",
        "colab": {
          "base_uri": "https://localhost:8080/",
          "height": 408
        },
        "outputId": "bb717405-4785-426a-f44b-c737a38a9561"
      },
      "source": [
        "model = load_model('ResNet50.h5') "
      ],
      "execution_count": 27,
      "outputs": [
        {
          "output_type": "error",
          "ename": "OSError",
          "evalue": "ignored",
          "traceback": [
            "\u001b[0;31m---------------------------------------------------------------------------\u001b[0m",
            "\u001b[0;31mOSError\u001b[0m                                   Traceback (most recent call last)",
            "\u001b[0;32m<ipython-input-27-65db21b7dfed>\u001b[0m in \u001b[0;36m<module>\u001b[0;34m()\u001b[0m\n\u001b[0;32m----> 1\u001b[0;31m \u001b[0mmodel\u001b[0m \u001b[0;34m=\u001b[0m \u001b[0mload_model\u001b[0m\u001b[0;34m(\u001b[0m\u001b[0;34m'ResNet50.h5'\u001b[0m\u001b[0;34m)\u001b[0m\u001b[0;34m\u001b[0m\u001b[0;34m\u001b[0m\u001b[0m\n\u001b[0m",
            "\u001b[0;32m/usr/local/lib/python3.6/dist-packages/keras/engine/saving.py\u001b[0m in \u001b[0;36mload_wrapper\u001b[0;34m(*args, **kwargs)\u001b[0m\n\u001b[1;32m    490\u001b[0m                 \u001b[0mos\u001b[0m\u001b[0;34m.\u001b[0m\u001b[0mremove\u001b[0m\u001b[0;34m(\u001b[0m\u001b[0mtmp_filepath\u001b[0m\u001b[0;34m)\u001b[0m\u001b[0;34m\u001b[0m\u001b[0;34m\u001b[0m\u001b[0m\n\u001b[1;32m    491\u001b[0m             \u001b[0;32mreturn\u001b[0m \u001b[0mres\u001b[0m\u001b[0;34m\u001b[0m\u001b[0;34m\u001b[0m\u001b[0m\n\u001b[0;32m--> 492\u001b[0;31m         \u001b[0;32mreturn\u001b[0m \u001b[0mload_function\u001b[0m\u001b[0;34m(\u001b[0m\u001b[0;34m*\u001b[0m\u001b[0margs\u001b[0m\u001b[0;34m,\u001b[0m \u001b[0;34m**\u001b[0m\u001b[0mkwargs\u001b[0m\u001b[0;34m)\u001b[0m\u001b[0;34m\u001b[0m\u001b[0;34m\u001b[0m\u001b[0m\n\u001b[0m\u001b[1;32m    493\u001b[0m \u001b[0;34m\u001b[0m\u001b[0m\n\u001b[1;32m    494\u001b[0m     \u001b[0;32mreturn\u001b[0m \u001b[0mload_wrapper\u001b[0m\u001b[0;34m\u001b[0m\u001b[0;34m\u001b[0m\u001b[0m\n",
            "\u001b[0;32m/usr/local/lib/python3.6/dist-packages/keras/engine/saving.py\u001b[0m in \u001b[0;36mload_model\u001b[0;34m(filepath, custom_objects, compile)\u001b[0m\n\u001b[1;32m    581\u001b[0m \u001b[0;34m\u001b[0m\u001b[0m\n\u001b[1;32m    582\u001b[0m     \u001b[0;32mif\u001b[0m \u001b[0mH5Dict\u001b[0m\u001b[0;34m.\u001b[0m\u001b[0mis_supported_type\u001b[0m\u001b[0;34m(\u001b[0m\u001b[0mfilepath\u001b[0m\u001b[0;34m)\u001b[0m\u001b[0;34m:\u001b[0m\u001b[0;34m\u001b[0m\u001b[0;34m\u001b[0m\u001b[0m\n\u001b[0;32m--> 583\u001b[0;31m         \u001b[0;32mwith\u001b[0m \u001b[0mH5Dict\u001b[0m\u001b[0;34m(\u001b[0m\u001b[0mfilepath\u001b[0m\u001b[0;34m,\u001b[0m \u001b[0mmode\u001b[0m\u001b[0;34m=\u001b[0m\u001b[0;34m'r'\u001b[0m\u001b[0;34m)\u001b[0m \u001b[0;32mas\u001b[0m \u001b[0mh5dict\u001b[0m\u001b[0;34m:\u001b[0m\u001b[0;34m\u001b[0m\u001b[0;34m\u001b[0m\u001b[0m\n\u001b[0m\u001b[1;32m    584\u001b[0m             \u001b[0mmodel\u001b[0m \u001b[0;34m=\u001b[0m \u001b[0m_deserialize_model\u001b[0m\u001b[0;34m(\u001b[0m\u001b[0mh5dict\u001b[0m\u001b[0;34m,\u001b[0m \u001b[0mcustom_objects\u001b[0m\u001b[0;34m,\u001b[0m \u001b[0mcompile\u001b[0m\u001b[0;34m)\u001b[0m\u001b[0;34m\u001b[0m\u001b[0;34m\u001b[0m\u001b[0m\n\u001b[1;32m    585\u001b[0m     \u001b[0;32melif\u001b[0m \u001b[0mhasattr\u001b[0m\u001b[0;34m(\u001b[0m\u001b[0mfilepath\u001b[0m\u001b[0;34m,\u001b[0m \u001b[0;34m'write'\u001b[0m\u001b[0;34m)\u001b[0m \u001b[0;32mand\u001b[0m \u001b[0mcallable\u001b[0m\u001b[0;34m(\u001b[0m\u001b[0mfilepath\u001b[0m\u001b[0;34m.\u001b[0m\u001b[0mwrite\u001b[0m\u001b[0;34m)\u001b[0m\u001b[0;34m:\u001b[0m\u001b[0;34m\u001b[0m\u001b[0;34m\u001b[0m\u001b[0m\n",
            "\u001b[0;32m/usr/local/lib/python3.6/dist-packages/keras/utils/io_utils.py\u001b[0m in \u001b[0;36m__init__\u001b[0;34m(self, path, mode)\u001b[0m\n\u001b[1;32m    189\u001b[0m             \u001b[0mself\u001b[0m\u001b[0;34m.\u001b[0m\u001b[0m_is_file\u001b[0m \u001b[0;34m=\u001b[0m \u001b[0;32mFalse\u001b[0m\u001b[0;34m\u001b[0m\u001b[0;34m\u001b[0m\u001b[0m\n\u001b[1;32m    190\u001b[0m         \u001b[0;32melif\u001b[0m \u001b[0misinstance\u001b[0m\u001b[0;34m(\u001b[0m\u001b[0mpath\u001b[0m\u001b[0;34m,\u001b[0m \u001b[0msix\u001b[0m\u001b[0;34m.\u001b[0m\u001b[0mstring_types\u001b[0m\u001b[0;34m)\u001b[0m \u001b[0;32mor\u001b[0m \u001b[0m_is_path_instance\u001b[0m\u001b[0;34m(\u001b[0m\u001b[0mpath\u001b[0m\u001b[0;34m)\u001b[0m\u001b[0;34m:\u001b[0m\u001b[0;34m\u001b[0m\u001b[0;34m\u001b[0m\u001b[0m\n\u001b[0;32m--> 191\u001b[0;31m             \u001b[0mself\u001b[0m\u001b[0;34m.\u001b[0m\u001b[0mdata\u001b[0m \u001b[0;34m=\u001b[0m \u001b[0mh5py\u001b[0m\u001b[0;34m.\u001b[0m\u001b[0mFile\u001b[0m\u001b[0;34m(\u001b[0m\u001b[0mpath\u001b[0m\u001b[0;34m,\u001b[0m \u001b[0mmode\u001b[0m\u001b[0;34m=\u001b[0m\u001b[0mmode\u001b[0m\u001b[0;34m)\u001b[0m\u001b[0;34m\u001b[0m\u001b[0;34m\u001b[0m\u001b[0m\n\u001b[0m\u001b[1;32m    192\u001b[0m             \u001b[0mself\u001b[0m\u001b[0;34m.\u001b[0m\u001b[0m_is_file\u001b[0m \u001b[0;34m=\u001b[0m \u001b[0;32mTrue\u001b[0m\u001b[0;34m\u001b[0m\u001b[0;34m\u001b[0m\u001b[0m\n\u001b[1;32m    193\u001b[0m         \u001b[0;32melif\u001b[0m \u001b[0misinstance\u001b[0m\u001b[0;34m(\u001b[0m\u001b[0mpath\u001b[0m\u001b[0;34m,\u001b[0m \u001b[0mdict\u001b[0m\u001b[0;34m)\u001b[0m\u001b[0;34m:\u001b[0m\u001b[0;34m\u001b[0m\u001b[0;34m\u001b[0m\u001b[0m\n",
            "\u001b[0;32m/usr/local/lib/python3.6/dist-packages/h5py/_hl/files.py\u001b[0m in \u001b[0;36m__init__\u001b[0;34m(self, name, mode, driver, libver, userblock_size, swmr, rdcc_nslots, rdcc_nbytes, rdcc_w0, track_order, **kwds)\u001b[0m\n\u001b[1;32m    406\u001b[0m                 fid = make_fid(name, mode, userblock_size,\n\u001b[1;32m    407\u001b[0m                                \u001b[0mfapl\u001b[0m\u001b[0;34m,\u001b[0m \u001b[0mfcpl\u001b[0m\u001b[0;34m=\u001b[0m\u001b[0mmake_fcpl\u001b[0m\u001b[0;34m(\u001b[0m\u001b[0mtrack_order\u001b[0m\u001b[0;34m=\u001b[0m\u001b[0mtrack_order\u001b[0m\u001b[0;34m)\u001b[0m\u001b[0;34m,\u001b[0m\u001b[0;34m\u001b[0m\u001b[0;34m\u001b[0m\u001b[0m\n\u001b[0;32m--> 408\u001b[0;31m                                swmr=swmr)\n\u001b[0m\u001b[1;32m    409\u001b[0m \u001b[0;34m\u001b[0m\u001b[0m\n\u001b[1;32m    410\u001b[0m             \u001b[0;32mif\u001b[0m \u001b[0misinstance\u001b[0m\u001b[0;34m(\u001b[0m\u001b[0mlibver\u001b[0m\u001b[0;34m,\u001b[0m \u001b[0mtuple\u001b[0m\u001b[0;34m)\u001b[0m\u001b[0;34m:\u001b[0m\u001b[0;34m\u001b[0m\u001b[0;34m\u001b[0m\u001b[0m\n",
            "\u001b[0;32m/usr/local/lib/python3.6/dist-packages/h5py/_hl/files.py\u001b[0m in \u001b[0;36mmake_fid\u001b[0;34m(name, mode, userblock_size, fapl, fcpl, swmr)\u001b[0m\n\u001b[1;32m    171\u001b[0m         \u001b[0;32mif\u001b[0m \u001b[0mswmr\u001b[0m \u001b[0;32mand\u001b[0m \u001b[0mswmr_support\u001b[0m\u001b[0;34m:\u001b[0m\u001b[0;34m\u001b[0m\u001b[0;34m\u001b[0m\u001b[0m\n\u001b[1;32m    172\u001b[0m             \u001b[0mflags\u001b[0m \u001b[0;34m|=\u001b[0m \u001b[0mh5f\u001b[0m\u001b[0;34m.\u001b[0m\u001b[0mACC_SWMR_READ\u001b[0m\u001b[0;34m\u001b[0m\u001b[0;34m\u001b[0m\u001b[0m\n\u001b[0;32m--> 173\u001b[0;31m         \u001b[0mfid\u001b[0m \u001b[0;34m=\u001b[0m \u001b[0mh5f\u001b[0m\u001b[0;34m.\u001b[0m\u001b[0mopen\u001b[0m\u001b[0;34m(\u001b[0m\u001b[0mname\u001b[0m\u001b[0;34m,\u001b[0m \u001b[0mflags\u001b[0m\u001b[0;34m,\u001b[0m \u001b[0mfapl\u001b[0m\u001b[0;34m=\u001b[0m\u001b[0mfapl\u001b[0m\u001b[0;34m)\u001b[0m\u001b[0;34m\u001b[0m\u001b[0;34m\u001b[0m\u001b[0m\n\u001b[0m\u001b[1;32m    174\u001b[0m     \u001b[0;32melif\u001b[0m \u001b[0mmode\u001b[0m \u001b[0;34m==\u001b[0m \u001b[0;34m'r+'\u001b[0m\u001b[0;34m:\u001b[0m\u001b[0;34m\u001b[0m\u001b[0;34m\u001b[0m\u001b[0m\n\u001b[1;32m    175\u001b[0m         \u001b[0mfid\u001b[0m \u001b[0;34m=\u001b[0m \u001b[0mh5f\u001b[0m\u001b[0;34m.\u001b[0m\u001b[0mopen\u001b[0m\u001b[0;34m(\u001b[0m\u001b[0mname\u001b[0m\u001b[0;34m,\u001b[0m \u001b[0mh5f\u001b[0m\u001b[0;34m.\u001b[0m\u001b[0mACC_RDWR\u001b[0m\u001b[0;34m,\u001b[0m \u001b[0mfapl\u001b[0m\u001b[0;34m=\u001b[0m\u001b[0mfapl\u001b[0m\u001b[0;34m)\u001b[0m\u001b[0;34m\u001b[0m\u001b[0;34m\u001b[0m\u001b[0m\n",
            "\u001b[0;32mh5py/_objects.pyx\u001b[0m in \u001b[0;36mh5py._objects.with_phil.wrapper\u001b[0;34m()\u001b[0m\n",
            "\u001b[0;32mh5py/_objects.pyx\u001b[0m in \u001b[0;36mh5py._objects.with_phil.wrapper\u001b[0;34m()\u001b[0m\n",
            "\u001b[0;32mh5py/h5f.pyx\u001b[0m in \u001b[0;36mh5py.h5f.open\u001b[0;34m()\u001b[0m\n",
            "\u001b[0;31mOSError\u001b[0m: Unable to open file (unable to open file: name = 'ResNet50.h5', errno = 2, error message = 'No such file or directory', flags = 0, o_flags = 0)"
          ]
        }
      ]
    },
    {
      "cell_type": "code",
      "metadata": {
        "scrolled": true,
        "id": "V6nXr199lh8Q",
        "colab_type": "code",
        "colab": {
          "base_uri": "https://localhost:8080/",
          "height": 68
        },
        "outputId": "d18c0b35-e3fa-494f-c289-79b7db8001d4"
      },
      "source": [
        "preds = model.evaluate(X_test, Y_test)\n",
        "print (\"Loss = \" + str(preds[0]))\n",
        "print (\"Test Accuracy = \" + str(preds[1]))"
      ],
      "execution_count": 30,
      "outputs": [
        {
          "output_type": "stream",
          "text": [
            "120/120 [==============================] - 0s 649us/step\n",
            "Loss = 0.09959908274856086\n",
            "Test Accuracy = 0.9833333492279053\n"
          ],
          "name": "stdout"
        }
      ]
    },
    {
      "cell_type": "markdown",
      "metadata": {
        "id": "vLLebnqilh8W",
        "colab_type": "text"
      },
      "source": [
        "ResNet50 is a powerful model for image classification when it is trained for an adequate number of iterations. We hope you can use what you've learnt and apply it to your own classification problem to perform state-of-the-art accuracy.\n",
        "\n",
        "Congratulations on finishing this assignment! You've now implemented a state-of-the-art image classification system! "
      ]
    },
    {
      "cell_type": "markdown",
      "metadata": {
        "id": "Fw5KYBbdlh8X",
        "colab_type": "text"
      },
      "source": [
        "## 4 - Test on your own image (Optional/Ungraded)"
      ]
    },
    {
      "cell_type": "markdown",
      "metadata": {
        "id": "oL3ENXuIlh8Y",
        "colab_type": "text"
      },
      "source": [
        "If you wish, you can also take a picture of your own hand and see the output of the model. To do this:\n",
        "    1. Click on \"File\" in the upper bar of this notebook, then click \"Open\" to go on your Coursera Hub.\n",
        "    2. Add your image to this Jupyter Notebook's directory, in the \"images\" folder\n",
        "    3. Write your image's name in the following code\n",
        "    4. Run the code and check if the algorithm is right! "
      ]
    },
    {
      "cell_type": "code",
      "metadata": {
        "id": "5FPZUV-tlh8Z",
        "colab_type": "code",
        "colab": {
          "base_uri": "https://localhost:8080/",
          "height": 374
        },
        "outputId": "18817c41-254d-4d6b-e33f-dbdce9866ce7"
      },
      "source": [
        "img_path = 'images/my_image.jpg'\n",
        "img = image.load_img(img_path, target_size=(64, 64))\n",
        "x = image.img_to_array(img)\n",
        "x = np.expand_dims(x, axis=0)\n",
        "x = x/255.0\n",
        "print('Input image shape:', x.shape)\n",
        "my_image = scipy.misc.imread(img_path)\n",
        "imshow(my_image)\n",
        "print(\"class prediction vector [p(0), p(1), p(2), p(3), p(4), p(5)] = \")\n",
        "print(model.predict(x))"
      ],
      "execution_count": 31,
      "outputs": [
        {
          "output_type": "error",
          "ename": "FileNotFoundError",
          "evalue": "ignored",
          "traceback": [
            "\u001b[0;31m---------------------------------------------------------------------------\u001b[0m",
            "\u001b[0;31mFileNotFoundError\u001b[0m                         Traceback (most recent call last)",
            "\u001b[0;32m<ipython-input-31-0886e18837a0>\u001b[0m in \u001b[0;36m<module>\u001b[0;34m()\u001b[0m\n\u001b[1;32m      1\u001b[0m \u001b[0mimg_path\u001b[0m \u001b[0;34m=\u001b[0m \u001b[0;34m'images/my_image.jpg'\u001b[0m\u001b[0;34m\u001b[0m\u001b[0;34m\u001b[0m\u001b[0m\n\u001b[0;32m----> 2\u001b[0;31m \u001b[0mimg\u001b[0m \u001b[0;34m=\u001b[0m \u001b[0mimage\u001b[0m\u001b[0;34m.\u001b[0m\u001b[0mload_img\u001b[0m\u001b[0;34m(\u001b[0m\u001b[0mimg_path\u001b[0m\u001b[0;34m,\u001b[0m \u001b[0mtarget_size\u001b[0m\u001b[0;34m=\u001b[0m\u001b[0;34m(\u001b[0m\u001b[0;36m64\u001b[0m\u001b[0;34m,\u001b[0m \u001b[0;36m64\u001b[0m\u001b[0;34m)\u001b[0m\u001b[0;34m)\u001b[0m\u001b[0;34m\u001b[0m\u001b[0;34m\u001b[0m\u001b[0m\n\u001b[0m\u001b[1;32m      3\u001b[0m \u001b[0mx\u001b[0m \u001b[0;34m=\u001b[0m \u001b[0mimage\u001b[0m\u001b[0;34m.\u001b[0m\u001b[0mimg_to_array\u001b[0m\u001b[0;34m(\u001b[0m\u001b[0mimg\u001b[0m\u001b[0;34m)\u001b[0m\u001b[0;34m\u001b[0m\u001b[0;34m\u001b[0m\u001b[0m\n\u001b[1;32m      4\u001b[0m \u001b[0mx\u001b[0m \u001b[0;34m=\u001b[0m \u001b[0mnp\u001b[0m\u001b[0;34m.\u001b[0m\u001b[0mexpand_dims\u001b[0m\u001b[0;34m(\u001b[0m\u001b[0mx\u001b[0m\u001b[0;34m,\u001b[0m \u001b[0maxis\u001b[0m\u001b[0;34m=\u001b[0m\u001b[0;36m0\u001b[0m\u001b[0;34m)\u001b[0m\u001b[0;34m\u001b[0m\u001b[0;34m\u001b[0m\u001b[0m\n\u001b[1;32m      5\u001b[0m \u001b[0mx\u001b[0m \u001b[0;34m=\u001b[0m \u001b[0mx\u001b[0m\u001b[0;34m/\u001b[0m\u001b[0;36m255.0\u001b[0m\u001b[0;34m\u001b[0m\u001b[0;34m\u001b[0m\u001b[0m\n",
            "\u001b[0;32m/usr/local/lib/python3.6/dist-packages/keras_preprocessing/image/utils.py\u001b[0m in \u001b[0;36mload_img\u001b[0;34m(path, grayscale, color_mode, target_size, interpolation)\u001b[0m\n\u001b[1;32m    108\u001b[0m         raise ImportError('Could not import PIL.Image. '\n\u001b[1;32m    109\u001b[0m                           'The use of `load_img` requires PIL.')\n\u001b[0;32m--> 110\u001b[0;31m     \u001b[0mimg\u001b[0m \u001b[0;34m=\u001b[0m \u001b[0mpil_image\u001b[0m\u001b[0;34m.\u001b[0m\u001b[0mopen\u001b[0m\u001b[0;34m(\u001b[0m\u001b[0mpath\u001b[0m\u001b[0;34m)\u001b[0m\u001b[0;34m\u001b[0m\u001b[0;34m\u001b[0m\u001b[0m\n\u001b[0m\u001b[1;32m    111\u001b[0m     \u001b[0;32mif\u001b[0m \u001b[0mcolor_mode\u001b[0m \u001b[0;34m==\u001b[0m \u001b[0;34m'grayscale'\u001b[0m\u001b[0;34m:\u001b[0m\u001b[0;34m\u001b[0m\u001b[0;34m\u001b[0m\u001b[0m\n\u001b[1;32m    112\u001b[0m         \u001b[0;32mif\u001b[0m \u001b[0mimg\u001b[0m\u001b[0;34m.\u001b[0m\u001b[0mmode\u001b[0m \u001b[0;34m!=\u001b[0m \u001b[0;34m'L'\u001b[0m\u001b[0;34m:\u001b[0m\u001b[0;34m\u001b[0m\u001b[0;34m\u001b[0m\u001b[0m\n",
            "\u001b[0;32m/usr/local/lib/python3.6/dist-packages/PIL/Image.py\u001b[0m in \u001b[0;36mopen\u001b[0;34m(fp, mode)\u001b[0m\n\u001b[1;32m   2807\u001b[0m \u001b[0;34m\u001b[0m\u001b[0m\n\u001b[1;32m   2808\u001b[0m     \u001b[0;32mif\u001b[0m \u001b[0mfilename\u001b[0m\u001b[0;34m:\u001b[0m\u001b[0;34m\u001b[0m\u001b[0;34m\u001b[0m\u001b[0m\n\u001b[0;32m-> 2809\u001b[0;31m         \u001b[0mfp\u001b[0m \u001b[0;34m=\u001b[0m \u001b[0mbuiltins\u001b[0m\u001b[0;34m.\u001b[0m\u001b[0mopen\u001b[0m\u001b[0;34m(\u001b[0m\u001b[0mfilename\u001b[0m\u001b[0;34m,\u001b[0m \u001b[0;34m\"rb\"\u001b[0m\u001b[0;34m)\u001b[0m\u001b[0;34m\u001b[0m\u001b[0;34m\u001b[0m\u001b[0m\n\u001b[0m\u001b[1;32m   2810\u001b[0m         \u001b[0mexclusive_fp\u001b[0m \u001b[0;34m=\u001b[0m \u001b[0;32mTrue\u001b[0m\u001b[0;34m\u001b[0m\u001b[0;34m\u001b[0m\u001b[0m\n\u001b[1;32m   2811\u001b[0m \u001b[0;34m\u001b[0m\u001b[0m\n",
            "\u001b[0;31mFileNotFoundError\u001b[0m: [Errno 2] No such file or directory: 'images/my_image.jpg'"
          ]
        }
      ]
    },
    {
      "cell_type": "markdown",
      "metadata": {
        "id": "HKj_-cpflh8h",
        "colab_type": "text"
      },
      "source": [
        "You can also print a summary of your model by running the following code."
      ]
    },
    {
      "cell_type": "code",
      "metadata": {
        "scrolled": true,
        "id": "cujpEIwylh8i",
        "colab_type": "code",
        "colab": {
          "base_uri": "https://localhost:8080/",
          "height": 1000
        },
        "outputId": "122e99f8-93f7-4ce8-a612-cc131e36a76a"
      },
      "source": [
        "model.summary()"
      ],
      "execution_count": 32,
      "outputs": [
        {
          "output_type": "stream",
          "text": [
            "Model: \"ResNet50\"\n",
            "__________________________________________________________________________________________________\n",
            "Layer (type)                    Output Shape         Param #     Connected to                     \n",
            "==================================================================================================\n",
            "input_1 (InputLayer)            (None, 64, 64, 3)    0                                            \n",
            "__________________________________________________________________________________________________\n",
            "zero_padding2d_1 (ZeroPadding2D (None, 70, 70, 3)    0           input_1[0][0]                    \n",
            "__________________________________________________________________________________________________\n",
            "conv1 (Conv2D)                  (None, 32, 32, 64)   9472        zero_padding2d_1[0][0]           \n",
            "__________________________________________________________________________________________________\n",
            "bn_conv1 (BatchNormalization)   (None, 32, 32, 64)   256         conv1[0][0]                      \n",
            "__________________________________________________________________________________________________\n",
            "activation_1 (Activation)       (None, 32, 32, 64)   0           bn_conv1[0][0]                   \n",
            "__________________________________________________________________________________________________\n",
            "max_pooling2d_1 (MaxPooling2D)  (None, 15, 15, 64)   0           activation_1[0][0]               \n",
            "__________________________________________________________________________________________________\n",
            "res2a_branch2a (Conv2D)         (None, 15, 15, 64)   4160        max_pooling2d_1[0][0]            \n",
            "__________________________________________________________________________________________________\n",
            "bn2a_branch2a (BatchNormalizati (None, 15, 15, 64)   256         res2a_branch2a[0][0]             \n",
            "__________________________________________________________________________________________________\n",
            "activation_2 (Activation)       (None, 15, 15, 64)   0           bn2a_branch2a[0][0]              \n",
            "__________________________________________________________________________________________________\n",
            "res2a_branch2b (Conv2D)         (None, 15, 15, 64)   36928       activation_2[0][0]               \n",
            "__________________________________________________________________________________________________\n",
            "bn2a_branch2b (BatchNormalizati (None, 15, 15, 64)   256         res2a_branch2b[0][0]             \n",
            "__________________________________________________________________________________________________\n",
            "activation_3 (Activation)       (None, 15, 15, 64)   0           bn2a_branch2b[0][0]              \n",
            "__________________________________________________________________________________________________\n",
            "res2a_branch1 (Conv2D)          (None, 15, 15, 256)  16640       max_pooling2d_1[0][0]            \n",
            "__________________________________________________________________________________________________\n",
            "res2a_branch2c (Conv2D)         (None, 15, 15, 256)  16640       activation_3[0][0]               \n",
            "__________________________________________________________________________________________________\n",
            "bn2a_branch1 (BatchNormalizatio (None, 15, 15, 256)  1024        res2a_branch1[0][0]              \n",
            "__________________________________________________________________________________________________\n",
            "bn2a_branch2c (BatchNormalizati (None, 15, 15, 256)  1024        res2a_branch2c[0][0]             \n",
            "__________________________________________________________________________________________________\n",
            "add_1 (Add)                     (None, 15, 15, 256)  0           bn2a_branch1[0][0]               \n",
            "                                                                 bn2a_branch2c[0][0]              \n",
            "__________________________________________________________________________________________________\n",
            "activation_4 (Activation)       (None, 15, 15, 256)  0           add_1[0][0]                      \n",
            "__________________________________________________________________________________________________\n",
            "res2b_branch2a (Conv2D)         (None, 15, 15, 64)   16448       activation_4[0][0]               \n",
            "__________________________________________________________________________________________________\n",
            "bn2b_branch2a (BatchNormalizati (None, 15, 15, 64)   256         res2b_branch2a[0][0]             \n",
            "__________________________________________________________________________________________________\n",
            "activation_5 (Activation)       (None, 15, 15, 64)   0           bn2b_branch2a[0][0]              \n",
            "__________________________________________________________________________________________________\n",
            "res2b_branch2b (Conv2D)         (None, 15, 15, 64)   36928       activation_5[0][0]               \n",
            "__________________________________________________________________________________________________\n",
            "bn2b_branch2b (BatchNormalizati (None, 15, 15, 64)   256         res2b_branch2b[0][0]             \n",
            "__________________________________________________________________________________________________\n",
            "activation_6 (Activation)       (None, 15, 15, 64)   0           bn2b_branch2b[0][0]              \n",
            "__________________________________________________________________________________________________\n",
            "res2b_branch2c (Conv2D)         (None, 15, 15, 256)  16640       activation_6[0][0]               \n",
            "__________________________________________________________________________________________________\n",
            "bn2b_branch2c (BatchNormalizati (None, 15, 15, 256)  1024        res2b_branch2c[0][0]             \n",
            "__________________________________________________________________________________________________\n",
            "add_2 (Add)                     (None, 15, 15, 256)  0           activation_4[0][0]               \n",
            "                                                                 bn2b_branch2c[0][0]              \n",
            "__________________________________________________________________________________________________\n",
            "activation_7 (Activation)       (None, 15, 15, 256)  0           add_2[0][0]                      \n",
            "__________________________________________________________________________________________________\n",
            "res2c_branch2a (Conv2D)         (None, 15, 15, 64)   16448       activation_7[0][0]               \n",
            "__________________________________________________________________________________________________\n",
            "bn2c_branch2a (BatchNormalizati (None, 15, 15, 64)   256         res2c_branch2a[0][0]             \n",
            "__________________________________________________________________________________________________\n",
            "activation_8 (Activation)       (None, 15, 15, 64)   0           bn2c_branch2a[0][0]              \n",
            "__________________________________________________________________________________________________\n",
            "res2c_branch2b (Conv2D)         (None, 15, 15, 64)   36928       activation_8[0][0]               \n",
            "__________________________________________________________________________________________________\n",
            "bn2c_branch2b (BatchNormalizati (None, 15, 15, 64)   256         res2c_branch2b[0][0]             \n",
            "__________________________________________________________________________________________________\n",
            "activation_9 (Activation)       (None, 15, 15, 64)   0           bn2c_branch2b[0][0]              \n",
            "__________________________________________________________________________________________________\n",
            "res2c_branch2c (Conv2D)         (None, 15, 15, 256)  16640       activation_9[0][0]               \n",
            "__________________________________________________________________________________________________\n",
            "bn2c_branch2c (BatchNormalizati (None, 15, 15, 256)  1024        res2c_branch2c[0][0]             \n",
            "__________________________________________________________________________________________________\n",
            "add_3 (Add)                     (None, 15, 15, 256)  0           activation_7[0][0]               \n",
            "                                                                 bn2c_branch2c[0][0]              \n",
            "__________________________________________________________________________________________________\n",
            "activation_10 (Activation)      (None, 15, 15, 256)  0           add_3[0][0]                      \n",
            "__________________________________________________________________________________________________\n",
            "res3a_branch2a (Conv2D)         (None, 8, 8, 128)    32896       activation_10[0][0]              \n",
            "__________________________________________________________________________________________________\n",
            "bn3a_branch2a (BatchNormalizati (None, 8, 8, 128)    512         res3a_branch2a[0][0]             \n",
            "__________________________________________________________________________________________________\n",
            "activation_11 (Activation)      (None, 8, 8, 128)    0           bn3a_branch2a[0][0]              \n",
            "__________________________________________________________________________________________________\n",
            "res3a_branch2b (Conv2D)         (None, 8, 8, 128)    147584      activation_11[0][0]              \n",
            "__________________________________________________________________________________________________\n",
            "bn3a_branch2b (BatchNormalizati (None, 8, 8, 128)    512         res3a_branch2b[0][0]             \n",
            "__________________________________________________________________________________________________\n",
            "activation_12 (Activation)      (None, 8, 8, 128)    0           bn3a_branch2b[0][0]              \n",
            "__________________________________________________________________________________________________\n",
            "res3a_branch1 (Conv2D)          (None, 8, 8, 512)    131584      activation_10[0][0]              \n",
            "__________________________________________________________________________________________________\n",
            "res3a_branch2c (Conv2D)         (None, 8, 8, 512)    66048       activation_12[0][0]              \n",
            "__________________________________________________________________________________________________\n",
            "bn3a_branch1 (BatchNormalizatio (None, 8, 8, 512)    2048        res3a_branch1[0][0]              \n",
            "__________________________________________________________________________________________________\n",
            "bn3a_branch2c (BatchNormalizati (None, 8, 8, 512)    2048        res3a_branch2c[0][0]             \n",
            "__________________________________________________________________________________________________\n",
            "add_4 (Add)                     (None, 8, 8, 512)    0           bn3a_branch1[0][0]               \n",
            "                                                                 bn3a_branch2c[0][0]              \n",
            "__________________________________________________________________________________________________\n",
            "activation_13 (Activation)      (None, 8, 8, 512)    0           add_4[0][0]                      \n",
            "__________________________________________________________________________________________________\n",
            "res3b_branch2a (Conv2D)         (None, 8, 8, 128)    65664       activation_13[0][0]              \n",
            "__________________________________________________________________________________________________\n",
            "bn3b_branch2a (BatchNormalizati (None, 8, 8, 128)    512         res3b_branch2a[0][0]             \n",
            "__________________________________________________________________________________________________\n",
            "activation_14 (Activation)      (None, 8, 8, 128)    0           bn3b_branch2a[0][0]              \n",
            "__________________________________________________________________________________________________\n",
            "res3b_branch2b (Conv2D)         (None, 8, 8, 128)    147584      activation_14[0][0]              \n",
            "__________________________________________________________________________________________________\n",
            "bn3b_branch2b (BatchNormalizati (None, 8, 8, 128)    512         res3b_branch2b[0][0]             \n",
            "__________________________________________________________________________________________________\n",
            "activation_15 (Activation)      (None, 8, 8, 128)    0           bn3b_branch2b[0][0]              \n",
            "__________________________________________________________________________________________________\n",
            "res3b_branch2c (Conv2D)         (None, 8, 8, 512)    66048       activation_15[0][0]              \n",
            "__________________________________________________________________________________________________\n",
            "bn3b_branch2c (BatchNormalizati (None, 8, 8, 512)    2048        res3b_branch2c[0][0]             \n",
            "__________________________________________________________________________________________________\n",
            "add_5 (Add)                     (None, 8, 8, 512)    0           activation_13[0][0]              \n",
            "                                                                 bn3b_branch2c[0][0]              \n",
            "__________________________________________________________________________________________________\n",
            "activation_16 (Activation)      (None, 8, 8, 512)    0           add_5[0][0]                      \n",
            "__________________________________________________________________________________________________\n",
            "res3c_branch2a (Conv2D)         (None, 8, 8, 128)    65664       activation_16[0][0]              \n",
            "__________________________________________________________________________________________________\n",
            "bn3c_branch2a (BatchNormalizati (None, 8, 8, 128)    512         res3c_branch2a[0][0]             \n",
            "__________________________________________________________________________________________________\n",
            "activation_17 (Activation)      (None, 8, 8, 128)    0           bn3c_branch2a[0][0]              \n",
            "__________________________________________________________________________________________________\n",
            "res3c_branch2b (Conv2D)         (None, 8, 8, 128)    147584      activation_17[0][0]              \n",
            "__________________________________________________________________________________________________\n",
            "bn3c_branch2b (BatchNormalizati (None, 8, 8, 128)    512         res3c_branch2b[0][0]             \n",
            "__________________________________________________________________________________________________\n",
            "activation_18 (Activation)      (None, 8, 8, 128)    0           bn3c_branch2b[0][0]              \n",
            "__________________________________________________________________________________________________\n",
            "res3c_branch2c (Conv2D)         (None, 8, 8, 512)    66048       activation_18[0][0]              \n",
            "__________________________________________________________________________________________________\n",
            "bn3c_branch2c (BatchNormalizati (None, 8, 8, 512)    2048        res3c_branch2c[0][0]             \n",
            "__________________________________________________________________________________________________\n",
            "add_6 (Add)                     (None, 8, 8, 512)    0           activation_16[0][0]              \n",
            "                                                                 bn3c_branch2c[0][0]              \n",
            "__________________________________________________________________________________________________\n",
            "activation_19 (Activation)      (None, 8, 8, 512)    0           add_6[0][0]                      \n",
            "__________________________________________________________________________________________________\n",
            "res3d_branch2a (Conv2D)         (None, 8, 8, 128)    65664       activation_19[0][0]              \n",
            "__________________________________________________________________________________________________\n",
            "bn3d_branch2a (BatchNormalizati (None, 8, 8, 128)    512         res3d_branch2a[0][0]             \n",
            "__________________________________________________________________________________________________\n",
            "activation_20 (Activation)      (None, 8, 8, 128)    0           bn3d_branch2a[0][0]              \n",
            "__________________________________________________________________________________________________\n",
            "res3d_branch2b (Conv2D)         (None, 8, 8, 128)    147584      activation_20[0][0]              \n",
            "__________________________________________________________________________________________________\n",
            "bn3d_branch2b (BatchNormalizati (None, 8, 8, 128)    512         res3d_branch2b[0][0]             \n",
            "__________________________________________________________________________________________________\n",
            "activation_21 (Activation)      (None, 8, 8, 128)    0           bn3d_branch2b[0][0]              \n",
            "__________________________________________________________________________________________________\n",
            "res3d_branch2c (Conv2D)         (None, 8, 8, 512)    66048       activation_21[0][0]              \n",
            "__________________________________________________________________________________________________\n",
            "bn3d_branch2c (BatchNormalizati (None, 8, 8, 512)    2048        res3d_branch2c[0][0]             \n",
            "__________________________________________________________________________________________________\n",
            "add_7 (Add)                     (None, 8, 8, 512)    0           activation_19[0][0]              \n",
            "                                                                 bn3d_branch2c[0][0]              \n",
            "__________________________________________________________________________________________________\n",
            "activation_22 (Activation)      (None, 8, 8, 512)    0           add_7[0][0]                      \n",
            "__________________________________________________________________________________________________\n",
            "res4a_branch2a (Conv2D)         (None, 4, 4, 256)    131328      activation_22[0][0]              \n",
            "__________________________________________________________________________________________________\n",
            "bn4a_branch2a (BatchNormalizati (None, 4, 4, 256)    1024        res4a_branch2a[0][0]             \n",
            "__________________________________________________________________________________________________\n",
            "activation_23 (Activation)      (None, 4, 4, 256)    0           bn4a_branch2a[0][0]              \n",
            "__________________________________________________________________________________________________\n",
            "res4a_branch2b (Conv2D)         (None, 4, 4, 256)    590080      activation_23[0][0]              \n",
            "__________________________________________________________________________________________________\n",
            "bn4a_branch2b (BatchNormalizati (None, 4, 4, 256)    1024        res4a_branch2b[0][0]             \n",
            "__________________________________________________________________________________________________\n",
            "activation_24 (Activation)      (None, 4, 4, 256)    0           bn4a_branch2b[0][0]              \n",
            "__________________________________________________________________________________________________\n",
            "res4a_branch1 (Conv2D)          (None, 4, 4, 1024)   525312      activation_22[0][0]              \n",
            "__________________________________________________________________________________________________\n",
            "res4a_branch2c (Conv2D)         (None, 4, 4, 1024)   263168      activation_24[0][0]              \n",
            "__________________________________________________________________________________________________\n",
            "bn4a_branch1 (BatchNormalizatio (None, 4, 4, 1024)   4096        res4a_branch1[0][0]              \n",
            "__________________________________________________________________________________________________\n",
            "bn4a_branch2c (BatchNormalizati (None, 4, 4, 1024)   4096        res4a_branch2c[0][0]             \n",
            "__________________________________________________________________________________________________\n",
            "add_8 (Add)                     (None, 4, 4, 1024)   0           bn4a_branch1[0][0]               \n",
            "                                                                 bn4a_branch2c[0][0]              \n",
            "__________________________________________________________________________________________________\n",
            "activation_25 (Activation)      (None, 4, 4, 1024)   0           add_8[0][0]                      \n",
            "__________________________________________________________________________________________________\n",
            "res4b_branch2a (Conv2D)         (None, 4, 4, 256)    262400      activation_25[0][0]              \n",
            "__________________________________________________________________________________________________\n",
            "bn4b_branch2a (BatchNormalizati (None, 4, 4, 256)    1024        res4b_branch2a[0][0]             \n",
            "__________________________________________________________________________________________________\n",
            "activation_26 (Activation)      (None, 4, 4, 256)    0           bn4b_branch2a[0][0]              \n",
            "__________________________________________________________________________________________________\n",
            "res4b_branch2b (Conv2D)         (None, 4, 4, 256)    590080      activation_26[0][0]              \n",
            "__________________________________________________________________________________________________\n",
            "bn4b_branch2b (BatchNormalizati (None, 4, 4, 256)    1024        res4b_branch2b[0][0]             \n",
            "__________________________________________________________________________________________________\n",
            "activation_27 (Activation)      (None, 4, 4, 256)    0           bn4b_branch2b[0][0]              \n",
            "__________________________________________________________________________________________________\n",
            "res4b_branch2c (Conv2D)         (None, 4, 4, 1024)   263168      activation_27[0][0]              \n",
            "__________________________________________________________________________________________________\n",
            "bn4b_branch2c (BatchNormalizati (None, 4, 4, 1024)   4096        res4b_branch2c[0][0]             \n",
            "__________________________________________________________________________________________________\n",
            "add_9 (Add)                     (None, 4, 4, 1024)   0           activation_25[0][0]              \n",
            "                                                                 bn4b_branch2c[0][0]              \n",
            "__________________________________________________________________________________________________\n",
            "activation_28 (Activation)      (None, 4, 4, 1024)   0           add_9[0][0]                      \n",
            "__________________________________________________________________________________________________\n",
            "res4c_branch2a (Conv2D)         (None, 4, 4, 256)    262400      activation_28[0][0]              \n",
            "__________________________________________________________________________________________________\n",
            "bn4c_branch2a (BatchNormalizati (None, 4, 4, 256)    1024        res4c_branch2a[0][0]             \n",
            "__________________________________________________________________________________________________\n",
            "activation_29 (Activation)      (None, 4, 4, 256)    0           bn4c_branch2a[0][0]              \n",
            "__________________________________________________________________________________________________\n",
            "res4c_branch2b (Conv2D)         (None, 4, 4, 256)    590080      activation_29[0][0]              \n",
            "__________________________________________________________________________________________________\n",
            "bn4c_branch2b (BatchNormalizati (None, 4, 4, 256)    1024        res4c_branch2b[0][0]             \n",
            "__________________________________________________________________________________________________\n",
            "activation_30 (Activation)      (None, 4, 4, 256)    0           bn4c_branch2b[0][0]              \n",
            "__________________________________________________________________________________________________\n",
            "res4c_branch2c (Conv2D)         (None, 4, 4, 1024)   263168      activation_30[0][0]              \n",
            "__________________________________________________________________________________________________\n",
            "bn4c_branch2c (BatchNormalizati (None, 4, 4, 1024)   4096        res4c_branch2c[0][0]             \n",
            "__________________________________________________________________________________________________\n",
            "add_10 (Add)                    (None, 4, 4, 1024)   0           activation_28[0][0]              \n",
            "                                                                 bn4c_branch2c[0][0]              \n",
            "__________________________________________________________________________________________________\n",
            "activation_31 (Activation)      (None, 4, 4, 1024)   0           add_10[0][0]                     \n",
            "__________________________________________________________________________________________________\n",
            "res4d_branch2a (Conv2D)         (None, 4, 4, 256)    262400      activation_31[0][0]              \n",
            "__________________________________________________________________________________________________\n",
            "bn4d_branch2a (BatchNormalizati (None, 4, 4, 256)    1024        res4d_branch2a[0][0]             \n",
            "__________________________________________________________________________________________________\n",
            "activation_32 (Activation)      (None, 4, 4, 256)    0           bn4d_branch2a[0][0]              \n",
            "__________________________________________________________________________________________________\n",
            "res4d_branch2b (Conv2D)         (None, 4, 4, 256)    590080      activation_32[0][0]              \n",
            "__________________________________________________________________________________________________\n",
            "bn4d_branch2b (BatchNormalizati (None, 4, 4, 256)    1024        res4d_branch2b[0][0]             \n",
            "__________________________________________________________________________________________________\n",
            "activation_33 (Activation)      (None, 4, 4, 256)    0           bn4d_branch2b[0][0]              \n",
            "__________________________________________________________________________________________________\n",
            "res4d_branch2c (Conv2D)         (None, 4, 4, 1024)   263168      activation_33[0][0]              \n",
            "__________________________________________________________________________________________________\n",
            "bn4d_branch2c (BatchNormalizati (None, 4, 4, 1024)   4096        res4d_branch2c[0][0]             \n",
            "__________________________________________________________________________________________________\n",
            "add_11 (Add)                    (None, 4, 4, 1024)   0           activation_31[0][0]              \n",
            "                                                                 bn4d_branch2c[0][0]              \n",
            "__________________________________________________________________________________________________\n",
            "activation_34 (Activation)      (None, 4, 4, 1024)   0           add_11[0][0]                     \n",
            "__________________________________________________________________________________________________\n",
            "res4e_branch2a (Conv2D)         (None, 4, 4, 256)    262400      activation_34[0][0]              \n",
            "__________________________________________________________________________________________________\n",
            "bn4e_branch2a (BatchNormalizati (None, 4, 4, 256)    1024        res4e_branch2a[0][0]             \n",
            "__________________________________________________________________________________________________\n",
            "activation_35 (Activation)      (None, 4, 4, 256)    0           bn4e_branch2a[0][0]              \n",
            "__________________________________________________________________________________________________\n",
            "res4e_branch2b (Conv2D)         (None, 4, 4, 256)    590080      activation_35[0][0]              \n",
            "__________________________________________________________________________________________________\n",
            "bn4e_branch2b (BatchNormalizati (None, 4, 4, 256)    1024        res4e_branch2b[0][0]             \n",
            "__________________________________________________________________________________________________\n",
            "activation_36 (Activation)      (None, 4, 4, 256)    0           bn4e_branch2b[0][0]              \n",
            "__________________________________________________________________________________________________\n",
            "res4e_branch2c (Conv2D)         (None, 4, 4, 1024)   263168      activation_36[0][0]              \n",
            "__________________________________________________________________________________________________\n",
            "bn4e_branch2c (BatchNormalizati (None, 4, 4, 1024)   4096        res4e_branch2c[0][0]             \n",
            "__________________________________________________________________________________________________\n",
            "add_12 (Add)                    (None, 4, 4, 1024)   0           activation_34[0][0]              \n",
            "                                                                 bn4e_branch2c[0][0]              \n",
            "__________________________________________________________________________________________________\n",
            "activation_37 (Activation)      (None, 4, 4, 1024)   0           add_12[0][0]                     \n",
            "__________________________________________________________________________________________________\n",
            "res4f_branch2a (Conv2D)         (None, 4, 4, 256)    262400      activation_37[0][0]              \n",
            "__________________________________________________________________________________________________\n",
            "bn4f_branch2a (BatchNormalizati (None, 4, 4, 256)    1024        res4f_branch2a[0][0]             \n",
            "__________________________________________________________________________________________________\n",
            "activation_38 (Activation)      (None, 4, 4, 256)    0           bn4f_branch2a[0][0]              \n",
            "__________________________________________________________________________________________________\n",
            "res4f_branch2b (Conv2D)         (None, 4, 4, 256)    590080      activation_38[0][0]              \n",
            "__________________________________________________________________________________________________\n",
            "bn4f_branch2b (BatchNormalizati (None, 4, 4, 256)    1024        res4f_branch2b[0][0]             \n",
            "__________________________________________________________________________________________________\n",
            "activation_39 (Activation)      (None, 4, 4, 256)    0           bn4f_branch2b[0][0]              \n",
            "__________________________________________________________________________________________________\n",
            "res4f_branch2c (Conv2D)         (None, 4, 4, 1024)   263168      activation_39[0][0]              \n",
            "__________________________________________________________________________________________________\n",
            "bn4f_branch2c (BatchNormalizati (None, 4, 4, 1024)   4096        res4f_branch2c[0][0]             \n",
            "__________________________________________________________________________________________________\n",
            "add_13 (Add)                    (None, 4, 4, 1024)   0           activation_37[0][0]              \n",
            "                                                                 bn4f_branch2c[0][0]              \n",
            "__________________________________________________________________________________________________\n",
            "activation_40 (Activation)      (None, 4, 4, 1024)   0           add_13[0][0]                     \n",
            "__________________________________________________________________________________________________\n",
            "res5a_branch2a (Conv2D)         (None, 2, 2, 512)    524800      activation_40[0][0]              \n",
            "__________________________________________________________________________________________________\n",
            "bn5a_branch2a (BatchNormalizati (None, 2, 2, 512)    2048        res5a_branch2a[0][0]             \n",
            "__________________________________________________________________________________________________\n",
            "activation_41 (Activation)      (None, 2, 2, 512)    0           bn5a_branch2a[0][0]              \n",
            "__________________________________________________________________________________________________\n",
            "res5a_branch2b (Conv2D)         (None, 2, 2, 512)    2359808     activation_41[0][0]              \n",
            "__________________________________________________________________________________________________\n",
            "bn5a_branch2b (BatchNormalizati (None, 2, 2, 512)    2048        res5a_branch2b[0][0]             \n",
            "__________________________________________________________________________________________________\n",
            "activation_42 (Activation)      (None, 2, 2, 512)    0           bn5a_branch2b[0][0]              \n",
            "__________________________________________________________________________________________________\n",
            "res5a_branch1 (Conv2D)          (None, 2, 2, 2048)   2099200     activation_40[0][0]              \n",
            "__________________________________________________________________________________________________\n",
            "res5a_branch2c (Conv2D)         (None, 2, 2, 2048)   1050624     activation_42[0][0]              \n",
            "__________________________________________________________________________________________________\n",
            "bn5a_branch1 (BatchNormalizatio (None, 2, 2, 2048)   8192        res5a_branch1[0][0]              \n",
            "__________________________________________________________________________________________________\n",
            "bn5a_branch2c (BatchNormalizati (None, 2, 2, 2048)   8192        res5a_branch2c[0][0]             \n",
            "__________________________________________________________________________________________________\n",
            "add_14 (Add)                    (None, 2, 2, 2048)   0           bn5a_branch1[0][0]               \n",
            "                                                                 bn5a_branch2c[0][0]              \n",
            "__________________________________________________________________________________________________\n",
            "activation_43 (Activation)      (None, 2, 2, 2048)   0           add_14[0][0]                     \n",
            "__________________________________________________________________________________________________\n",
            "res5b_branch2a (Conv2D)         (None, 2, 2, 512)    1049088     activation_43[0][0]              \n",
            "__________________________________________________________________________________________________\n",
            "bn5b_branch2a (BatchNormalizati (None, 2, 2, 512)    2048        res5b_branch2a[0][0]             \n",
            "__________________________________________________________________________________________________\n",
            "activation_44 (Activation)      (None, 2, 2, 512)    0           bn5b_branch2a[0][0]              \n",
            "__________________________________________________________________________________________________\n",
            "res5b_branch2b (Conv2D)         (None, 2, 2, 512)    2359808     activation_44[0][0]              \n",
            "__________________________________________________________________________________________________\n",
            "bn5b_branch2b (BatchNormalizati (None, 2, 2, 512)    2048        res5b_branch2b[0][0]             \n",
            "__________________________________________________________________________________________________\n",
            "activation_45 (Activation)      (None, 2, 2, 512)    0           bn5b_branch2b[0][0]              \n",
            "__________________________________________________________________________________________________\n",
            "res5b_branch2c (Conv2D)         (None, 2, 2, 2048)   1050624     activation_45[0][0]              \n",
            "__________________________________________________________________________________________________\n",
            "bn5b_branch2c (BatchNormalizati (None, 2, 2, 2048)   8192        res5b_branch2c[0][0]             \n",
            "__________________________________________________________________________________________________\n",
            "add_15 (Add)                    (None, 2, 2, 2048)   0           activation_43[0][0]              \n",
            "                                                                 bn5b_branch2c[0][0]              \n",
            "__________________________________________________________________________________________________\n",
            "activation_46 (Activation)      (None, 2, 2, 2048)   0           add_15[0][0]                     \n",
            "__________________________________________________________________________________________________\n",
            "res5c_branch2a (Conv2D)         (None, 2, 2, 512)    1049088     activation_46[0][0]              \n",
            "__________________________________________________________________________________________________\n",
            "bn5c_branch2a (BatchNormalizati (None, 2, 2, 512)    2048        res5c_branch2a[0][0]             \n",
            "__________________________________________________________________________________________________\n",
            "activation_47 (Activation)      (None, 2, 2, 512)    0           bn5c_branch2a[0][0]              \n",
            "__________________________________________________________________________________________________\n",
            "res5c_branch2b (Conv2D)         (None, 2, 2, 512)    2359808     activation_47[0][0]              \n",
            "__________________________________________________________________________________________________\n",
            "bn5c_branch2b (BatchNormalizati (None, 2, 2, 512)    2048        res5c_branch2b[0][0]             \n",
            "__________________________________________________________________________________________________\n",
            "activation_48 (Activation)      (None, 2, 2, 512)    0           bn5c_branch2b[0][0]              \n",
            "__________________________________________________________________________________________________\n",
            "res5c_branch2c (Conv2D)         (None, 2, 2, 2048)   1050624     activation_48[0][0]              \n",
            "__________________________________________________________________________________________________\n",
            "bn5c_branch2c (BatchNormalizati (None, 2, 2, 2048)   8192        res5c_branch2c[0][0]             \n",
            "__________________________________________________________________________________________________\n",
            "add_16 (Add)                    (None, 2, 2, 2048)   0           activation_46[0][0]              \n",
            "                                                                 bn5c_branch2c[0][0]              \n",
            "__________________________________________________________________________________________________\n",
            "activation_49 (Activation)      (None, 2, 2, 2048)   0           add_16[0][0]                     \n",
            "__________________________________________________________________________________________________\n",
            "avg_pool (AveragePooling2D)     (None, 1, 1, 2048)   0           activation_49[0][0]              \n",
            "__________________________________________________________________________________________________\n",
            "flatten_1 (Flatten)             (None, 2048)         0           avg_pool[0][0]                   \n",
            "__________________________________________________________________________________________________\n",
            "fc6 (Dense)                     (None, 6)            12294       flatten_1[0][0]                  \n",
            "==================================================================================================\n",
            "Total params: 23,600,006\n",
            "Trainable params: 23,546,886\n",
            "Non-trainable params: 53,120\n",
            "__________________________________________________________________________________________________\n"
          ],
          "name": "stdout"
        }
      ]
    },
    {
      "cell_type": "markdown",
      "metadata": {
        "id": "Jxo8XyGzlh8o",
        "colab_type": "text"
      },
      "source": [
        "Finally, run the code below to visualize your ResNet50. You can also download a .png picture of your model by going to \"File -> Open...-> model.png\"."
      ]
    },
    {
      "cell_type": "code",
      "metadata": {
        "id": "AnAfBI3Xu4C4",
        "colab_type": "code",
        "colab": {
          "base_uri": "https://localhost:8080/",
          "height": 85
        },
        "outputId": "e82b371a-64f3-4e1e-9aac-91bc9c4da413"
      },
      "source": [
        "%ls"
      ],
      "execution_count": 34,
      "outputs": [
        {
          "output_type": "stream",
          "text": [
            "\u001b[0m\u001b[01;34mdatasets\u001b[0m/                         model.png\n",
            "deeplearning.ai-tensorflow.ipynb  \u001b[01;34m__pycache__\u001b[0m/\n",
            "Digit_recog_1.ipynb               Residual_Networks_v2a.ipynb\n",
            "DO_1_classification.ipynb         resnets_utils.py\n"
          ],
          "name": "stdout"
        }
      ]
    },
    {
      "cell_type": "code",
      "metadata": {
        "id": "PyjC7EAXlh8p",
        "colab_type": "code",
        "colab": {
          "base_uri": "https://localhost:8080/",
          "height": 1000
        },
        "outputId": "4cae05f8-015f-44fe-e39e-16e69b112c52"
      },
      "source": [
        "plot_model(model, to_file='model.png')\n",
        "SVG(model_to_dot(model).create(prog='dot', format='svg'))"
      ],
      "execution_count": 33,
      "outputs": [
        {
          "output_type": "execute_result",
          "data": {
            "text/plain": [
              "<IPython.core.display.SVG object>"
            ],
            "image/svg+xml": "<svg height=\"16412pt\" viewBox=\"0.00 0.00 467.00 12309.00\" width=\"623pt\" xmlns=\"http://www.w3.org/2000/svg\" xmlns:xlink=\"http://www.w3.org/1999/xlink\">\n<g class=\"graph\" id=\"graph0\" transform=\"scale(1.3333 1.3333) rotate(0) translate(4 12305)\">\n<title>G</title>\n<polygon fill=\"#ffffff\" points=\"-4,4 -4,-12305 463,-12305 463,4 -4,4\" stroke=\"transparent\"/>\n<!-- 139885478320392 -->\n<g class=\"node\" id=\"node1\">\n<title>139885478320392</title>\n<polygon fill=\"none\" points=\"164,-12264.5 164,-12300.5 297,-12300.5 297,-12264.5 164,-12264.5\" stroke=\"#000000\"/>\n<text fill=\"#000000\" font-family=\"Times,serif\" font-size=\"14.00\" text-anchor=\"middle\" x=\"230.5\" y=\"-12278.8\">input_1: InputLayer</text>\n</g>\n<!-- 139885478321960 -->\n<g class=\"node\" id=\"node2\">\n<title>139885478321960</title>\n<polygon fill=\"none\" points=\"117.5,-12191.5 117.5,-12227.5 343.5,-12227.5 343.5,-12191.5 117.5,-12191.5\" stroke=\"#000000\"/>\n<text fill=\"#000000\" font-family=\"Times,serif\" font-size=\"14.00\" text-anchor=\"middle\" x=\"230.5\" y=\"-12205.8\">zero_padding2d_1: ZeroPadding2D</text>\n</g>\n<!-- 139885478320392&#45;&gt;139885478321960 -->\n<g class=\"edge\" id=\"edge1\">\n<title>139885478320392-&gt;139885478321960</title>\n<path d=\"M230.5,-12264.4551C230.5,-12256.3828 230.5,-12246.6764 230.5,-12237.6817\" fill=\"none\" stroke=\"#000000\"/>\n<polygon fill=\"#000000\" points=\"234.0001,-12237.5903 230.5,-12227.5904 227.0001,-12237.5904 234.0001,-12237.5903\" stroke=\"#000000\"/>\n</g>\n<!-- 139885478321288 -->\n<g class=\"node\" id=\"node3\">\n<title>139885478321288</title>\n<polygon fill=\"none\" points=\"175.5,-12118.5 175.5,-12154.5 285.5,-12154.5 285.5,-12118.5 175.5,-12118.5\" stroke=\"#000000\"/>\n<text fill=\"#000000\" font-family=\"Times,serif\" font-size=\"14.00\" text-anchor=\"middle\" x=\"230.5\" y=\"-12132.8\">conv1: Conv2D</text>\n</g>\n<!-- 139885478321960&#45;&gt;139885478321288 -->\n<g class=\"edge\" id=\"edge2\">\n<title>139885478321960-&gt;139885478321288</title>\n<path d=\"M230.5,-12191.4551C230.5,-12183.3828 230.5,-12173.6764 230.5,-12164.6817\" fill=\"none\" stroke=\"#000000\"/>\n<polygon fill=\"#000000\" points=\"234.0001,-12164.5903 230.5,-12154.5904 227.0001,-12164.5904 234.0001,-12164.5903\" stroke=\"#000000\"/>\n</g>\n<!-- 139885478320448 -->\n<g class=\"node\" id=\"node4\">\n<title>139885478320448</title>\n<polygon fill=\"none\" points=\"132,-12045.5 132,-12081.5 329,-12081.5 329,-12045.5 132,-12045.5\" stroke=\"#000000\"/>\n<text fill=\"#000000\" font-family=\"Times,serif\" font-size=\"14.00\" text-anchor=\"middle\" x=\"230.5\" y=\"-12059.8\">bn_conv1: BatchNormalization</text>\n</g>\n<!-- 139885478321288&#45;&gt;139885478320448 -->\n<g class=\"edge\" id=\"edge3\">\n<title>139885478321288-&gt;139885478320448</title>\n<path d=\"M230.5,-12118.4551C230.5,-12110.3828 230.5,-12100.6764 230.5,-12091.6817\" fill=\"none\" stroke=\"#000000\"/>\n<polygon fill=\"#000000\" points=\"234.0001,-12091.5903 230.5,-12081.5904 227.0001,-12091.5904 234.0001,-12091.5903\" stroke=\"#000000\"/>\n</g>\n<!-- 139885478321624 -->\n<g class=\"node\" id=\"node5\">\n<title>139885478321624</title>\n<polygon fill=\"none\" points=\"153.5,-11972.5 153.5,-12008.5 307.5,-12008.5 307.5,-11972.5 153.5,-11972.5\" stroke=\"#000000\"/>\n<text fill=\"#000000\" font-family=\"Times,serif\" font-size=\"14.00\" text-anchor=\"middle\" x=\"230.5\" y=\"-11986.8\">activation_1: Activation</text>\n</g>\n<!-- 139885478320448&#45;&gt;139885478321624 -->\n<g class=\"edge\" id=\"edge4\">\n<title>139885478320448-&gt;139885478321624</title>\n<path d=\"M230.5,-12045.4551C230.5,-12037.3828 230.5,-12027.6764 230.5,-12018.6817\" fill=\"none\" stroke=\"#000000\"/>\n<polygon fill=\"#000000\" points=\"234.0001,-12018.5903 230.5,-12008.5904 227.0001,-12018.5904 234.0001,-12018.5903\" stroke=\"#000000\"/>\n</g>\n<!-- 139885177625960 -->\n<g class=\"node\" id=\"node6\">\n<title>139885177625960</title>\n<polygon fill=\"none\" points=\"120,-11899.5 120,-11935.5 341,-11935.5 341,-11899.5 120,-11899.5\" stroke=\"#000000\"/>\n<text fill=\"#000000\" font-family=\"Times,serif\" font-size=\"14.00\" text-anchor=\"middle\" x=\"230.5\" y=\"-11913.8\">max_pooling2d_1: MaxPooling2D</text>\n</g>\n<!-- 139885478321624&#45;&gt;139885177625960 -->\n<g class=\"edge\" id=\"edge5\">\n<title>139885478321624-&gt;139885177625960</title>\n<path d=\"M230.5,-11972.4551C230.5,-11964.3828 230.5,-11954.6764 230.5,-11945.6817\" fill=\"none\" stroke=\"#000000\"/>\n<polygon fill=\"#000000\" points=\"234.0001,-11945.5903 230.5,-11935.5904 227.0001,-11945.5904 234.0001,-11945.5903\" stroke=\"#000000\"/>\n</g>\n<!-- 139887161103584 -->\n<g class=\"node\" id=\"node7\">\n<title>139887161103584</title>\n<polygon fill=\"none\" points=\"93.5,-11826.5 93.5,-11862.5 257.5,-11862.5 257.5,-11826.5 93.5,-11826.5\" stroke=\"#000000\"/>\n<text fill=\"#000000\" font-family=\"Times,serif\" font-size=\"14.00\" text-anchor=\"middle\" x=\"175.5\" y=\"-11840.8\">res2a_branch2a: Conv2D</text>\n</g>\n<!-- 139885177625960&#45;&gt;139887161103584 -->\n<g class=\"edge\" id=\"edge6\">\n<title>139885177625960-&gt;139887161103584</title>\n<path d=\"M216.9045,-11899.4551C210.3599,-11890.7686 202.3896,-11880.1898 195.196,-11870.642\" fill=\"none\" stroke=\"#000000\"/>\n<polygon fill=\"#000000\" points=\"197.9427,-11868.4711 189.1297,-11862.5904 192.3518,-11872.6834 197.9427,-11868.4711\" stroke=\"#000000\"/>\n</g>\n<!-- 139885176799472 -->\n<g class=\"node\" id=\"node13\">\n<title>139885176799472</title>\n<polygon fill=\"none\" points=\"257.5,-11753.5 257.5,-11789.5 415.5,-11789.5 415.5,-11753.5 257.5,-11753.5\" stroke=\"#000000\"/>\n<text fill=\"#000000\" font-family=\"Times,serif\" font-size=\"14.00\" text-anchor=\"middle\" x=\"336.5\" y=\"-11767.8\">res2a_branch1: Conv2D</text>\n</g>\n<!-- 139885177625960&#45;&gt;139885176799472 -->\n<g class=\"edge\" id=\"edge12\">\n<title>139885177625960-&gt;139885176799472</title>\n<path d=\"M243.7106,-11899.3042C262.1981,-11873.8403 295.9072,-11827.4108 317.2051,-11798.0759\" fill=\"none\" stroke=\"#000000\"/>\n<polygon fill=\"#000000\" points=\"320.08,-11800.0736 323.1229,-11789.9251 314.4154,-11795.961 320.08,-11800.0736\" stroke=\"#000000\"/>\n</g>\n<!-- 139885177004664 -->\n<g class=\"node\" id=\"node8\">\n<title>139885177004664</title>\n<polygon fill=\"none\" points=\"12,-11753.5 12,-11789.5 239,-11789.5 239,-11753.5 12,-11753.5\" stroke=\"#000000\"/>\n<text fill=\"#000000\" font-family=\"Times,serif\" font-size=\"14.00\" text-anchor=\"middle\" x=\"125.5\" y=\"-11767.8\">bn2a_branch2a: BatchNormalization</text>\n</g>\n<!-- 139887161103584&#45;&gt;139885177004664 -->\n<g class=\"edge\" id=\"edge7\">\n<title>139887161103584-&gt;139885177004664</title>\n<path d=\"M163.1404,-11826.4551C157.2509,-11817.8564 150.0913,-11807.4034 143.6039,-11797.9316\" fill=\"none\" stroke=\"#000000\"/>\n<polygon fill=\"#000000\" points=\"146.4292,-11795.8628 137.8907,-11789.5904 140.654,-11799.8185 146.4292,-11795.8628\" stroke=\"#000000\"/>\n</g>\n<!-- 139885177007968 -->\n<g class=\"node\" id=\"node9\">\n<title>139885177007968</title>\n<polygon fill=\"none\" points=\"50.5,-11680.5 50.5,-11716.5 204.5,-11716.5 204.5,-11680.5 50.5,-11680.5\" stroke=\"#000000\"/>\n<text fill=\"#000000\" font-family=\"Times,serif\" font-size=\"14.00\" text-anchor=\"middle\" x=\"127.5\" y=\"-11694.8\">activation_2: Activation</text>\n</g>\n<!-- 139885177004664&#45;&gt;139885177007968 -->\n<g class=\"edge\" id=\"edge8\">\n<title>139885177004664-&gt;139885177007968</title>\n<path d=\"M125.9944,-11753.4551C126.2155,-11745.3828 126.4815,-11735.6764 126.7279,-11726.6817\" fill=\"none\" stroke=\"#000000\"/>\n<polygon fill=\"#000000\" points=\"130.2291,-11726.6825 127.0044,-11716.5904 123.2317,-11726.4907 130.2291,-11726.6825\" stroke=\"#000000\"/>\n</g>\n<!-- 139885177036360 -->\n<g class=\"node\" id=\"node10\">\n<title>139885177036360</title>\n<polygon fill=\"none\" points=\"61,-11607.5 61,-11643.5 226,-11643.5 226,-11607.5 61,-11607.5\" stroke=\"#000000\"/>\n<text fill=\"#000000\" font-family=\"Times,serif\" font-size=\"14.00\" text-anchor=\"middle\" x=\"143.5\" y=\"-11621.8\">res2a_branch2b: Conv2D</text>\n</g>\n<!-- 139885177007968&#45;&gt;139885177036360 -->\n<g class=\"edge\" id=\"edge9\">\n<title>139885177007968-&gt;139885177036360</title>\n<path d=\"M131.4551,-11680.4551C133.2435,-11672.2951 135.398,-11662.4652 137.3874,-11653.3887\" fill=\"none\" stroke=\"#000000\"/>\n<polygon fill=\"#000000\" points=\"140.8128,-11654.1079 139.535,-11643.5904 133.9751,-11652.6091 140.8128,-11654.1079\" stroke=\"#000000\"/>\n</g>\n<!-- 139885177136688 -->\n<g class=\"node\" id=\"node11\">\n<title>139885177136688</title>\n<polygon fill=\"none\" points=\"60,-11534.5 60,-11570.5 289,-11570.5 289,-11534.5 60,-11534.5\" stroke=\"#000000\"/>\n<text fill=\"#000000\" font-family=\"Times,serif\" font-size=\"14.00\" text-anchor=\"middle\" x=\"174.5\" y=\"-11548.8\">bn2a_branch2b: BatchNormalization</text>\n</g>\n<!-- 139885177036360&#45;&gt;139885177136688 -->\n<g class=\"edge\" id=\"edge10\">\n<title>139885177036360-&gt;139885177136688</title>\n<path d=\"M151.1629,-11607.4551C154.7026,-11599.1196 158.9823,-11589.0416 162.9051,-11579.8042\" fill=\"none\" stroke=\"#000000\"/>\n<polygon fill=\"#000000\" points=\"166.1306,-11581.1629 166.8178,-11570.5904 159.6874,-11578.4267 166.1306,-11581.1629\" stroke=\"#000000\"/>\n</g>\n<!-- 139885177135624 -->\n<g class=\"node\" id=\"node12\">\n<title>139885177135624</title>\n<polygon fill=\"none\" points=\"102.5,-11461.5 102.5,-11497.5 256.5,-11497.5 256.5,-11461.5 102.5,-11461.5\" stroke=\"#000000\"/>\n<text fill=\"#000000\" font-family=\"Times,serif\" font-size=\"14.00\" text-anchor=\"middle\" x=\"179.5\" y=\"-11475.8\">activation_3: Activation</text>\n</g>\n<!-- 139885177136688&#45;&gt;139885177135624 -->\n<g class=\"edge\" id=\"edge11\">\n<title>139885177136688-&gt;139885177135624</title>\n<path d=\"M175.736,-11534.4551C176.2888,-11526.3828 176.9537,-11516.6764 177.5697,-11507.6817\" fill=\"none\" stroke=\"#000000\"/>\n<polygon fill=\"#000000\" points=\"181.0693,-11507.8062 178.2609,-11497.5904 174.0857,-11507.3278 181.0693,-11507.8062\" stroke=\"#000000\"/>\n</g>\n<!-- 139885176668512 -->\n<g class=\"node\" id=\"node14\">\n<title>139885176668512</title>\n<polygon fill=\"none\" points=\"97.5,-11388.5 97.5,-11424.5 261.5,-11424.5 261.5,-11388.5 97.5,-11388.5\" stroke=\"#000000\"/>\n<text fill=\"#000000\" font-family=\"Times,serif\" font-size=\"14.00\" text-anchor=\"middle\" x=\"179.5\" y=\"-11402.8\">res2a_branch2c: Conv2D</text>\n</g>\n<!-- 139885177135624&#45;&gt;139885176668512 -->\n<g class=\"edge\" id=\"edge13\">\n<title>139885177135624-&gt;139885176668512</title>\n<path d=\"M179.5,-11461.4551C179.5,-11453.3828 179.5,-11443.6764 179.5,-11434.6817\" fill=\"none\" stroke=\"#000000\"/>\n<polygon fill=\"#000000\" points=\"183.0001,-11434.5903 179.5,-11424.5904 176.0001,-11434.5904 183.0001,-11434.5903\" stroke=\"#000000\"/>\n</g>\n<!-- 139885176801824 -->\n<g class=\"node\" id=\"node15\">\n<title>139885176801824</title>\n<polygon fill=\"none\" points=\"224,-11680.5 224,-11716.5 445,-11716.5 445,-11680.5 224,-11680.5\" stroke=\"#000000\"/>\n<text fill=\"#000000\" font-family=\"Times,serif\" font-size=\"14.00\" text-anchor=\"middle\" x=\"334.5\" y=\"-11694.8\">bn2a_branch1: BatchNormalization</text>\n</g>\n<!-- 139885176799472&#45;&gt;139885176801824 -->\n<g class=\"edge\" id=\"edge14\">\n<title>139885176799472-&gt;139885176801824</title>\n<path d=\"M336.0056,-11753.4551C335.7845,-11745.3828 335.5185,-11735.6764 335.2721,-11726.6817\" fill=\"none\" stroke=\"#000000\"/>\n<polygon fill=\"#000000\" points=\"338.7683,-11726.4907 334.9956,-11716.5904 331.7709,-11726.6825 338.7683,-11726.4907\" stroke=\"#000000\"/>\n</g>\n<!-- 139885176743864 -->\n<g class=\"node\" id=\"node16\">\n<title>139885176743864</title>\n<polygon fill=\"none\" points=\"66,-11315.5 66,-11351.5 293,-11351.5 293,-11315.5 66,-11315.5\" stroke=\"#000000\"/>\n<text fill=\"#000000\" font-family=\"Times,serif\" font-size=\"14.00\" text-anchor=\"middle\" x=\"179.5\" y=\"-11329.8\">bn2a_branch2c: BatchNormalization</text>\n</g>\n<!-- 139885176668512&#45;&gt;139885176743864 -->\n<g class=\"edge\" id=\"edge15\">\n<title>139885176668512-&gt;139885176743864</title>\n<path d=\"M179.5,-11388.4551C179.5,-11380.3828 179.5,-11370.6764 179.5,-11361.6817\" fill=\"none\" stroke=\"#000000\"/>\n<polygon fill=\"#000000\" points=\"183.0001,-11361.5903 179.5,-11351.5904 176.0001,-11361.5904 183.0001,-11361.5903\" stroke=\"#000000\"/>\n</g>\n<!-- 139885176871400 -->\n<g class=\"node\" id=\"node17\">\n<title>139885176871400</title>\n<polygon fill=\"none\" points=\"208,-11242.5 208,-11278.5 293,-11278.5 293,-11242.5 208,-11242.5\" stroke=\"#000000\"/>\n<text fill=\"#000000\" font-family=\"Times,serif\" font-size=\"14.00\" text-anchor=\"middle\" x=\"250.5\" y=\"-11256.8\">add_1: Add</text>\n</g>\n<!-- 139885176801824&#45;&gt;139885176871400 -->\n<g class=\"edge\" id=\"edge16\">\n<title>139885176801824-&gt;139885176871400</title>\n<path d=\"M332.6352,-11680.0845C329.999,-11652.4173 325.5,-11598.4656 325.5,-11552.5 325.5,-11552.5 325.5,-11552.5 325.5,-11406.5 325.5,-11364.4577 321.8174,-11351.807 301.5,-11315 295.6393,-11304.3828 287.2479,-11294.2448 278.9593,-11285.6546\" fill=\"none\" stroke=\"#000000\"/>\n<polygon fill=\"#000000\" points=\"281.3356,-11283.082 271.7681,-11278.5308 276.4093,-11288.055 281.3356,-11283.082\" stroke=\"#000000\"/>\n</g>\n<!-- 139885176743864&#45;&gt;139885176871400 -->\n<g class=\"edge\" id=\"edge17\">\n<title>139885176743864-&gt;139885176871400</title>\n<path d=\"M197.0506,-11315.4551C205.755,-11306.5054 216.4132,-11295.547 225.9156,-11285.7769\" fill=\"none\" stroke=\"#000000\"/>\n<polygon fill=\"#000000\" points=\"228.4421,-11288.1992 232.9053,-11278.5904 223.424,-11283.3187 228.4421,-11288.1992\" stroke=\"#000000\"/>\n</g>\n<!-- 139885176367984 -->\n<g class=\"node\" id=\"node18\">\n<title>139885176367984</title>\n<polygon fill=\"none\" points=\"173.5,-11169.5 173.5,-11205.5 327.5,-11205.5 327.5,-11169.5 173.5,-11169.5\" stroke=\"#000000\"/>\n<text fill=\"#000000\" font-family=\"Times,serif\" font-size=\"14.00\" text-anchor=\"middle\" x=\"250.5\" y=\"-11183.8\">activation_4: Activation</text>\n</g>\n<!-- 139885176871400&#45;&gt;139885176367984 -->\n<g class=\"edge\" id=\"edge18\">\n<title>139885176871400-&gt;139885176367984</title>\n<path d=\"M250.5,-11242.4551C250.5,-11234.3828 250.5,-11224.6764 250.5,-11215.6817\" fill=\"none\" stroke=\"#000000\"/>\n<polygon fill=\"#000000\" points=\"254.0001,-11215.5903 250.5,-11205.5904 247.0001,-11215.5904 254.0001,-11215.5903\" stroke=\"#000000\"/>\n</g>\n<!-- 139885176386728 -->\n<g class=\"node\" id=\"node19\">\n<title>139885176386728</title>\n<polygon fill=\"none\" points=\"97,-11096.5 97,-11132.5 262,-11132.5 262,-11096.5 97,-11096.5\" stroke=\"#000000\"/>\n<text fill=\"#000000\" font-family=\"Times,serif\" font-size=\"14.00\" text-anchor=\"middle\" x=\"179.5\" y=\"-11110.8\">res2b_branch2a: Conv2D</text>\n</g>\n<!-- 139885176367984&#45;&gt;139885176386728 -->\n<g class=\"edge\" id=\"edge19\">\n<title>139885176367984-&gt;139885176386728</title>\n<path d=\"M232.9494,-11169.4551C224.245,-11160.5054 213.5868,-11149.547 204.0844,-11139.7769\" fill=\"none\" stroke=\"#000000\"/>\n<polygon fill=\"#000000\" points=\"206.576,-11137.3187 197.0947,-11132.5904 201.5579,-11142.1992 206.576,-11137.3187\" stroke=\"#000000\"/>\n</g>\n<!-- 139885176237584 -->\n<g class=\"node\" id=\"node27\">\n<title>139885176237584</title>\n<polygon fill=\"none\" points=\"192,-10512.5 192,-10548.5 277,-10548.5 277,-10512.5 192,-10512.5\" stroke=\"#000000\"/>\n<text fill=\"#000000\" font-family=\"Times,serif\" font-size=\"14.00\" text-anchor=\"middle\" x=\"234.5\" y=\"-10526.8\">add_2: Add</text>\n</g>\n<!-- 139885176367984&#45;&gt;139885176237584 -->\n<g class=\"edge\" id=\"edge27\">\n<title>139885176367984-&gt;139885176237584</title>\n<path d=\"M262.3762,-11169.4575C278.8145,-11142.6944 306.5,-11090.366 306.5,-11041.5 306.5,-11041.5 306.5,-11041.5 306.5,-10676.5 306.5,-10634.8732 306.0378,-10621.7568 286.5,-10585 280.8031,-10574.2823 272.402,-10564.1724 264.0064,-10555.6383\" fill=\"none\" stroke=\"#000000\"/>\n<polygon fill=\"#000000\" points=\"266.3189,-10553.0057 256.6979,-10548.5687 261.452,-10558.037 266.3189,-10553.0057\" stroke=\"#000000\"/>\n</g>\n<!-- 139885176474480 -->\n<g class=\"node\" id=\"node20\">\n<title>139885176474480</title>\n<polygon fill=\"none\" points=\"49,-11023.5 49,-11059.5 278,-11059.5 278,-11023.5 49,-11023.5\" stroke=\"#000000\"/>\n<text fill=\"#000000\" font-family=\"Times,serif\" font-size=\"14.00\" text-anchor=\"middle\" x=\"163.5\" y=\"-11037.8\">bn2b_branch2a: BatchNormalization</text>\n</g>\n<!-- 139885176386728&#45;&gt;139885176474480 -->\n<g class=\"edge\" id=\"edge20\">\n<title>139885176386728-&gt;139885176474480</title>\n<path d=\"M175.5449,-11096.4551C173.7565,-11088.2951 171.602,-11078.4652 169.6126,-11069.3887\" fill=\"none\" stroke=\"#000000\"/>\n<polygon fill=\"#000000\" points=\"173.0249,-11068.6091 167.465,-11059.5904 166.1872,-11070.1079 173.0249,-11068.6091\" stroke=\"#000000\"/>\n</g>\n<!-- 139885176500120 -->\n<g class=\"node\" id=\"node21\">\n<title>139885176500120</title>\n<polygon fill=\"none\" points=\"86.5,-10950.5 86.5,-10986.5 240.5,-10986.5 240.5,-10950.5 86.5,-10950.5\" stroke=\"#000000\"/>\n<text fill=\"#000000\" font-family=\"Times,serif\" font-size=\"14.00\" text-anchor=\"middle\" x=\"163.5\" y=\"-10964.8\">activation_5: Activation</text>\n</g>\n<!-- 139885176474480&#45;&gt;139885176500120 -->\n<g class=\"edge\" id=\"edge21\">\n<title>139885176474480-&gt;139885176500120</title>\n<path d=\"M163.5,-11023.4551C163.5,-11015.3828 163.5,-11005.6764 163.5,-10996.6817\" fill=\"none\" stroke=\"#000000\"/>\n<polygon fill=\"#000000\" points=\"167.0001,-10996.5903 163.5,-10986.5904 160.0001,-10996.5904 167.0001,-10996.5903\" stroke=\"#000000\"/>\n</g>\n<!-- 139885176523184 -->\n<g class=\"node\" id=\"node22\">\n<title>139885176523184</title>\n<polygon fill=\"none\" points=\"80,-10877.5 80,-10913.5 247,-10913.5 247,-10877.5 80,-10877.5\" stroke=\"#000000\"/>\n<text fill=\"#000000\" font-family=\"Times,serif\" font-size=\"14.00\" text-anchor=\"middle\" x=\"163.5\" y=\"-10891.8\">res2b_branch2b: Conv2D</text>\n</g>\n<!-- 139885176500120&#45;&gt;139885176523184 -->\n<g class=\"edge\" id=\"edge22\">\n<title>139885176500120-&gt;139885176523184</title>\n<path d=\"M163.5,-10950.4551C163.5,-10942.3828 163.5,-10932.6764 163.5,-10923.6817\" fill=\"none\" stroke=\"#000000\"/>\n<polygon fill=\"#000000\" points=\"167.0001,-10923.5903 163.5,-10913.5904 160.0001,-10923.5904 167.0001,-10923.5903\" stroke=\"#000000\"/>\n</g>\n<!-- 139885176563360 -->\n<g class=\"node\" id=\"node23\">\n<title>139885176563360</title>\n<polygon fill=\"none\" points=\"48.5,-10804.5 48.5,-10840.5 278.5,-10840.5 278.5,-10804.5 48.5,-10804.5\" stroke=\"#000000\"/>\n<text fill=\"#000000\" font-family=\"Times,serif\" font-size=\"14.00\" text-anchor=\"middle\" x=\"163.5\" y=\"-10818.8\">bn2b_branch2b: BatchNormalization</text>\n</g>\n<!-- 139885176523184&#45;&gt;139885176563360 -->\n<g class=\"edge\" id=\"edge23\">\n<title>139885176523184-&gt;139885176563360</title>\n<path d=\"M163.5,-10877.4551C163.5,-10869.3828 163.5,-10859.6764 163.5,-10850.6817\" fill=\"none\" stroke=\"#000000\"/>\n<polygon fill=\"#000000\" points=\"167.0001,-10850.5903 163.5,-10840.5904 160.0001,-10850.5904 167.0001,-10850.5903\" stroke=\"#000000\"/>\n</g>\n<!-- 139885176101744 -->\n<g class=\"node\" id=\"node24\">\n<title>139885176101744</title>\n<polygon fill=\"none\" points=\"86.5,-10731.5 86.5,-10767.5 240.5,-10767.5 240.5,-10731.5 86.5,-10731.5\" stroke=\"#000000\"/>\n<text fill=\"#000000\" font-family=\"Times,serif\" font-size=\"14.00\" text-anchor=\"middle\" x=\"163.5\" y=\"-10745.8\">activation_6: Activation</text>\n</g>\n<!-- 139885176563360&#45;&gt;139885176101744 -->\n<g class=\"edge\" id=\"edge24\">\n<title>139885176563360-&gt;139885176101744</title>\n<path d=\"M163.5,-10804.4551C163.5,-10796.3828 163.5,-10786.6764 163.5,-10777.6817\" fill=\"none\" stroke=\"#000000\"/>\n<polygon fill=\"#000000\" points=\"167.0001,-10777.5903 163.5,-10767.5904 160.0001,-10777.5904 167.0001,-10777.5903\" stroke=\"#000000\"/>\n</g>\n<!-- 139885176130640 -->\n<g class=\"node\" id=\"node25\">\n<title>139885176130640</title>\n<polygon fill=\"none\" points=\"81,-10658.5 81,-10694.5 246,-10694.5 246,-10658.5 81,-10658.5\" stroke=\"#000000\"/>\n<text fill=\"#000000\" font-family=\"Times,serif\" font-size=\"14.00\" text-anchor=\"middle\" x=\"163.5\" y=\"-10672.8\">res2b_branch2c: Conv2D</text>\n</g>\n<!-- 139885176101744&#45;&gt;139885176130640 -->\n<g class=\"edge\" id=\"edge25\">\n<title>139885176101744-&gt;139885176130640</title>\n<path d=\"M163.5,-10731.4551C163.5,-10723.3828 163.5,-10713.6764 163.5,-10704.6817\" fill=\"none\" stroke=\"#000000\"/>\n<polygon fill=\"#000000\" points=\"167.0001,-10704.5903 163.5,-10694.5904 160.0001,-10704.5904 167.0001,-10704.5903\" stroke=\"#000000\"/>\n</g>\n<!-- 139885176156848 -->\n<g class=\"node\" id=\"node26\">\n<title>139885176156848</title>\n<polygon fill=\"none\" points=\"49,-10585.5 49,-10621.5 278,-10621.5 278,-10585.5 49,-10585.5\" stroke=\"#000000\"/>\n<text fill=\"#000000\" font-family=\"Times,serif\" font-size=\"14.00\" text-anchor=\"middle\" x=\"163.5\" y=\"-10599.8\">bn2b_branch2c: BatchNormalization</text>\n</g>\n<!-- 139885176130640&#45;&gt;139885176156848 -->\n<g class=\"edge\" id=\"edge26\">\n<title>139885176130640-&gt;139885176156848</title>\n<path d=\"M163.5,-10658.4551C163.5,-10650.3828 163.5,-10640.6764 163.5,-10631.6817\" fill=\"none\" stroke=\"#000000\"/>\n<polygon fill=\"#000000\" points=\"167.0001,-10631.5903 163.5,-10621.5904 160.0001,-10631.5904 167.0001,-10631.5903\" stroke=\"#000000\"/>\n</g>\n<!-- 139885176156848&#45;&gt;139885176237584 -->\n<g class=\"edge\" id=\"edge28\">\n<title>139885176156848-&gt;139885176237584</title>\n<path d=\"M181.0506,-10585.4551C189.755,-10576.5054 200.4132,-10565.547 209.9156,-10555.7769\" fill=\"none\" stroke=\"#000000\"/>\n<polygon fill=\"#000000\" points=\"212.4421,-10558.1992 216.9053,-10548.5904 207.424,-10553.3187 212.4421,-10558.1992\" stroke=\"#000000\"/>\n</g>\n<!-- 139885176258288 -->\n<g class=\"node\" id=\"node28\">\n<title>139885176258288</title>\n<polygon fill=\"none\" points=\"157.5,-10439.5 157.5,-10475.5 311.5,-10475.5 311.5,-10439.5 157.5,-10439.5\" stroke=\"#000000\"/>\n<text fill=\"#000000\" font-family=\"Times,serif\" font-size=\"14.00\" text-anchor=\"middle\" x=\"234.5\" y=\"-10453.8\">activation_7: Activation</text>\n</g>\n<!-- 139885176237584&#45;&gt;139885176258288 -->\n<g class=\"edge\" id=\"edge29\">\n<title>139885176237584-&gt;139885176258288</title>\n<path d=\"M234.5,-10512.4551C234.5,-10504.3828 234.5,-10494.6764 234.5,-10485.6817\" fill=\"none\" stroke=\"#000000\"/>\n<polygon fill=\"#000000\" points=\"238.0001,-10485.5903 234.5,-10475.5904 231.0001,-10485.5904 238.0001,-10485.5903\" stroke=\"#000000\"/>\n</g>\n<!-- 139885176562688 -->\n<g class=\"node\" id=\"node29\">\n<title>139885176562688</title>\n<polygon fill=\"none\" points=\"81.5,-10366.5 81.5,-10402.5 245.5,-10402.5 245.5,-10366.5 81.5,-10366.5\" stroke=\"#000000\"/>\n<text fill=\"#000000\" font-family=\"Times,serif\" font-size=\"14.00\" text-anchor=\"middle\" x=\"163.5\" y=\"-10380.8\">res2c_branch2a: Conv2D</text>\n</g>\n<!-- 139885176258288&#45;&gt;139885176562688 -->\n<g class=\"edge\" id=\"edge30\">\n<title>139885176258288-&gt;139885176562688</title>\n<path d=\"M216.9494,-10439.4551C208.245,-10430.5054 197.5868,-10419.547 188.0844,-10409.7769\" fill=\"none\" stroke=\"#000000\"/>\n<polygon fill=\"#000000\" points=\"190.576,-10407.3187 181.0947,-10402.5904 185.5579,-10412.1992 190.576,-10407.3187\" stroke=\"#000000\"/>\n</g>\n<!-- 139885176096304 -->\n<g class=\"node\" id=\"node37\">\n<title>139885176096304</title>\n<polygon fill=\"none\" points=\"176,-9782.5 176,-9818.5 261,-9818.5 261,-9782.5 176,-9782.5\" stroke=\"#000000\"/>\n<text fill=\"#000000\" font-family=\"Times,serif\" font-size=\"14.00\" text-anchor=\"middle\" x=\"218.5\" y=\"-9796.8\">add_3: Add</text>\n</g>\n<!-- 139885176258288&#45;&gt;139885176096304 -->\n<g class=\"edge\" id=\"edge38\">\n<title>139885176258288-&gt;139885176096304</title>\n<path d=\"M246.1641,-10439.4282C262.3088,-10412.6285 289.5,-10360.255 289.5,-10311.5 289.5,-10311.5 289.5,-10311.5 289.5,-9946.5 289.5,-9904.8732 288.8594,-9891.8511 269.5,-9855 263.9066,-9844.3527 255.6654,-9834.2622 247.4315,-9825.7242\" fill=\"none\" stroke=\"#000000\"/>\n<polygon fill=\"#000000\" points=\"249.8388,-9823.1825 240.2644,-9818.6458 244.92,-9828.163 249.8388,-9823.1825\" stroke=\"#000000\"/>\n</g>\n<!-- 139885175838032 -->\n<g class=\"node\" id=\"node30\">\n<title>139885175838032</title>\n<polygon fill=\"none\" points=\"34,-10293.5 34,-10329.5 261,-10329.5 261,-10293.5 34,-10293.5\" stroke=\"#000000\"/>\n<text fill=\"#000000\" font-family=\"Times,serif\" font-size=\"14.00\" text-anchor=\"middle\" x=\"147.5\" y=\"-10307.8\">bn2c_branch2a: BatchNormalization</text>\n</g>\n<!-- 139885176562688&#45;&gt;139885175838032 -->\n<g class=\"edge\" id=\"edge31\">\n<title>139885176562688-&gt;139885175838032</title>\n<path d=\"M159.5449,-10366.4551C157.7565,-10358.2951 155.602,-10348.4652 153.6126,-10339.3887\" fill=\"none\" stroke=\"#000000\"/>\n<polygon fill=\"#000000\" points=\"157.0249,-10338.6091 151.465,-10329.5904 150.1872,-10340.1079 157.0249,-10338.6091\" stroke=\"#000000\"/>\n</g>\n<!-- 139885175840328 -->\n<g class=\"node\" id=\"node31\">\n<title>139885175840328</title>\n<polygon fill=\"none\" points=\"70.5,-10220.5 70.5,-10256.5 224.5,-10256.5 224.5,-10220.5 70.5,-10220.5\" stroke=\"#000000\"/>\n<text fill=\"#000000\" font-family=\"Times,serif\" font-size=\"14.00\" text-anchor=\"middle\" x=\"147.5\" y=\"-10234.8\">activation_8: Activation</text>\n</g>\n<!-- 139885175838032&#45;&gt;139885175840328 -->\n<g class=\"edge\" id=\"edge32\">\n<title>139885175838032-&gt;139885175840328</title>\n<path d=\"M147.5,-10293.4551C147.5,-10285.3828 147.5,-10275.6764 147.5,-10266.6817\" fill=\"none\" stroke=\"#000000\"/>\n<polygon fill=\"#000000\" points=\"151.0001,-10266.5903 147.5,-10256.5904 144.0001,-10266.5904 151.0001,-10266.5903\" stroke=\"#000000\"/>\n</g>\n<!-- 139885175885952 -->\n<g class=\"node\" id=\"node32\">\n<title>139885175885952</title>\n<polygon fill=\"none\" points=\"65,-10147.5 65,-10183.5 230,-10183.5 230,-10147.5 65,-10147.5\" stroke=\"#000000\"/>\n<text fill=\"#000000\" font-family=\"Times,serif\" font-size=\"14.00\" text-anchor=\"middle\" x=\"147.5\" y=\"-10161.8\">res2c_branch2b: Conv2D</text>\n</g>\n<!-- 139885175840328&#45;&gt;139885175885952 -->\n<g class=\"edge\" id=\"edge33\">\n<title>139885175840328-&gt;139885175885952</title>\n<path d=\"M147.5,-10220.4551C147.5,-10212.3828 147.5,-10202.6764 147.5,-10193.6817\" fill=\"none\" stroke=\"#000000\"/>\n<polygon fill=\"#000000\" points=\"151.0001,-10193.5903 147.5,-10183.5904 144.0001,-10193.5904 151.0001,-10193.5903\" stroke=\"#000000\"/>\n</g>\n<!-- 139885175961808 -->\n<g class=\"node\" id=\"node33\">\n<title>139885175961808</title>\n<polygon fill=\"none\" points=\"32,-10074.5 32,-10110.5 261,-10110.5 261,-10074.5 32,-10074.5\" stroke=\"#000000\"/>\n<text fill=\"#000000\" font-family=\"Times,serif\" font-size=\"14.00\" text-anchor=\"middle\" x=\"146.5\" y=\"-10088.8\">bn2c_branch2b: BatchNormalization</text>\n</g>\n<!-- 139885175885952&#45;&gt;139885175961808 -->\n<g class=\"edge\" id=\"edge34\">\n<title>139885175885952-&gt;139885175961808</title>\n<path d=\"M147.2528,-10147.4551C147.1422,-10139.3828 147.0093,-10129.6764 146.8861,-10120.6817\" fill=\"none\" stroke=\"#000000\"/>\n<polygon fill=\"#000000\" points=\"150.3846,-10120.5414 146.7478,-10110.5904 143.3852,-10120.6374 150.3846,-10120.5414\" stroke=\"#000000\"/>\n</g>\n<!-- 139885175960464 -->\n<g class=\"node\" id=\"node34\">\n<title>139885175960464</title>\n<polygon fill=\"none\" points=\"69.5,-10001.5 69.5,-10037.5 223.5,-10037.5 223.5,-10001.5 69.5,-10001.5\" stroke=\"#000000\"/>\n<text fill=\"#000000\" font-family=\"Times,serif\" font-size=\"14.00\" text-anchor=\"middle\" x=\"146.5\" y=\"-10015.8\">activation_9: Activation</text>\n</g>\n<!-- 139885175961808&#45;&gt;139885175960464 -->\n<g class=\"edge\" id=\"edge35\">\n<title>139885175961808-&gt;139885175960464</title>\n<path d=\"M146.5,-10074.4551C146.5,-10066.3828 146.5,-10056.6764 146.5,-10047.6817\" fill=\"none\" stroke=\"#000000\"/>\n<polygon fill=\"#000000\" points=\"150.0001,-10047.5903 146.5,-10037.5904 143.0001,-10047.5904 150.0001,-10047.5903\" stroke=\"#000000\"/>\n</g>\n<!-- 139885176014104 -->\n<g class=\"node\" id=\"node35\">\n<title>139885176014104</title>\n<polygon fill=\"none\" points=\"64.5,-9928.5 64.5,-9964.5 228.5,-9964.5 228.5,-9928.5 64.5,-9928.5\" stroke=\"#000000\"/>\n<text fill=\"#000000\" font-family=\"Times,serif\" font-size=\"14.00\" text-anchor=\"middle\" x=\"146.5\" y=\"-9942.8\">res2c_branch2c: Conv2D</text>\n</g>\n<!-- 139885175960464&#45;&gt;139885176014104 -->\n<g class=\"edge\" id=\"edge36\">\n<title>139885175960464-&gt;139885176014104</title>\n<path d=\"M146.5,-10001.4551C146.5,-9993.3828 146.5,-9983.6764 146.5,-9974.6817\" fill=\"none\" stroke=\"#000000\"/>\n<polygon fill=\"#000000\" points=\"150.0001,-9974.5903 146.5,-9964.5904 143.0001,-9974.5904 150.0001,-9974.5903\" stroke=\"#000000\"/>\n</g>\n<!-- 139885176097648 -->\n<g class=\"node\" id=\"node36\">\n<title>139885176097648</title>\n<polygon fill=\"none\" points=\"34,-9855.5 34,-9891.5 261,-9891.5 261,-9855.5 34,-9855.5\" stroke=\"#000000\"/>\n<text fill=\"#000000\" font-family=\"Times,serif\" font-size=\"14.00\" text-anchor=\"middle\" x=\"147.5\" y=\"-9869.8\">bn2c_branch2c: BatchNormalization</text>\n</g>\n<!-- 139885176014104&#45;&gt;139885176097648 -->\n<g class=\"edge\" id=\"edge37\">\n<title>139885176014104-&gt;139885176097648</title>\n<path d=\"M146.7472,-9928.4551C146.8578,-9920.3828 146.9907,-9910.6764 147.1139,-9901.6817\" fill=\"none\" stroke=\"#000000\"/>\n<polygon fill=\"#000000\" points=\"150.6148,-9901.6374 147.2522,-9891.5904 143.6154,-9901.5414 150.6148,-9901.6374\" stroke=\"#000000\"/>\n</g>\n<!-- 139885176097648&#45;&gt;139885176096304 -->\n<g class=\"edge\" id=\"edge39\">\n<title>139885176097648-&gt;139885176096304</title>\n<path d=\"M165.0506,-9855.4551C173.755,-9846.5054 184.4132,-9835.547 193.9156,-9825.7769\" fill=\"none\" stroke=\"#000000\"/>\n<polygon fill=\"#000000\" points=\"196.4421,-9828.1992 200.9053,-9818.5904 191.424,-9823.3187 196.4421,-9828.1992\" stroke=\"#000000\"/>\n</g>\n<!-- 139885175621560 -->\n<g class=\"node\" id=\"node38\">\n<title>139885175621560</title>\n<polygon fill=\"none\" points=\"138,-9709.5 138,-9745.5 299,-9745.5 299,-9709.5 138,-9709.5\" stroke=\"#000000\"/>\n<text fill=\"#000000\" font-family=\"Times,serif\" font-size=\"14.00\" text-anchor=\"middle\" x=\"218.5\" y=\"-9723.8\">activation_10: Activation</text>\n</g>\n<!-- 139885176096304&#45;&gt;139885175621560 -->\n<g class=\"edge\" id=\"edge40\">\n<title>139885176096304-&gt;139885175621560</title>\n<path d=\"M218.5,-9782.4551C218.5,-9774.3828 218.5,-9764.6764 218.5,-9755.6817\" fill=\"none\" stroke=\"#000000\"/>\n<polygon fill=\"#000000\" points=\"222.0001,-9755.5903 218.5,-9745.5904 215.0001,-9755.5904 222.0001,-9755.5903\" stroke=\"#000000\"/>\n</g>\n<!-- 139885175621168 -->\n<g class=\"node\" id=\"node39\">\n<title>139885175621168</title>\n<polygon fill=\"none\" points=\"81.5,-9636.5 81.5,-9672.5 245.5,-9672.5 245.5,-9636.5 81.5,-9636.5\" stroke=\"#000000\"/>\n<text fill=\"#000000\" font-family=\"Times,serif\" font-size=\"14.00\" text-anchor=\"middle\" x=\"163.5\" y=\"-9650.8\">res3a_branch2a: Conv2D</text>\n</g>\n<!-- 139885175621560&#45;&gt;139885175621168 -->\n<g class=\"edge\" id=\"edge41\">\n<title>139885175621560-&gt;139885175621168</title>\n<path d=\"M204.9045,-9709.4551C198.3599,-9700.7686 190.3896,-9690.1898 183.196,-9680.642\" fill=\"none\" stroke=\"#000000\"/>\n<polygon fill=\"#000000\" points=\"185.9427,-9678.4711 177.1297,-9672.5904 180.3518,-9682.6834 185.9427,-9678.4711\" stroke=\"#000000\"/>\n</g>\n<!-- 139885175488408 -->\n<g class=\"node\" id=\"node45\">\n<title>139885175488408</title>\n<polygon fill=\"none\" points=\"245.5,-9563.5 245.5,-9599.5 403.5,-9599.5 403.5,-9563.5 245.5,-9563.5\" stroke=\"#000000\"/>\n<text fill=\"#000000\" font-family=\"Times,serif\" font-size=\"14.00\" text-anchor=\"middle\" x=\"324.5\" y=\"-9577.8\">res3a_branch1: Conv2D</text>\n</g>\n<!-- 139885175621560&#45;&gt;139885175488408 -->\n<g class=\"edge\" id=\"edge47\">\n<title>139885175621560-&gt;139885175488408</title>\n<path d=\"M231.7106,-9709.3042C250.1981,-9683.8403 283.9072,-9637.4108 305.2051,-9608.0759\" fill=\"none\" stroke=\"#000000\"/>\n<polygon fill=\"#000000\" points=\"308.08,-9610.0736 311.1229,-9599.9251 302.4154,-9605.961 308.08,-9610.0736\" stroke=\"#000000\"/>\n</g>\n<!-- 139885175718296 -->\n<g class=\"node\" id=\"node40\">\n<title>139885175718296</title>\n<polygon fill=\"none\" points=\"0,-9563.5 0,-9599.5 227,-9599.5 227,-9563.5 0,-9563.5\" stroke=\"#000000\"/>\n<text fill=\"#000000\" font-family=\"Times,serif\" font-size=\"14.00\" text-anchor=\"middle\" x=\"113.5\" y=\"-9577.8\">bn3a_branch2a: BatchNormalization</text>\n</g>\n<!-- 139885175621168&#45;&gt;139885175718296 -->\n<g class=\"edge\" id=\"edge42\">\n<title>139885175621168-&gt;139885175718296</title>\n<path d=\"M151.1404,-9636.4551C145.2509,-9627.8564 138.0913,-9617.4034 131.6039,-9607.9316\" fill=\"none\" stroke=\"#000000\"/>\n<polygon fill=\"#000000\" points=\"134.4292,-9605.8628 125.8907,-9599.5904 128.654,-9609.8185 134.4292,-9605.8628\" stroke=\"#000000\"/>\n</g>\n<!-- 139885175720536 -->\n<g class=\"node\" id=\"node41\">\n<title>139885175720536</title>\n<polygon fill=\"none\" points=\"34,-9490.5 34,-9526.5 195,-9526.5 195,-9490.5 34,-9490.5\" stroke=\"#000000\"/>\n<text fill=\"#000000\" font-family=\"Times,serif\" font-size=\"14.00\" text-anchor=\"middle\" x=\"114.5\" y=\"-9504.8\">activation_11: Activation</text>\n</g>\n<!-- 139885175718296&#45;&gt;139885175720536 -->\n<g class=\"edge\" id=\"edge43\">\n<title>139885175718296-&gt;139885175720536</title>\n<path d=\"M113.7472,-9563.4551C113.8578,-9555.3828 113.9907,-9545.6764 114.1139,-9536.6817\" fill=\"none\" stroke=\"#000000\"/>\n<polygon fill=\"#000000\" points=\"117.6148,-9536.6374 114.2522,-9526.5904 110.6154,-9536.5414 117.6148,-9536.6374\" stroke=\"#000000\"/>\n</g>\n<!-- 139885175749712 -->\n<g class=\"node\" id=\"node42\">\n<title>139885175749712</title>\n<polygon fill=\"none\" points=\"65,-9417.5 65,-9453.5 230,-9453.5 230,-9417.5 65,-9417.5\" stroke=\"#000000\"/>\n<text fill=\"#000000\" font-family=\"Times,serif\" font-size=\"14.00\" text-anchor=\"middle\" x=\"147.5\" y=\"-9431.8\">res3a_branch2b: Conv2D</text>\n</g>\n<!-- 139885175720536&#45;&gt;139885175749712 -->\n<g class=\"edge\" id=\"edge44\">\n<title>139885175720536-&gt;139885175749712</title>\n<path d=\"M122.6573,-9490.4551C126.4254,-9482.1196 130.9812,-9472.0416 135.157,-9462.8042\" fill=\"none\" stroke=\"#000000\"/>\n<polygon fill=\"#000000\" points=\"138.3922,-9464.1443 139.3222,-9453.5904 132.0136,-9461.2608 138.3922,-9464.1443\" stroke=\"#000000\"/>\n</g>\n<!-- 139885175775920 -->\n<g class=\"node\" id=\"node43\">\n<title>139885175775920</title>\n<polygon fill=\"none\" points=\"49,-9344.5 49,-9380.5 278,-9380.5 278,-9344.5 49,-9344.5\" stroke=\"#000000\"/>\n<text fill=\"#000000\" font-family=\"Times,serif\" font-size=\"14.00\" text-anchor=\"middle\" x=\"163.5\" y=\"-9358.8\">bn3a_branch2b: BatchNormalization</text>\n</g>\n<!-- 139885175749712&#45;&gt;139885175775920 -->\n<g class=\"edge\" id=\"edge45\">\n<title>139885175749712-&gt;139885175775920</title>\n<path d=\"M151.4551,-9417.4551C153.2435,-9409.2951 155.398,-9399.4652 157.3874,-9390.3887\" fill=\"none\" stroke=\"#000000\"/>\n<polygon fill=\"#000000\" points=\"160.8128,-9391.1079 159.535,-9380.5904 153.9751,-9389.6091 160.8128,-9391.1079\" stroke=\"#000000\"/>\n</g>\n<!-- 139885175324176 -->\n<g class=\"node\" id=\"node44\">\n<title>139885175324176</title>\n<polygon fill=\"none\" points=\"92,-9271.5 92,-9307.5 253,-9307.5 253,-9271.5 92,-9271.5\" stroke=\"#000000\"/>\n<text fill=\"#000000\" font-family=\"Times,serif\" font-size=\"14.00\" text-anchor=\"middle\" x=\"172.5\" y=\"-9285.8\">activation_12: Activation</text>\n</g>\n<!-- 139885175775920&#45;&gt;139885175324176 -->\n<g class=\"edge\" id=\"edge46\">\n<title>139885175775920-&gt;139885175324176</title>\n<path d=\"M165.7247,-9344.4551C166.7199,-9336.3828 167.9166,-9326.6764 169.0255,-9317.6817\" fill=\"none\" stroke=\"#000000\"/>\n<polygon fill=\"#000000\" points=\"172.5197,-9317.9435 170.2697,-9307.5904 165.5723,-9317.0869 172.5197,-9317.9435\" stroke=\"#000000\"/>\n</g>\n<!-- 139885175353072 -->\n<g class=\"node\" id=\"node46\">\n<title>139885175353072</title>\n<polygon fill=\"none\" points=\"90.5,-9198.5 90.5,-9234.5 254.5,-9234.5 254.5,-9198.5 90.5,-9198.5\" stroke=\"#000000\"/>\n<text fill=\"#000000\" font-family=\"Times,serif\" font-size=\"14.00\" text-anchor=\"middle\" x=\"172.5\" y=\"-9212.8\">res3a_branch2c: Conv2D</text>\n</g>\n<!-- 139885175324176&#45;&gt;139885175353072 -->\n<g class=\"edge\" id=\"edge48\">\n<title>139885175324176-&gt;139885175353072</title>\n<path d=\"M172.5,-9271.4551C172.5,-9263.3828 172.5,-9253.6764 172.5,-9244.6817\" fill=\"none\" stroke=\"#000000\"/>\n<polygon fill=\"#000000\" points=\"176.0001,-9244.5903 172.5,-9234.5904 169.0001,-9244.5904 176.0001,-9244.5903\" stroke=\"#000000\"/>\n</g>\n<!-- 139885175519216 -->\n<g class=\"node\" id=\"node47\">\n<title>139885175519216</title>\n<polygon fill=\"none\" points=\"213,-9490.5 213,-9526.5 434,-9526.5 434,-9490.5 213,-9490.5\" stroke=\"#000000\"/>\n<text fill=\"#000000\" font-family=\"Times,serif\" font-size=\"14.00\" text-anchor=\"middle\" x=\"323.5\" y=\"-9504.8\">bn3a_branch1: BatchNormalization</text>\n</g>\n<!-- 139885175488408&#45;&gt;139885175519216 -->\n<g class=\"edge\" id=\"edge49\">\n<title>139885175488408-&gt;139885175519216</title>\n<path d=\"M324.2528,-9563.4551C324.1422,-9555.3828 324.0093,-9545.6764 323.8861,-9536.6817\" fill=\"none\" stroke=\"#000000\"/>\n<polygon fill=\"#000000\" points=\"327.3846,-9536.5414 323.7478,-9526.5904 320.3852,-9536.6374 327.3846,-9536.5414\" stroke=\"#000000\"/>\n</g>\n<!-- 139885175366992 -->\n<g class=\"node\" id=\"node48\">\n<title>139885175366992</title>\n<polygon fill=\"none\" points=\"59,-9125.5 59,-9161.5 286,-9161.5 286,-9125.5 59,-9125.5\" stroke=\"#000000\"/>\n<text fill=\"#000000\" font-family=\"Times,serif\" font-size=\"14.00\" text-anchor=\"middle\" x=\"172.5\" y=\"-9139.8\">bn3a_branch2c: BatchNormalization</text>\n</g>\n<!-- 139885175353072&#45;&gt;139885175366992 -->\n<g class=\"edge\" id=\"edge50\">\n<title>139885175353072-&gt;139885175366992</title>\n<path d=\"M172.5,-9198.4551C172.5,-9190.3828 172.5,-9180.6764 172.5,-9171.6817\" fill=\"none\" stroke=\"#000000\"/>\n<polygon fill=\"#000000\" points=\"176.0001,-9171.5903 172.5,-9161.5904 169.0001,-9171.5904 176.0001,-9171.5903\" stroke=\"#000000\"/>\n</g>\n<!-- 139885175064504 -->\n<g class=\"node\" id=\"node49\">\n<title>139885175064504</title>\n<polygon fill=\"none\" points=\"201,-9052.5 201,-9088.5 286,-9088.5 286,-9052.5 201,-9052.5\" stroke=\"#000000\"/>\n<text fill=\"#000000\" font-family=\"Times,serif\" font-size=\"14.00\" text-anchor=\"middle\" x=\"243.5\" y=\"-9066.8\">add_4: Add</text>\n</g>\n<!-- 139885175519216&#45;&gt;139885175064504 -->\n<g class=\"edge\" id=\"edge51\">\n<title>139885175519216-&gt;139885175064504</title>\n<path d=\"M321.6352,-9490.0845C318.999,-9462.4173 314.5,-9408.4656 314.5,-9362.5 314.5,-9362.5 314.5,-9362.5 314.5,-9216.5 314.5,-9174.8732 313.8594,-9161.8511 294.5,-9125 288.9066,-9114.3527 280.6654,-9104.2622 272.4315,-9095.7242\" fill=\"none\" stroke=\"#000000\"/>\n<polygon fill=\"#000000\" points=\"274.8388,-9093.1825 265.2644,-9088.6458 269.92,-9098.163 274.8388,-9093.1825\" stroke=\"#000000\"/>\n</g>\n<!-- 139885175366992&#45;&gt;139885175064504 -->\n<g class=\"edge\" id=\"edge52\">\n<title>139885175366992-&gt;139885175064504</title>\n<path d=\"M190.0506,-9125.4551C198.755,-9116.5054 209.4132,-9105.547 218.9156,-9095.7769\" fill=\"none\" stroke=\"#000000\"/>\n<polygon fill=\"#000000\" points=\"221.4421,-9098.1992 225.9053,-9088.5904 216.424,-9093.3187 221.4421,-9098.1992\" stroke=\"#000000\"/>\n</g>\n<!-- 139885175093568 -->\n<g class=\"node\" id=\"node50\">\n<title>139885175093568</title>\n<polygon fill=\"none\" points=\"163,-8979.5 163,-9015.5 324,-9015.5 324,-8979.5 163,-8979.5\" stroke=\"#000000\"/>\n<text fill=\"#000000\" font-family=\"Times,serif\" font-size=\"14.00\" text-anchor=\"middle\" x=\"243.5\" y=\"-8993.8\">activation_13: Activation</text>\n</g>\n<!-- 139885175064504&#45;&gt;139885175093568 -->\n<g class=\"edge\" id=\"edge53\">\n<title>139885175064504-&gt;139885175093568</title>\n<path d=\"M243.5,-9052.4551C243.5,-9044.3828 243.5,-9034.6764 243.5,-9025.6817\" fill=\"none\" stroke=\"#000000\"/>\n<polygon fill=\"#000000\" points=\"247.0001,-9025.5903 243.5,-9015.5904 240.0001,-9025.5904 247.0001,-9025.5903\" stroke=\"#000000\"/>\n</g>\n<!-- 139885175114272 -->\n<g class=\"node\" id=\"node51\">\n<title>139885175114272</title>\n<polygon fill=\"none\" points=\"106,-8906.5 106,-8942.5 271,-8942.5 271,-8906.5 106,-8906.5\" stroke=\"#000000\"/>\n<text fill=\"#000000\" font-family=\"Times,serif\" font-size=\"14.00\" text-anchor=\"middle\" x=\"188.5\" y=\"-8920.8\">res3b_branch2a: Conv2D</text>\n</g>\n<!-- 139885175093568&#45;&gt;139885175114272 -->\n<g class=\"edge\" id=\"edge54\">\n<title>139885175093568-&gt;139885175114272</title>\n<path d=\"M229.9045,-8979.4551C223.3599,-8970.7686 215.3896,-8960.1898 208.196,-8950.642\" fill=\"none\" stroke=\"#000000\"/>\n<polygon fill=\"#000000\" points=\"210.9427,-8948.4711 202.1297,-8942.5904 205.3518,-8952.6834 210.9427,-8948.4711\" stroke=\"#000000\"/>\n</g>\n<!-- 139885174950880 -->\n<g class=\"node\" id=\"node59\">\n<title>139885174950880</title>\n<polygon fill=\"none\" points=\"201,-8322.5 201,-8358.5 286,-8358.5 286,-8322.5 201,-8322.5\" stroke=\"#000000\"/>\n<text fill=\"#000000\" font-family=\"Times,serif\" font-size=\"14.00\" text-anchor=\"middle\" x=\"243.5\" y=\"-8336.8\">add_5: Add</text>\n</g>\n<!-- 139885175093568&#45;&gt;139885174950880 -->\n<g class=\"edge\" id=\"edge62\">\n<title>139885175093568-&gt;139885174950880</title>\n<path d=\"M259.4791,-8979.1083C280.6909,-8952.7403 315.5,-8901.8061 315.5,-8851.5 315.5,-8851.5 315.5,-8851.5 315.5,-8486.5 315.5,-8444.8732 315.0378,-8431.7568 295.5,-8395 289.8031,-8384.2823 281.402,-8374.1724 273.0064,-8365.6383\" fill=\"none\" stroke=\"#000000\"/>\n<polygon fill=\"#000000\" points=\"275.3189,-8363.0057 265.6979,-8358.5687 270.452,-8368.037 275.3189,-8363.0057\" stroke=\"#000000\"/>\n</g>\n<!-- 139885175187776 -->\n<g class=\"node\" id=\"node52\">\n<title>139885175187776</title>\n<polygon fill=\"none\" points=\"58,-8833.5 58,-8869.5 287,-8869.5 287,-8833.5 58,-8833.5\" stroke=\"#000000\"/>\n<text fill=\"#000000\" font-family=\"Times,serif\" font-size=\"14.00\" text-anchor=\"middle\" x=\"172.5\" y=\"-8847.8\">bn3b_branch2a: BatchNormalization</text>\n</g>\n<!-- 139885175114272&#45;&gt;139885175187776 -->\n<g class=\"edge\" id=\"edge55\">\n<title>139885175114272-&gt;139885175187776</title>\n<path d=\"M184.5449,-8906.4551C182.7565,-8898.2951 180.602,-8888.4652 178.6126,-8879.3887\" fill=\"none\" stroke=\"#000000\"/>\n<polygon fill=\"#000000\" points=\"182.0249,-8878.6091 176.465,-8869.5904 175.1872,-8880.1079 182.0249,-8878.6091\" stroke=\"#000000\"/>\n</g>\n<!-- 139885175209264 -->\n<g class=\"node\" id=\"node53\">\n<title>139885175209264</title>\n<polygon fill=\"none\" points=\"92,-8760.5 92,-8796.5 253,-8796.5 253,-8760.5 92,-8760.5\" stroke=\"#000000\"/>\n<text fill=\"#000000\" font-family=\"Times,serif\" font-size=\"14.00\" text-anchor=\"middle\" x=\"172.5\" y=\"-8774.8\">activation_14: Activation</text>\n</g>\n<!-- 139885175187776&#45;&gt;139885175209264 -->\n<g class=\"edge\" id=\"edge56\">\n<title>139885175187776-&gt;139885175209264</title>\n<path d=\"M172.5,-8833.4551C172.5,-8825.3828 172.5,-8815.6764 172.5,-8806.6817\" fill=\"none\" stroke=\"#000000\"/>\n<polygon fill=\"#000000\" points=\"176.0001,-8806.5903 172.5,-8796.5904 169.0001,-8806.5904 176.0001,-8806.5903\" stroke=\"#000000\"/>\n</g>\n<!-- 139885175232384 -->\n<g class=\"node\" id=\"node54\">\n<title>139885175232384</title>\n<polygon fill=\"none\" points=\"89,-8687.5 89,-8723.5 256,-8723.5 256,-8687.5 89,-8687.5\" stroke=\"#000000\"/>\n<text fill=\"#000000\" font-family=\"Times,serif\" font-size=\"14.00\" text-anchor=\"middle\" x=\"172.5\" y=\"-8701.8\">res3b_branch2b: Conv2D</text>\n</g>\n<!-- 139885175209264&#45;&gt;139885175232384 -->\n<g class=\"edge\" id=\"edge57\">\n<title>139885175209264-&gt;139885175232384</title>\n<path d=\"M172.5,-8760.4551C172.5,-8752.3828 172.5,-8742.6764 172.5,-8733.6817\" fill=\"none\" stroke=\"#000000\"/>\n<polygon fill=\"#000000\" points=\"176.0001,-8733.5903 172.5,-8723.5904 169.0001,-8733.5904 176.0001,-8733.5903\" stroke=\"#000000\"/>\n</g>\n<!-- 139885174796128 -->\n<g class=\"node\" id=\"node55\">\n<title>139885174796128</title>\n<polygon fill=\"none\" points=\"57.5,-8614.5 57.5,-8650.5 287.5,-8650.5 287.5,-8614.5 57.5,-8614.5\" stroke=\"#000000\"/>\n<text fill=\"#000000\" font-family=\"Times,serif\" font-size=\"14.00\" text-anchor=\"middle\" x=\"172.5\" y=\"-8628.8\">bn3b_branch2b: BatchNormalization</text>\n</g>\n<!-- 139885175232384&#45;&gt;139885174796128 -->\n<g class=\"edge\" id=\"edge58\">\n<title>139885175232384-&gt;139885174796128</title>\n<path d=\"M172.5,-8687.4551C172.5,-8679.3828 172.5,-8669.6764 172.5,-8660.6817\" fill=\"none\" stroke=\"#000000\"/>\n<polygon fill=\"#000000\" points=\"176.0001,-8660.5903 172.5,-8650.5904 169.0001,-8660.5904 176.0001,-8660.5903\" stroke=\"#000000\"/>\n</g>\n<!-- 139885174811392 -->\n<g class=\"node\" id=\"node56\">\n<title>139885174811392</title>\n<polygon fill=\"none\" points=\"92,-8541.5 92,-8577.5 253,-8577.5 253,-8541.5 92,-8541.5\" stroke=\"#000000\"/>\n<text fill=\"#000000\" font-family=\"Times,serif\" font-size=\"14.00\" text-anchor=\"middle\" x=\"172.5\" y=\"-8555.8\">activation_15: Activation</text>\n</g>\n<!-- 139885174796128&#45;&gt;139885174811392 -->\n<g class=\"edge\" id=\"edge59\">\n<title>139885174796128-&gt;139885174811392</title>\n<path d=\"M172.5,-8614.4551C172.5,-8606.3828 172.5,-8596.6764 172.5,-8587.6817\" fill=\"none\" stroke=\"#000000\"/>\n<polygon fill=\"#000000\" points=\"176.0001,-8587.5903 172.5,-8577.5904 169.0001,-8587.5904 176.0001,-8587.5903\" stroke=\"#000000\"/>\n</g>\n<!-- 139885174831648 -->\n<g class=\"node\" id=\"node57\">\n<title>139885174831648</title>\n<polygon fill=\"none\" points=\"90,-8468.5 90,-8504.5 255,-8504.5 255,-8468.5 90,-8468.5\" stroke=\"#000000\"/>\n<text fill=\"#000000\" font-family=\"Times,serif\" font-size=\"14.00\" text-anchor=\"middle\" x=\"172.5\" y=\"-8482.8\">res3b_branch2c: Conv2D</text>\n</g>\n<!-- 139885174811392&#45;&gt;139885174831648 -->\n<g class=\"edge\" id=\"edge60\">\n<title>139885174811392-&gt;139885174831648</title>\n<path d=\"M172.5,-8541.4551C172.5,-8533.3828 172.5,-8523.6764 172.5,-8514.6817\" fill=\"none\" stroke=\"#000000\"/>\n<polygon fill=\"#000000\" points=\"176.0001,-8514.5903 172.5,-8504.5904 169.0001,-8514.5904 176.0001,-8514.5903\" stroke=\"#000000\"/>\n</g>\n<!-- 139885174867672 -->\n<g class=\"node\" id=\"node58\">\n<title>139885174867672</title>\n<polygon fill=\"none\" points=\"58,-8395.5 58,-8431.5 287,-8431.5 287,-8395.5 58,-8395.5\" stroke=\"#000000\"/>\n<text fill=\"#000000\" font-family=\"Times,serif\" font-size=\"14.00\" text-anchor=\"middle\" x=\"172.5\" y=\"-8409.8\">bn3b_branch2c: BatchNormalization</text>\n</g>\n<!-- 139885174831648&#45;&gt;139885174867672 -->\n<g class=\"edge\" id=\"edge61\">\n<title>139885174831648-&gt;139885174867672</title>\n<path d=\"M172.5,-8468.4551C172.5,-8460.3828 172.5,-8450.6764 172.5,-8441.6817\" fill=\"none\" stroke=\"#000000\"/>\n<polygon fill=\"#000000\" points=\"176.0001,-8441.5903 172.5,-8431.5904 169.0001,-8441.5904 176.0001,-8441.5903\" stroke=\"#000000\"/>\n</g>\n<!-- 139885174867672&#45;&gt;139885174950880 -->\n<g class=\"edge\" id=\"edge63\">\n<title>139885174867672-&gt;139885174950880</title>\n<path d=\"M190.0506,-8395.4551C198.755,-8386.5054 209.4132,-8375.547 218.9156,-8365.7769\" fill=\"none\" stroke=\"#000000\"/>\n<polygon fill=\"#000000\" points=\"221.4421,-8368.1992 225.9053,-8358.5904 216.424,-8363.3187 221.4421,-8368.1992\" stroke=\"#000000\"/>\n</g>\n<!-- 139885174983872 -->\n<g class=\"node\" id=\"node60\">\n<title>139885174983872</title>\n<polygon fill=\"none\" points=\"163,-8249.5 163,-8285.5 324,-8285.5 324,-8249.5 163,-8249.5\" stroke=\"#000000\"/>\n<text fill=\"#000000\" font-family=\"Times,serif\" font-size=\"14.00\" text-anchor=\"middle\" x=\"243.5\" y=\"-8263.8\">activation_16: Activation</text>\n</g>\n<!-- 139885174950880&#45;&gt;139885174983872 -->\n<g class=\"edge\" id=\"edge64\">\n<title>139885174950880-&gt;139885174983872</title>\n<path d=\"M243.5,-8322.4551C243.5,-8314.3828 243.5,-8304.6764 243.5,-8295.6817\" fill=\"none\" stroke=\"#000000\"/>\n<polygon fill=\"#000000\" points=\"247.0001,-8295.5903 243.5,-8285.5904 240.0001,-8295.5904 247.0001,-8295.5903\" stroke=\"#000000\"/>\n</g>\n<!-- 139885174533592 -->\n<g class=\"node\" id=\"node61\">\n<title>139885174533592</title>\n<polygon fill=\"none\" points=\"106.5,-8176.5 106.5,-8212.5 270.5,-8212.5 270.5,-8176.5 106.5,-8176.5\" stroke=\"#000000\"/>\n<text fill=\"#000000\" font-family=\"Times,serif\" font-size=\"14.00\" text-anchor=\"middle\" x=\"188.5\" y=\"-8190.8\">res3c_branch2a: Conv2D</text>\n</g>\n<!-- 139885174983872&#45;&gt;139885174533592 -->\n<g class=\"edge\" id=\"edge65\">\n<title>139885174983872-&gt;139885174533592</title>\n<path d=\"M229.9045,-8249.4551C223.3599,-8240.7686 215.3896,-8230.1898 208.196,-8220.642\" fill=\"none\" stroke=\"#000000\"/>\n<polygon fill=\"#000000\" points=\"210.9427,-8218.4711 202.1297,-8212.5904 205.3518,-8222.6834 210.9427,-8218.4711\" stroke=\"#000000\"/>\n</g>\n<!-- 139885174289744 -->\n<g class=\"node\" id=\"node69\">\n<title>139885174289744</title>\n<polygon fill=\"none\" points=\"201,-7592.5 201,-7628.5 286,-7628.5 286,-7592.5 201,-7592.5\" stroke=\"#000000\"/>\n<text fill=\"#000000\" font-family=\"Times,serif\" font-size=\"14.00\" text-anchor=\"middle\" x=\"243.5\" y=\"-7606.8\">add_6: Add</text>\n</g>\n<!-- 139885174983872&#45;&gt;139885174289744 -->\n<g class=\"edge\" id=\"edge73\">\n<title>139885174983872-&gt;139885174289744</title>\n<path d=\"M259.2572,-8249.0704C280.1744,-8222.6575 314.5,-8171.6702 314.5,-8121.5 314.5,-8121.5 314.5,-8121.5 314.5,-7756.5 314.5,-7714.8732 313.8594,-7701.8511 294.5,-7665 288.9066,-7654.3527 280.6654,-7644.2622 272.4315,-7635.7242\" fill=\"none\" stroke=\"#000000\"/>\n<polygon fill=\"#000000\" points=\"274.8388,-7633.1825 265.2644,-7628.6458 269.92,-7638.163 274.8388,-7633.1825\" stroke=\"#000000\"/>\n</g>\n<!-- 139885174559744 -->\n<g class=\"node\" id=\"node62\">\n<title>139885174559744</title>\n<polygon fill=\"none\" points=\"59,-8103.5 59,-8139.5 286,-8139.5 286,-8103.5 59,-8103.5\" stroke=\"#000000\"/>\n<text fill=\"#000000\" font-family=\"Times,serif\" font-size=\"14.00\" text-anchor=\"middle\" x=\"172.5\" y=\"-8117.8\">bn3c_branch2a: BatchNormalization</text>\n</g>\n<!-- 139885174533592&#45;&gt;139885174559744 -->\n<g class=\"edge\" id=\"edge66\">\n<title>139885174533592-&gt;139885174559744</title>\n<path d=\"M184.5449,-8176.4551C182.7565,-8168.2951 180.602,-8158.4652 178.6126,-8149.3887\" fill=\"none\" stroke=\"#000000\"/>\n<polygon fill=\"#000000\" points=\"182.0249,-8148.6091 176.465,-8139.5904 175.1872,-8150.1079 182.0249,-8148.6091\" stroke=\"#000000\"/>\n</g>\n<!-- 139885174562040 -->\n<g class=\"node\" id=\"node63\">\n<title>139885174562040</title>\n<polygon fill=\"none\" points=\"92,-8030.5 92,-8066.5 253,-8066.5 253,-8030.5 92,-8030.5\" stroke=\"#000000\"/>\n<text fill=\"#000000\" font-family=\"Times,serif\" font-size=\"14.00\" text-anchor=\"middle\" x=\"172.5\" y=\"-8044.8\">activation_17: Activation</text>\n</g>\n<!-- 139885174559744&#45;&gt;139885174562040 -->\n<g class=\"edge\" id=\"edge67\">\n<title>139885174559744-&gt;139885174562040</title>\n<path d=\"M172.5,-8103.4551C172.5,-8095.3828 172.5,-8085.6764 172.5,-8076.6817\" fill=\"none\" stroke=\"#000000\"/>\n<polygon fill=\"#000000\" points=\"176.0001,-8076.5903 172.5,-8066.5904 169.0001,-8076.5904 176.0001,-8076.5903\" stroke=\"#000000\"/>\n</g>\n<!-- 139885174587176 -->\n<g class=\"node\" id=\"node64\">\n<title>139885174587176</title>\n<polygon fill=\"none\" points=\"90,-7957.5 90,-7993.5 255,-7993.5 255,-7957.5 90,-7957.5\" stroke=\"#000000\"/>\n<text fill=\"#000000\" font-family=\"Times,serif\" font-size=\"14.00\" text-anchor=\"middle\" x=\"172.5\" y=\"-7971.8\">res3c_branch2b: Conv2D</text>\n</g>\n<!-- 139885174562040&#45;&gt;139885174587176 -->\n<g class=\"edge\" id=\"edge68\">\n<title>139885174562040-&gt;139885174587176</title>\n<path d=\"M172.5,-8030.4551C172.5,-8022.3828 172.5,-8012.6764 172.5,-8003.6817\" fill=\"none\" stroke=\"#000000\"/>\n<polygon fill=\"#000000\" points=\"176.0001,-8003.5903 172.5,-7993.5904 169.0001,-8003.5904 176.0001,-8003.5903\" stroke=\"#000000\"/>\n</g>\n<!-- 139885174695920 -->\n<g class=\"node\" id=\"node65\">\n<title>139885174695920</title>\n<polygon fill=\"none\" points=\"57,-7884.5 57,-7920.5 286,-7920.5 286,-7884.5 57,-7884.5\" stroke=\"#000000\"/>\n<text fill=\"#000000\" font-family=\"Times,serif\" font-size=\"14.00\" text-anchor=\"middle\" x=\"171.5\" y=\"-7898.8\">bn3c_branch2b: BatchNormalization</text>\n</g>\n<!-- 139885174587176&#45;&gt;139885174695920 -->\n<g class=\"edge\" id=\"edge69\">\n<title>139885174587176-&gt;139885174695920</title>\n<path d=\"M172.2528,-7957.4551C172.1422,-7949.3828 172.0093,-7939.6764 171.8861,-7930.6817\" fill=\"none\" stroke=\"#000000\"/>\n<polygon fill=\"#000000\" points=\"175.3846,-7930.5414 171.7478,-7920.5904 168.3852,-7930.6374 175.3846,-7930.5414\" stroke=\"#000000\"/>\n</g>\n<!-- 139885174694576 -->\n<g class=\"node\" id=\"node66\">\n<title>139885174694576</title>\n<polygon fill=\"none\" points=\"92,-7811.5 92,-7847.5 253,-7847.5 253,-7811.5 92,-7811.5\" stroke=\"#000000\"/>\n<text fill=\"#000000\" font-family=\"Times,serif\" font-size=\"14.00\" text-anchor=\"middle\" x=\"172.5\" y=\"-7825.8\">activation_18: Activation</text>\n</g>\n<!-- 139885174695920&#45;&gt;139885174694576 -->\n<g class=\"edge\" id=\"edge70\">\n<title>139885174695920-&gt;139885174694576</title>\n<path d=\"M171.7472,-7884.4551C171.8578,-7876.3828 171.9907,-7866.6764 172.1139,-7857.6817\" fill=\"none\" stroke=\"#000000\"/>\n<polygon fill=\"#000000\" points=\"175.6148,-7857.6374 172.2522,-7847.5904 168.6154,-7857.5414 175.6148,-7857.6374\" stroke=\"#000000\"/>\n</g>\n<!-- 139885174731832 -->\n<g class=\"node\" id=\"node67\">\n<title>139885174731832</title>\n<polygon fill=\"none\" points=\"90.5,-7738.5 90.5,-7774.5 254.5,-7774.5 254.5,-7738.5 90.5,-7738.5\" stroke=\"#000000\"/>\n<text fill=\"#000000\" font-family=\"Times,serif\" font-size=\"14.00\" text-anchor=\"middle\" x=\"172.5\" y=\"-7752.8\">res3c_branch2c: Conv2D</text>\n</g>\n<!-- 139885174694576&#45;&gt;139885174731832 -->\n<g class=\"edge\" id=\"edge71\">\n<title>139885174694576-&gt;139885174731832</title>\n<path d=\"M172.5,-7811.4551C172.5,-7803.3828 172.5,-7793.6764 172.5,-7784.6817\" fill=\"none\" stroke=\"#000000\"/>\n<polygon fill=\"#000000\" points=\"176.0001,-7784.5903 172.5,-7774.5904 169.0001,-7784.5904 176.0001,-7784.5903\" stroke=\"#000000\"/>\n</g>\n<!-- 139885174291088 -->\n<g class=\"node\" id=\"node68\">\n<title>139885174291088</title>\n<polygon fill=\"none\" points=\"59,-7665.5 59,-7701.5 286,-7701.5 286,-7665.5 59,-7665.5\" stroke=\"#000000\"/>\n<text fill=\"#000000\" font-family=\"Times,serif\" font-size=\"14.00\" text-anchor=\"middle\" x=\"172.5\" y=\"-7679.8\">bn3c_branch2c: BatchNormalization</text>\n</g>\n<!-- 139885174731832&#45;&gt;139885174291088 -->\n<g class=\"edge\" id=\"edge72\">\n<title>139885174731832-&gt;139885174291088</title>\n<path d=\"M172.5,-7738.4551C172.5,-7730.3828 172.5,-7720.6764 172.5,-7711.6817\" fill=\"none\" stroke=\"#000000\"/>\n<polygon fill=\"#000000\" points=\"176.0001,-7711.5903 172.5,-7701.5904 169.0001,-7711.5904 176.0001,-7711.5903\" stroke=\"#000000\"/>\n</g>\n<!-- 139885174291088&#45;&gt;139885174289744 -->\n<g class=\"edge\" id=\"edge74\">\n<title>139885174291088-&gt;139885174289744</title>\n<path d=\"M190.0506,-7665.4551C198.755,-7656.5054 209.4132,-7645.547 218.9156,-7635.7769\" fill=\"none\" stroke=\"#000000\"/>\n<polygon fill=\"#000000\" points=\"221.4421,-7638.1992 225.9053,-7628.5904 216.424,-7633.3187 221.4421,-7638.1992\" stroke=\"#000000\"/>\n</g>\n<!-- 139885174347480 -->\n<g class=\"node\" id=\"node70\">\n<title>139885174347480</title>\n<polygon fill=\"none\" points=\"163,-7519.5 163,-7555.5 324,-7555.5 324,-7519.5 163,-7519.5\" stroke=\"#000000\"/>\n<text fill=\"#000000\" font-family=\"Times,serif\" font-size=\"14.00\" text-anchor=\"middle\" x=\"243.5\" y=\"-7533.8\">activation_19: Activation</text>\n</g>\n<!-- 139885174289744&#45;&gt;139885174347480 -->\n<g class=\"edge\" id=\"edge75\">\n<title>139885174289744-&gt;139885174347480</title>\n<path d=\"M243.5,-7592.4551C243.5,-7584.3828 243.5,-7574.6764 243.5,-7565.6817\" fill=\"none\" stroke=\"#000000\"/>\n<polygon fill=\"#000000\" points=\"247.0001,-7565.5903 243.5,-7555.5904 240.0001,-7565.5904 247.0001,-7565.5903\" stroke=\"#000000\"/>\n</g>\n<!-- 139885174349328 -->\n<g class=\"node\" id=\"node71\">\n<title>139885174349328</title>\n<polygon fill=\"none\" points=\"106,-7446.5 106,-7482.5 271,-7482.5 271,-7446.5 106,-7446.5\" stroke=\"#000000\"/>\n<text fill=\"#000000\" font-family=\"Times,serif\" font-size=\"14.00\" text-anchor=\"middle\" x=\"188.5\" y=\"-7460.8\">res3d_branch2a: Conv2D</text>\n</g>\n<!-- 139885174347480&#45;&gt;139885174349328 -->\n<g class=\"edge\" id=\"edge76\">\n<title>139885174347480-&gt;139885174349328</title>\n<path d=\"M229.9045,-7519.4551C223.3599,-7510.7686 215.3896,-7500.1898 208.196,-7490.642\" fill=\"none\" stroke=\"#000000\"/>\n<polygon fill=\"#000000\" points=\"210.9427,-7488.4711 202.1297,-7482.5904 205.3518,-7492.6834 210.9427,-7488.4711\" stroke=\"#000000\"/>\n</g>\n<!-- 139885174185544 -->\n<g class=\"node\" id=\"node79\">\n<title>139885174185544</title>\n<polygon fill=\"none\" points=\"201,-6862.5 201,-6898.5 286,-6898.5 286,-6862.5 201,-6862.5\" stroke=\"#000000\"/>\n<text fill=\"#000000\" font-family=\"Times,serif\" font-size=\"14.00\" text-anchor=\"middle\" x=\"243.5\" y=\"-6876.8\">add_7: Add</text>\n</g>\n<!-- 139885174347480&#45;&gt;139885174185544 -->\n<g class=\"edge\" id=\"edge84\">\n<title>139885174347480-&gt;139885174185544</title>\n<path d=\"M259.4791,-7519.1083C280.6909,-7492.7403 315.5,-7441.8061 315.5,-7391.5 315.5,-7391.5 315.5,-7391.5 315.5,-7026.5 315.5,-6984.8732 315.0378,-6971.7568 295.5,-6935 289.8031,-6924.2823 281.402,-6914.1724 273.0064,-6905.6383\" fill=\"none\" stroke=\"#000000\"/>\n<polygon fill=\"#000000\" points=\"275.3189,-6903.0057 265.6979,-6898.5687 270.452,-6908.037 275.3189,-6903.0057\" stroke=\"#000000\"/>\n</g>\n<!-- 139885174447688 -->\n<g class=\"node\" id=\"node72\">\n<title>139885174447688</title>\n<polygon fill=\"none\" points=\"58,-7373.5 58,-7409.5 287,-7409.5 287,-7373.5 58,-7373.5\" stroke=\"#000000\"/>\n<text fill=\"#000000\" font-family=\"Times,serif\" font-size=\"14.00\" text-anchor=\"middle\" x=\"172.5\" y=\"-7387.8\">bn3d_branch2a: BatchNormalization</text>\n</g>\n<!-- 139885174349328&#45;&gt;139885174447688 -->\n<g class=\"edge\" id=\"edge77\">\n<title>139885174349328-&gt;139885174447688</title>\n<path d=\"M184.5449,-7446.4551C182.7565,-7438.2951 180.602,-7428.4652 178.6126,-7419.3887\" fill=\"none\" stroke=\"#000000\"/>\n<polygon fill=\"#000000\" points=\"182.0249,-7418.6091 176.465,-7409.5904 175.1872,-7420.1079 182.0249,-7418.6091\" stroke=\"#000000\"/>\n</g>\n<!-- 139885174447968 -->\n<g class=\"node\" id=\"node73\">\n<title>139885174447968</title>\n<polygon fill=\"none\" points=\"92,-7300.5 92,-7336.5 253,-7336.5 253,-7300.5 92,-7300.5\" stroke=\"#000000\"/>\n<text fill=\"#000000\" font-family=\"Times,serif\" font-size=\"14.00\" text-anchor=\"middle\" x=\"172.5\" y=\"-7314.8\">activation_20: Activation</text>\n</g>\n<!-- 139885174447688&#45;&gt;139885174447968 -->\n<g class=\"edge\" id=\"edge78\">\n<title>139885174447688-&gt;139885174447968</title>\n<path d=\"M172.5,-7373.4551C172.5,-7365.3828 172.5,-7355.6764 172.5,-7346.6817\" fill=\"none\" stroke=\"#000000\"/>\n<polygon fill=\"#000000\" points=\"176.0001,-7346.5903 172.5,-7336.5904 169.0001,-7346.5904 176.0001,-7346.5903\" stroke=\"#000000\"/>\n</g>\n<!-- 139885174475632 -->\n<g class=\"node\" id=\"node74\">\n<title>139885174475632</title>\n<polygon fill=\"none\" points=\"89,-7227.5 89,-7263.5 256,-7263.5 256,-7227.5 89,-7227.5\" stroke=\"#000000\"/>\n<text fill=\"#000000\" font-family=\"Times,serif\" font-size=\"14.00\" text-anchor=\"middle\" x=\"172.5\" y=\"-7241.8\">res3d_branch2b: Conv2D</text>\n</g>\n<!-- 139885174447968&#45;&gt;139885174475632 -->\n<g class=\"edge\" id=\"edge79\">\n<title>139885174447968-&gt;139885174475632</title>\n<path d=\"M172.5,-7300.4551C172.5,-7292.3828 172.5,-7282.6764 172.5,-7273.6817\" fill=\"none\" stroke=\"#000000\"/>\n<polygon fill=\"#000000\" points=\"176.0001,-7273.5903 172.5,-7263.5904 169.0001,-7273.5904 176.0001,-7273.5903\" stroke=\"#000000\"/>\n</g>\n<!-- 139885174493648 -->\n<g class=\"node\" id=\"node75\">\n<title>139885174493648</title>\n<polygon fill=\"none\" points=\"57.5,-7154.5 57.5,-7190.5 287.5,-7190.5 287.5,-7154.5 57.5,-7154.5\" stroke=\"#000000\"/>\n<text fill=\"#000000\" font-family=\"Times,serif\" font-size=\"14.00\" text-anchor=\"middle\" x=\"172.5\" y=\"-7168.8\">bn3d_branch2b: BatchNormalization</text>\n</g>\n<!-- 139885174475632&#45;&gt;139885174493648 -->\n<g class=\"edge\" id=\"edge80\">\n<title>139885174475632-&gt;139885174493648</title>\n<path d=\"M172.5,-7227.4551C172.5,-7219.3828 172.5,-7209.6764 172.5,-7200.6817\" fill=\"none\" stroke=\"#000000\"/>\n<polygon fill=\"#000000\" points=\"176.0001,-7200.5903 172.5,-7190.5904 169.0001,-7200.5904 176.0001,-7200.5903\" stroke=\"#000000\"/>\n</g>\n<!-- 139885174054192 -->\n<g class=\"node\" id=\"node76\">\n<title>139885174054192</title>\n<polygon fill=\"none\" points=\"92,-7081.5 92,-7117.5 253,-7117.5 253,-7081.5 92,-7081.5\" stroke=\"#000000\"/>\n<text fill=\"#000000\" font-family=\"Times,serif\" font-size=\"14.00\" text-anchor=\"middle\" x=\"172.5\" y=\"-7095.8\">activation_21: Activation</text>\n</g>\n<!-- 139885174493648&#45;&gt;139885174054192 -->\n<g class=\"edge\" id=\"edge81\">\n<title>139885174493648-&gt;139885174054192</title>\n<path d=\"M172.5,-7154.4551C172.5,-7146.3828 172.5,-7136.6764 172.5,-7127.6817\" fill=\"none\" stroke=\"#000000\"/>\n<polygon fill=\"#000000\" points=\"176.0001,-7127.5903 172.5,-7117.5904 169.0001,-7127.5904 176.0001,-7127.5903\" stroke=\"#000000\"/>\n</g>\n<!-- 139885174078992 -->\n<g class=\"node\" id=\"node77\">\n<title>139885174078992</title>\n<polygon fill=\"none\" points=\"90,-7008.5 90,-7044.5 255,-7044.5 255,-7008.5 90,-7008.5\" stroke=\"#000000\"/>\n<text fill=\"#000000\" font-family=\"Times,serif\" font-size=\"14.00\" text-anchor=\"middle\" x=\"172.5\" y=\"-7022.8\">res3d_branch2c: Conv2D</text>\n</g>\n<!-- 139885174054192&#45;&gt;139885174078992 -->\n<g class=\"edge\" id=\"edge82\">\n<title>139885174054192-&gt;139885174078992</title>\n<path d=\"M172.5,-7081.4551C172.5,-7073.3828 172.5,-7063.6764 172.5,-7054.6817\" fill=\"none\" stroke=\"#000000\"/>\n<polygon fill=\"#000000\" points=\"176.0001,-7054.5903 172.5,-7044.5904 169.0001,-7054.5904 176.0001,-7054.5903\" stroke=\"#000000\"/>\n</g>\n<!-- 139885174101104 -->\n<g class=\"node\" id=\"node78\">\n<title>139885174101104</title>\n<polygon fill=\"none\" points=\"58,-6935.5 58,-6971.5 287,-6971.5 287,-6935.5 58,-6935.5\" stroke=\"#000000\"/>\n<text fill=\"#000000\" font-family=\"Times,serif\" font-size=\"14.00\" text-anchor=\"middle\" x=\"172.5\" y=\"-6949.8\">bn3d_branch2c: BatchNormalization</text>\n</g>\n<!-- 139885174078992&#45;&gt;139885174101104 -->\n<g class=\"edge\" id=\"edge83\">\n<title>139885174078992-&gt;139885174101104</title>\n<path d=\"M172.5,-7008.4551C172.5,-7000.3828 172.5,-6990.6764 172.5,-6981.6817\" fill=\"none\" stroke=\"#000000\"/>\n<polygon fill=\"#000000\" points=\"176.0001,-6981.5903 172.5,-6971.5904 169.0001,-6981.5904 176.0001,-6981.5903\" stroke=\"#000000\"/>\n</g>\n<!-- 139885174101104&#45;&gt;139885174185544 -->\n<g class=\"edge\" id=\"edge85\">\n<title>139885174101104-&gt;139885174185544</title>\n<path d=\"M190.0506,-6935.4551C198.755,-6926.5054 209.4132,-6915.547 218.9156,-6905.7769\" fill=\"none\" stroke=\"#000000\"/>\n<polygon fill=\"#000000\" points=\"221.4421,-6908.1992 225.9053,-6898.5904 216.424,-6903.3187 221.4421,-6908.1992\" stroke=\"#000000\"/>\n</g>\n<!-- 139885174217976 -->\n<g class=\"node\" id=\"node80\">\n<title>139885174217976</title>\n<polygon fill=\"none\" points=\"163,-6789.5 163,-6825.5 324,-6825.5 324,-6789.5 163,-6789.5\" stroke=\"#000000\"/>\n<text fill=\"#000000\" font-family=\"Times,serif\" font-size=\"14.00\" text-anchor=\"middle\" x=\"243.5\" y=\"-6803.8\">activation_22: Activation</text>\n</g>\n<!-- 139885174185544&#45;&gt;139885174217976 -->\n<g class=\"edge\" id=\"edge86\">\n<title>139885174185544-&gt;139885174217976</title>\n<path d=\"M243.5,-6862.4551C243.5,-6854.3828 243.5,-6844.6764 243.5,-6835.6817\" fill=\"none\" stroke=\"#000000\"/>\n<polygon fill=\"#000000\" points=\"247.0001,-6835.5903 243.5,-6825.5904 240.0001,-6835.5904 247.0001,-6835.5903\" stroke=\"#000000\"/>\n</g>\n<!-- 139885174241320 -->\n<g class=\"node\" id=\"node81\">\n<title>139885174241320</title>\n<polygon fill=\"none\" points=\"106.5,-6716.5 106.5,-6752.5 270.5,-6752.5 270.5,-6716.5 106.5,-6716.5\" stroke=\"#000000\"/>\n<text fill=\"#000000\" font-family=\"Times,serif\" font-size=\"14.00\" text-anchor=\"middle\" x=\"188.5\" y=\"-6730.8\">res4a_branch2a: Conv2D</text>\n</g>\n<!-- 139885174217976&#45;&gt;139885174241320 -->\n<g class=\"edge\" id=\"edge87\">\n<title>139885174217976-&gt;139885174241320</title>\n<path d=\"M229.9045,-6789.4551C223.3599,-6780.7686 215.3896,-6770.1898 208.196,-6760.642\" fill=\"none\" stroke=\"#000000\"/>\n<polygon fill=\"#000000\" points=\"210.9427,-6758.4711 202.1297,-6752.5904 205.3518,-6762.6834 210.9427,-6758.4711\" stroke=\"#000000\"/>\n</g>\n<!-- 139885173577488 -->\n<g class=\"node\" id=\"node87\">\n<title>139885173577488</title>\n<polygon fill=\"none\" points=\"270.5,-6643.5 270.5,-6679.5 428.5,-6679.5 428.5,-6643.5 270.5,-6643.5\" stroke=\"#000000\"/>\n<text fill=\"#000000\" font-family=\"Times,serif\" font-size=\"14.00\" text-anchor=\"middle\" x=\"349.5\" y=\"-6657.8\">res4a_branch1: Conv2D</text>\n</g>\n<!-- 139885174217976&#45;&gt;139885173577488 -->\n<g class=\"edge\" id=\"edge93\">\n<title>139885174217976-&gt;139885173577488</title>\n<path d=\"M256.7106,-6789.3042C275.1981,-6763.8403 308.9072,-6717.4108 330.2051,-6688.0759\" fill=\"none\" stroke=\"#000000\"/>\n<polygon fill=\"#000000\" points=\"333.08,-6690.0736 336.1229,-6679.9251 327.4154,-6685.961 333.08,-6690.0736\" stroke=\"#000000\"/>\n</g>\n<!-- 139885173794632 -->\n<g class=\"node\" id=\"node82\">\n<title>139885173794632</title>\n<polygon fill=\"none\" points=\"25,-6643.5 25,-6679.5 252,-6679.5 252,-6643.5 25,-6643.5\" stroke=\"#000000\"/>\n<text fill=\"#000000\" font-family=\"Times,serif\" font-size=\"14.00\" text-anchor=\"middle\" x=\"138.5\" y=\"-6657.8\">bn4a_branch2a: BatchNormalization</text>\n</g>\n<!-- 139885174241320&#45;&gt;139885173794632 -->\n<g class=\"edge\" id=\"edge88\">\n<title>139885174241320-&gt;139885173794632</title>\n<path d=\"M176.1404,-6716.4551C170.2509,-6707.8564 163.0913,-6697.4034 156.6039,-6687.9316\" fill=\"none\" stroke=\"#000000\"/>\n<polygon fill=\"#000000\" points=\"159.4292,-6685.8628 150.8907,-6679.5904 153.654,-6689.8185 159.4292,-6685.8628\" stroke=\"#000000\"/>\n</g>\n<!-- 139885173811296 -->\n<g class=\"node\" id=\"node83\">\n<title>139885173811296</title>\n<polygon fill=\"none\" points=\"59,-6570.5 59,-6606.5 220,-6606.5 220,-6570.5 59,-6570.5\" stroke=\"#000000\"/>\n<text fill=\"#000000\" font-family=\"Times,serif\" font-size=\"14.00\" text-anchor=\"middle\" x=\"139.5\" y=\"-6584.8\">activation_23: Activation</text>\n</g>\n<!-- 139885173794632&#45;&gt;139885173811296 -->\n<g class=\"edge\" id=\"edge89\">\n<title>139885173794632-&gt;139885173811296</title>\n<path d=\"M138.7472,-6643.4551C138.8578,-6635.3828 138.9907,-6625.6764 139.1139,-6616.6817\" fill=\"none\" stroke=\"#000000\"/>\n<polygon fill=\"#000000\" points=\"142.6148,-6616.6374 139.2522,-6606.5904 135.6154,-6616.5414 142.6148,-6616.6374\" stroke=\"#000000\"/>\n</g>\n<!-- 139885173843336 -->\n<g class=\"node\" id=\"node84\">\n<title>139885173843336</title>\n<polygon fill=\"none\" points=\"90,-6497.5 90,-6533.5 255,-6533.5 255,-6497.5 90,-6497.5\" stroke=\"#000000\"/>\n<text fill=\"#000000\" font-family=\"Times,serif\" font-size=\"14.00\" text-anchor=\"middle\" x=\"172.5\" y=\"-6511.8\">res4a_branch2b: Conv2D</text>\n</g>\n<!-- 139885173811296&#45;&gt;139885173843336 -->\n<g class=\"edge\" id=\"edge90\">\n<title>139885173811296-&gt;139885173843336</title>\n<path d=\"M147.6573,-6570.4551C151.4254,-6562.1196 155.9812,-6552.0416 160.157,-6542.8042\" fill=\"none\" stroke=\"#000000\"/>\n<polygon fill=\"#000000\" points=\"163.3922,-6544.1443 164.3222,-6533.5904 157.0136,-6541.2608 163.3922,-6544.1443\" stroke=\"#000000\"/>\n</g>\n<!-- 139885173918688 -->\n<g class=\"node\" id=\"node85\">\n<title>139885173918688</title>\n<polygon fill=\"none\" points=\"74,-6424.5 74,-6460.5 303,-6460.5 303,-6424.5 74,-6424.5\" stroke=\"#000000\"/>\n<text fill=\"#000000\" font-family=\"Times,serif\" font-size=\"14.00\" text-anchor=\"middle\" x=\"188.5\" y=\"-6438.8\">bn4a_branch2b: BatchNormalization</text>\n</g>\n<!-- 139885173843336&#45;&gt;139885173918688 -->\n<g class=\"edge\" id=\"edge91\">\n<title>139885173843336-&gt;139885173918688</title>\n<path d=\"M176.4551,-6497.4551C178.2435,-6489.2951 180.398,-6479.4652 182.3874,-6470.3887\" fill=\"none\" stroke=\"#000000\"/>\n<polygon fill=\"#000000\" points=\"185.8128,-6471.1079 184.535,-6460.5904 178.9751,-6469.6091 185.8128,-6471.1079\" stroke=\"#000000\"/>\n</g>\n<!-- 139885173917344 -->\n<g class=\"node\" id=\"node86\">\n<title>139885173917344</title>\n<polygon fill=\"none\" points=\"117,-6351.5 117,-6387.5 278,-6387.5 278,-6351.5 117,-6351.5\" stroke=\"#000000\"/>\n<text fill=\"#000000\" font-family=\"Times,serif\" font-size=\"14.00\" text-anchor=\"middle\" x=\"197.5\" y=\"-6365.8\">activation_24: Activation</text>\n</g>\n<!-- 139885173918688&#45;&gt;139885173917344 -->\n<g class=\"edge\" id=\"edge92\">\n<title>139885173918688-&gt;139885173917344</title>\n<path d=\"M190.7247,-6424.4551C191.7199,-6416.3828 192.9166,-6406.6764 194.0255,-6397.6817\" fill=\"none\" stroke=\"#000000\"/>\n<polygon fill=\"#000000\" points=\"197.5197,-6397.9435 195.2697,-6387.5904 190.5723,-6397.0869 197.5197,-6397.9435\" stroke=\"#000000\"/>\n</g>\n<!-- 139885173970984 -->\n<g class=\"node\" id=\"node88\">\n<title>139885173970984</title>\n<polygon fill=\"none\" points=\"115.5,-6278.5 115.5,-6314.5 279.5,-6314.5 279.5,-6278.5 115.5,-6278.5\" stroke=\"#000000\"/>\n<text fill=\"#000000\" font-family=\"Times,serif\" font-size=\"14.00\" text-anchor=\"middle\" x=\"197.5\" y=\"-6292.8\">res4a_branch2c: Conv2D</text>\n</g>\n<!-- 139885173917344&#45;&gt;139885173970984 -->\n<g class=\"edge\" id=\"edge94\">\n<title>139885173917344-&gt;139885173970984</title>\n<path d=\"M197.5,-6351.4551C197.5,-6343.3828 197.5,-6333.6764 197.5,-6324.6817\" fill=\"none\" stroke=\"#000000\"/>\n<polygon fill=\"#000000\" points=\"201.0001,-6324.5903 197.5,-6314.5904 194.0001,-6324.5904 201.0001,-6324.5903\" stroke=\"#000000\"/>\n</g>\n<!-- 139885173637016 -->\n<g class=\"node\" id=\"node89\">\n<title>139885173637016</title>\n<polygon fill=\"none\" points=\"238,-6570.5 238,-6606.5 459,-6606.5 459,-6570.5 238,-6570.5\" stroke=\"#000000\"/>\n<text fill=\"#000000\" font-family=\"Times,serif\" font-size=\"14.00\" text-anchor=\"middle\" x=\"348.5\" y=\"-6584.8\">bn4a_branch1: BatchNormalization</text>\n</g>\n<!-- 139885173577488&#45;&gt;139885173637016 -->\n<g class=\"edge\" id=\"edge95\">\n<title>139885173577488-&gt;139885173637016</title>\n<path d=\"M349.2528,-6643.4551C349.1422,-6635.3828 349.0093,-6625.6764 348.8861,-6616.6817\" fill=\"none\" stroke=\"#000000\"/>\n<polygon fill=\"#000000\" points=\"352.3846,-6616.5414 348.7478,-6606.5904 345.3852,-6616.6374 352.3846,-6616.5414\" stroke=\"#000000\"/>\n</g>\n<!-- 139885173522216 -->\n<g class=\"node\" id=\"node90\">\n<title>139885173522216</title>\n<polygon fill=\"none\" points=\"84,-6205.5 84,-6241.5 311,-6241.5 311,-6205.5 84,-6205.5\" stroke=\"#000000\"/>\n<text fill=\"#000000\" font-family=\"Times,serif\" font-size=\"14.00\" text-anchor=\"middle\" x=\"197.5\" y=\"-6219.8\">bn4a_branch2c: BatchNormalization</text>\n</g>\n<!-- 139885173970984&#45;&gt;139885173522216 -->\n<g class=\"edge\" id=\"edge96\">\n<title>139885173970984-&gt;139885173522216</title>\n<path d=\"M197.5,-6278.4551C197.5,-6270.3828 197.5,-6260.6764 197.5,-6251.6817\" fill=\"none\" stroke=\"#000000\"/>\n<polygon fill=\"#000000\" points=\"201.0001,-6251.5903 197.5,-6241.5904 194.0001,-6251.5904 201.0001,-6251.5903\" stroke=\"#000000\"/>\n</g>\n<!-- 139885173678320 -->\n<g class=\"node\" id=\"node91\">\n<title>139885173678320</title>\n<polygon fill=\"none\" points=\"226,-6132.5 226,-6168.5 311,-6168.5 311,-6132.5 226,-6132.5\" stroke=\"#000000\"/>\n<text fill=\"#000000\" font-family=\"Times,serif\" font-size=\"14.00\" text-anchor=\"middle\" x=\"268.5\" y=\"-6146.8\">add_8: Add</text>\n</g>\n<!-- 139885173637016&#45;&gt;139885173678320 -->\n<g class=\"edge\" id=\"edge97\">\n<title>139885173637016-&gt;139885173678320</title>\n<path d=\"M346.6352,-6570.0845C343.999,-6542.4173 339.5,-6488.4656 339.5,-6442.5 339.5,-6442.5 339.5,-6442.5 339.5,-6296.5 339.5,-6254.8732 338.8594,-6241.8511 319.5,-6205 313.9066,-6194.3527 305.6654,-6184.2622 297.4315,-6175.7242\" fill=\"none\" stroke=\"#000000\"/>\n<polygon fill=\"#000000\" points=\"299.8388,-6173.1825 290.2644,-6168.6458 294.92,-6178.163 299.8388,-6173.1825\" stroke=\"#000000\"/>\n</g>\n<!-- 139885173522216&#45;&gt;139885173678320 -->\n<g class=\"edge\" id=\"edge98\">\n<title>139885173522216-&gt;139885173678320</title>\n<path d=\"M215.0506,-6205.4551C223.755,-6196.5054 234.4132,-6185.547 243.9156,-6175.7769\" fill=\"none\" stroke=\"#000000\"/>\n<polygon fill=\"#000000\" points=\"246.4421,-6178.1992 250.9053,-6168.5904 241.424,-6173.3187 246.4421,-6178.1992\" stroke=\"#000000\"/>\n</g>\n<!-- 139885173713776 -->\n<g class=\"node\" id=\"node92\">\n<title>139885173713776</title>\n<polygon fill=\"none\" points=\"188,-6059.5 188,-6095.5 349,-6095.5 349,-6059.5 188,-6059.5\" stroke=\"#000000\"/>\n<text fill=\"#000000\" font-family=\"Times,serif\" font-size=\"14.00\" text-anchor=\"middle\" x=\"268.5\" y=\"-6073.8\">activation_25: Activation</text>\n</g>\n<!-- 139885173678320&#45;&gt;139885173713776 -->\n<g class=\"edge\" id=\"edge99\">\n<title>139885173678320-&gt;139885173713776</title>\n<path d=\"M268.5,-6132.4551C268.5,-6124.3828 268.5,-6114.6764 268.5,-6105.6817\" fill=\"none\" stroke=\"#000000\"/>\n<polygon fill=\"#000000\" points=\"272.0001,-6105.5903 268.5,-6095.5904 265.0001,-6105.5904 272.0001,-6105.5903\" stroke=\"#000000\"/>\n</g>\n<!-- 139885173263608 -->\n<g class=\"node\" id=\"node93\">\n<title>139885173263608</title>\n<polygon fill=\"none\" points=\"115,-5986.5 115,-6022.5 280,-6022.5 280,-5986.5 115,-5986.5\" stroke=\"#000000\"/>\n<text fill=\"#000000\" font-family=\"Times,serif\" font-size=\"14.00\" text-anchor=\"middle\" x=\"197.5\" y=\"-6000.8\">res4b_branch2a: Conv2D</text>\n</g>\n<!-- 139885173713776&#45;&gt;139885173263608 -->\n<g class=\"edge\" id=\"edge100\">\n<title>139885173713776-&gt;139885173263608</title>\n<path d=\"M250.9494,-6059.4551C242.245,-6050.5054 231.5868,-6039.547 222.0844,-6029.7769\" fill=\"none\" stroke=\"#000000\"/>\n<polygon fill=\"#000000\" points=\"224.576,-6027.3187 215.0947,-6022.5904 219.5579,-6032.1992 224.576,-6027.3187\" stroke=\"#000000\"/>\n</g>\n<!-- 139885173015664 -->\n<g class=\"node\" id=\"node101\">\n<title>139885173015664</title>\n<polygon fill=\"none\" points=\"210,-5402.5 210,-5438.5 295,-5438.5 295,-5402.5 210,-5402.5\" stroke=\"#000000\"/>\n<text fill=\"#000000\" font-family=\"Times,serif\" font-size=\"14.00\" text-anchor=\"middle\" x=\"252.5\" y=\"-5416.8\">add_9: Add</text>\n</g>\n<!-- 139885173713776&#45;&gt;139885173015664 -->\n<g class=\"edge\" id=\"edge108\">\n<title>139885173713776-&gt;139885173015664</title>\n<path d=\"M280.3762,-6059.4575C296.8145,-6032.6944 324.5,-5980.366 324.5,-5931.5 324.5,-5931.5 324.5,-5931.5 324.5,-5566.5 324.5,-5524.8732 324.0378,-5511.7568 304.5,-5475 298.8031,-5464.2823 290.402,-5454.1724 282.0064,-5445.6383\" fill=\"none\" stroke=\"#000000\"/>\n<polygon fill=\"#000000\" points=\"284.3189,-5443.0057 274.6979,-5438.5687 279.452,-5448.037 284.3189,-5443.0057\" stroke=\"#000000\"/>\n</g>\n<!-- 139885173289760 -->\n<g class=\"node\" id=\"node94\">\n<title>139885173289760</title>\n<polygon fill=\"none\" points=\"67,-5913.5 67,-5949.5 296,-5949.5 296,-5913.5 67,-5913.5\" stroke=\"#000000\"/>\n<text fill=\"#000000\" font-family=\"Times,serif\" font-size=\"14.00\" text-anchor=\"middle\" x=\"181.5\" y=\"-5927.8\">bn4b_branch2a: BatchNormalization</text>\n</g>\n<!-- 139885173263608&#45;&gt;139885173289760 -->\n<g class=\"edge\" id=\"edge101\">\n<title>139885173263608-&gt;139885173289760</title>\n<path d=\"M193.5449,-5986.4551C191.7565,-5978.2951 189.602,-5968.4652 187.6126,-5959.3887\" fill=\"none\" stroke=\"#000000\"/>\n<polygon fill=\"#000000\" points=\"191.0249,-5958.6091 185.465,-5949.5904 184.1872,-5960.1079 191.0249,-5958.6091\" stroke=\"#000000\"/>\n</g>\n<!-- 139885173292448 -->\n<g class=\"node\" id=\"node95\">\n<title>139885173292448</title>\n<polygon fill=\"none\" points=\"101,-5840.5 101,-5876.5 262,-5876.5 262,-5840.5 101,-5840.5\" stroke=\"#000000\"/>\n<text fill=\"#000000\" font-family=\"Times,serif\" font-size=\"14.00\" text-anchor=\"middle\" x=\"181.5\" y=\"-5854.8\">activation_26: Activation</text>\n</g>\n<!-- 139885173289760&#45;&gt;139885173292448 -->\n<g class=\"edge\" id=\"edge102\">\n<title>139885173289760-&gt;139885173292448</title>\n<path d=\"M181.5,-5913.4551C181.5,-5905.3828 181.5,-5895.6764 181.5,-5886.6817\" fill=\"none\" stroke=\"#000000\"/>\n<polygon fill=\"#000000\" points=\"185.0001,-5886.5903 181.5,-5876.5904 178.0001,-5886.5904 185.0001,-5886.5903\" stroke=\"#000000\"/>\n</g>\n<!-- 139885173313096 -->\n<g class=\"node\" id=\"node96\">\n<title>139885173313096</title>\n<polygon fill=\"none\" points=\"98,-5767.5 98,-5803.5 265,-5803.5 265,-5767.5 98,-5767.5\" stroke=\"#000000\"/>\n<text fill=\"#000000\" font-family=\"Times,serif\" font-size=\"14.00\" text-anchor=\"middle\" x=\"181.5\" y=\"-5781.8\">res4b_branch2b: Conv2D</text>\n</g>\n<!-- 139885173292448&#45;&gt;139885173313096 -->\n<g class=\"edge\" id=\"edge103\">\n<title>139885173292448-&gt;139885173313096</title>\n<path d=\"M181.5,-5840.4551C181.5,-5832.3828 181.5,-5822.6764 181.5,-5813.6817\" fill=\"none\" stroke=\"#000000\"/>\n<polygon fill=\"#000000\" points=\"185.0001,-5813.5903 181.5,-5803.5904 178.0001,-5813.5904 185.0001,-5813.5903\" stroke=\"#000000\"/>\n</g>\n<!-- 139885173421840 -->\n<g class=\"node\" id=\"node97\">\n<title>139885173421840</title>\n<polygon fill=\"none\" points=\"66.5,-5694.5 66.5,-5730.5 296.5,-5730.5 296.5,-5694.5 66.5,-5694.5\" stroke=\"#000000\"/>\n<text fill=\"#000000\" font-family=\"Times,serif\" font-size=\"14.00\" text-anchor=\"middle\" x=\"181.5\" y=\"-5708.8\">bn4b_branch2b: BatchNormalization</text>\n</g>\n<!-- 139885173313096&#45;&gt;139885173421840 -->\n<g class=\"edge\" id=\"edge104\">\n<title>139885173313096-&gt;139885173421840</title>\n<path d=\"M181.5,-5767.4551C181.5,-5759.3828 181.5,-5749.6764 181.5,-5740.6817\" fill=\"none\" stroke=\"#000000\"/>\n<polygon fill=\"#000000\" points=\"185.0001,-5740.5903 181.5,-5730.5904 178.0001,-5740.5904 185.0001,-5740.5903\" stroke=\"#000000\"/>\n</g>\n<!-- 139885173420496 -->\n<g class=\"node\" id=\"node98\">\n<title>139885173420496</title>\n<polygon fill=\"none\" points=\"101,-5621.5 101,-5657.5 262,-5657.5 262,-5621.5 101,-5621.5\" stroke=\"#000000\"/>\n<text fill=\"#000000\" font-family=\"Times,serif\" font-size=\"14.00\" text-anchor=\"middle\" x=\"181.5\" y=\"-5635.8\">activation_27: Activation</text>\n</g>\n<!-- 139885173421840&#45;&gt;139885173420496 -->\n<g class=\"edge\" id=\"edge105\">\n<title>139885173421840-&gt;139885173420496</title>\n<path d=\"M181.5,-5694.4551C181.5,-5686.3828 181.5,-5676.6764 181.5,-5667.6817\" fill=\"none\" stroke=\"#000000\"/>\n<polygon fill=\"#000000\" points=\"185.0001,-5667.5903 181.5,-5657.5904 178.0001,-5667.5904 185.0001,-5667.5903\" stroke=\"#000000\"/>\n</g>\n<!-- 139885173470040 -->\n<g class=\"node\" id=\"node99\">\n<title>139885173470040</title>\n<polygon fill=\"none\" points=\"99,-5548.5 99,-5584.5 264,-5584.5 264,-5548.5 99,-5548.5\" stroke=\"#000000\"/>\n<text fill=\"#000000\" font-family=\"Times,serif\" font-size=\"14.00\" text-anchor=\"middle\" x=\"181.5\" y=\"-5562.8\">res4b_branch2c: Conv2D</text>\n</g>\n<!-- 139885173420496&#45;&gt;139885173470040 -->\n<g class=\"edge\" id=\"edge106\">\n<title>139885173420496-&gt;139885173470040</title>\n<path d=\"M181.5,-5621.4551C181.5,-5613.3828 181.5,-5603.6764 181.5,-5594.6817\" fill=\"none\" stroke=\"#000000\"/>\n<polygon fill=\"#000000\" points=\"185.0001,-5594.5903 181.5,-5584.5904 178.0001,-5594.5904 185.0001,-5594.5903\" stroke=\"#000000\"/>\n</g>\n<!-- 139885173017008 -->\n<g class=\"node\" id=\"node100\">\n<title>139885173017008</title>\n<polygon fill=\"none\" points=\"67,-5475.5 67,-5511.5 296,-5511.5 296,-5475.5 67,-5475.5\" stroke=\"#000000\"/>\n<text fill=\"#000000\" font-family=\"Times,serif\" font-size=\"14.00\" text-anchor=\"middle\" x=\"181.5\" y=\"-5489.8\">bn4b_branch2c: BatchNormalization</text>\n</g>\n<!-- 139885173470040&#45;&gt;139885173017008 -->\n<g class=\"edge\" id=\"edge107\">\n<title>139885173470040-&gt;139885173017008</title>\n<path d=\"M181.5,-5548.4551C181.5,-5540.3828 181.5,-5530.6764 181.5,-5521.6817\" fill=\"none\" stroke=\"#000000\"/>\n<polygon fill=\"#000000\" points=\"185.0001,-5521.5903 181.5,-5511.5904 178.0001,-5521.5904 185.0001,-5521.5903\" stroke=\"#000000\"/>\n</g>\n<!-- 139885173017008&#45;&gt;139885173015664 -->\n<g class=\"edge\" id=\"edge109\">\n<title>139885173017008-&gt;139885173015664</title>\n<path d=\"M199.0506,-5475.4551C207.755,-5466.5054 218.4132,-5455.547 227.9156,-5445.7769\" fill=\"none\" stroke=\"#000000\"/>\n<polygon fill=\"#000000\" points=\"230.4421,-5448.1992 234.9053,-5438.5904 225.424,-5443.3187 230.4421,-5448.1992\" stroke=\"#000000\"/>\n</g>\n<!-- 139885173081592 -->\n<g class=\"node\" id=\"node102\">\n<title>139885173081592</title>\n<polygon fill=\"none\" points=\"172,-5329.5 172,-5365.5 333,-5365.5 333,-5329.5 172,-5329.5\" stroke=\"#000000\"/>\n<text fill=\"#000000\" font-family=\"Times,serif\" font-size=\"14.00\" text-anchor=\"middle\" x=\"252.5\" y=\"-5343.8\">activation_28: Activation</text>\n</g>\n<!-- 139885173015664&#45;&gt;139885173081592 -->\n<g class=\"edge\" id=\"edge110\">\n<title>139885173015664-&gt;139885173081592</title>\n<path d=\"M252.5,-5402.4551C252.5,-5394.3828 252.5,-5384.6764 252.5,-5375.6817\" fill=\"none\" stroke=\"#000000\"/>\n<polygon fill=\"#000000\" points=\"256.0001,-5375.5903 252.5,-5365.5904 249.0001,-5375.5904 256.0001,-5375.5903\" stroke=\"#000000\"/>\n</g>\n<!-- 139885173083440 -->\n<g class=\"node\" id=\"node103\">\n<title>139885173083440</title>\n<polygon fill=\"none\" points=\"99.5,-5256.5 99.5,-5292.5 263.5,-5292.5 263.5,-5256.5 99.5,-5256.5\" stroke=\"#000000\"/>\n<text fill=\"#000000\" font-family=\"Times,serif\" font-size=\"14.00\" text-anchor=\"middle\" x=\"181.5\" y=\"-5270.8\">res4c_branch2a: Conv2D</text>\n</g>\n<!-- 139885173081592&#45;&gt;139885173083440 -->\n<g class=\"edge\" id=\"edge111\">\n<title>139885173081592-&gt;139885173083440</title>\n<path d=\"M234.9494,-5329.4551C226.245,-5320.5054 215.5868,-5309.547 206.0844,-5299.7769\" fill=\"none\" stroke=\"#000000\"/>\n<polygon fill=\"#000000\" points=\"208.576,-5297.3187 199.0947,-5292.5904 203.5579,-5302.1992 208.576,-5297.3187\" stroke=\"#000000\"/>\n</g>\n<!-- 139885172907368 -->\n<g class=\"node\" id=\"node111\">\n<title>139885172907368</title>\n<polygon fill=\"none\" points=\"189.5,-4672.5 189.5,-4708.5 281.5,-4708.5 281.5,-4672.5 189.5,-4672.5\" stroke=\"#000000\"/>\n<text fill=\"#000000\" font-family=\"Times,serif\" font-size=\"14.00\" text-anchor=\"middle\" x=\"235.5\" y=\"-4686.8\">add_10: Add</text>\n</g>\n<!-- 139885173081592&#45;&gt;139885172907368 -->\n<g class=\"edge\" id=\"edge119\">\n<title>139885173081592-&gt;139885172907368</title>\n<path d=\"M264.1641,-5329.4282C280.3088,-5302.6285 307.5,-5250.255 307.5,-5201.5 307.5,-5201.5 307.5,-5201.5 307.5,-4836.5 307.5,-4794.776 306.0965,-4781.8356 286.5,-4745 280.8512,-4734.382 272.5948,-4724.2995 264.3641,-4715.7599\" fill=\"none\" stroke=\"#000000\"/>\n<polygon fill=\"#000000\" points=\"266.7749,-4713.2216 257.2038,-4708.6779 261.8524,-4718.1984 266.7749,-4713.2216\" stroke=\"#000000\"/>\n</g>\n<!-- 139885173152792 -->\n<g class=\"node\" id=\"node104\">\n<title>139885173152792</title>\n<polygon fill=\"none\" points=\"52,-5183.5 52,-5219.5 279,-5219.5 279,-5183.5 52,-5183.5\" stroke=\"#000000\"/>\n<text fill=\"#000000\" font-family=\"Times,serif\" font-size=\"14.00\" text-anchor=\"middle\" x=\"165.5\" y=\"-5197.8\">bn4c_branch2a: BatchNormalization</text>\n</g>\n<!-- 139885173083440&#45;&gt;139885173152792 -->\n<g class=\"edge\" id=\"edge112\">\n<title>139885173083440-&gt;139885173152792</title>\n<path d=\"M177.5449,-5256.4551C175.7565,-5248.2951 173.602,-5238.4652 171.6126,-5229.3887\" fill=\"none\" stroke=\"#000000\"/>\n<polygon fill=\"#000000\" points=\"175.0249,-5228.6091 169.465,-5219.5904 168.1872,-5230.1079 175.0249,-5228.6091\" stroke=\"#000000\"/>\n</g>\n<!-- 139885173177704 -->\n<g class=\"node\" id=\"node105\">\n<title>139885173177704</title>\n<polygon fill=\"none\" points=\"85,-5110.5 85,-5146.5 246,-5146.5 246,-5110.5 85,-5110.5\" stroke=\"#000000\"/>\n<text fill=\"#000000\" font-family=\"Times,serif\" font-size=\"14.00\" text-anchor=\"middle\" x=\"165.5\" y=\"-5124.8\">activation_29: Activation</text>\n</g>\n<!-- 139885173152792&#45;&gt;139885173177704 -->\n<g class=\"edge\" id=\"edge113\">\n<title>139885173152792-&gt;139885173177704</title>\n<path d=\"M165.5,-5183.4551C165.5,-5175.3828 165.5,-5165.6764 165.5,-5156.6817\" fill=\"none\" stroke=\"#000000\"/>\n<polygon fill=\"#000000\" points=\"169.0001,-5156.5903 165.5,-5146.5904 162.0001,-5156.5904 169.0001,-5156.5903\" stroke=\"#000000\"/>\n</g>\n<!-- 139885173193360 -->\n<g class=\"node\" id=\"node106\">\n<title>139885173193360</title>\n<polygon fill=\"none\" points=\"83,-5037.5 83,-5073.5 248,-5073.5 248,-5037.5 83,-5037.5\" stroke=\"#000000\"/>\n<text fill=\"#000000\" font-family=\"Times,serif\" font-size=\"14.00\" text-anchor=\"middle\" x=\"165.5\" y=\"-5051.8\">res4c_branch2b: Conv2D</text>\n</g>\n<!-- 139885173177704&#45;&gt;139885173193360 -->\n<g class=\"edge\" id=\"edge114\">\n<title>139885173177704-&gt;139885173193360</title>\n<path d=\"M165.5,-5110.4551C165.5,-5102.3828 165.5,-5092.6764 165.5,-5083.6817\" fill=\"none\" stroke=\"#000000\"/>\n<polygon fill=\"#000000\" points=\"169.0001,-5083.5903 165.5,-5073.5904 162.0001,-5083.5904 169.0001,-5083.5903\" stroke=\"#000000\"/>\n</g>\n<!-- 139885172707848 -->\n<g class=\"node\" id=\"node107\">\n<title>139885172707848</title>\n<polygon fill=\"none\" points=\"50,-4964.5 50,-5000.5 279,-5000.5 279,-4964.5 50,-4964.5\" stroke=\"#000000\"/>\n<text fill=\"#000000\" font-family=\"Times,serif\" font-size=\"14.00\" text-anchor=\"middle\" x=\"164.5\" y=\"-4978.8\">bn4c_branch2b: BatchNormalization</text>\n</g>\n<!-- 139885173193360&#45;&gt;139885172707848 -->\n<g class=\"edge\" id=\"edge115\">\n<title>139885173193360-&gt;139885172707848</title>\n<path d=\"M165.2528,-5037.4551C165.1422,-5029.3828 165.0093,-5019.6764 164.8861,-5010.6817\" fill=\"none\" stroke=\"#000000\"/>\n<polygon fill=\"#000000\" points=\"168.3846,-5010.5414 164.7478,-5000.5904 161.3852,-5010.6374 168.3846,-5010.5414\" stroke=\"#000000\"/>\n</g>\n<!-- 139885172776016 -->\n<g class=\"node\" id=\"node108\">\n<title>139885172776016</title>\n<polygon fill=\"none\" points=\"84,-4891.5 84,-4927.5 245,-4927.5 245,-4891.5 84,-4891.5\" stroke=\"#000000\"/>\n<text fill=\"#000000\" font-family=\"Times,serif\" font-size=\"14.00\" text-anchor=\"middle\" x=\"164.5\" y=\"-4905.8\">activation_30: Activation</text>\n</g>\n<!-- 139885172707848&#45;&gt;139885172776016 -->\n<g class=\"edge\" id=\"edge116\">\n<title>139885172707848-&gt;139885172776016</title>\n<path d=\"M164.5,-4964.4551C164.5,-4956.3828 164.5,-4946.6764 164.5,-4937.6817\" fill=\"none\" stroke=\"#000000\"/>\n<polygon fill=\"#000000\" points=\"168.0001,-4937.5903 164.5,-4927.5904 161.0001,-4937.5904 168.0001,-4937.5903\" stroke=\"#000000\"/>\n</g>\n<!-- 139885172804912 -->\n<g class=\"node\" id=\"node109\">\n<title>139885172804912</title>\n<polygon fill=\"none\" points=\"82.5,-4818.5 82.5,-4854.5 246.5,-4854.5 246.5,-4818.5 82.5,-4818.5\" stroke=\"#000000\"/>\n<text fill=\"#000000\" font-family=\"Times,serif\" font-size=\"14.00\" text-anchor=\"middle\" x=\"164.5\" y=\"-4832.8\">res4c_branch2c: Conv2D</text>\n</g>\n<!-- 139885172776016&#45;&gt;139885172804912 -->\n<g class=\"edge\" id=\"edge117\">\n<title>139885172776016-&gt;139885172804912</title>\n<path d=\"M164.5,-4891.4551C164.5,-4883.3828 164.5,-4873.6764 164.5,-4864.6817\" fill=\"none\" stroke=\"#000000\"/>\n<polygon fill=\"#000000\" points=\"168.0001,-4864.5903 164.5,-4854.5904 161.0001,-4864.5904 168.0001,-4864.5903\" stroke=\"#000000\"/>\n</g>\n<!-- 139885172839312 -->\n<g class=\"node\" id=\"node110\">\n<title>139885172839312</title>\n<polygon fill=\"none\" points=\"51,-4745.5 51,-4781.5 278,-4781.5 278,-4745.5 51,-4745.5\" stroke=\"#000000\"/>\n<text fill=\"#000000\" font-family=\"Times,serif\" font-size=\"14.00\" text-anchor=\"middle\" x=\"164.5\" y=\"-4759.8\">bn4c_branch2c: BatchNormalization</text>\n</g>\n<!-- 139885172804912&#45;&gt;139885172839312 -->\n<g class=\"edge\" id=\"edge118\">\n<title>139885172804912-&gt;139885172839312</title>\n<path d=\"M164.5,-4818.4551C164.5,-4810.3828 164.5,-4800.6764 164.5,-4791.6817\" fill=\"none\" stroke=\"#000000\"/>\n<polygon fill=\"#000000\" points=\"168.0001,-4791.5903 164.5,-4781.5904 161.0001,-4791.5904 168.0001,-4791.5903\" stroke=\"#000000\"/>\n</g>\n<!-- 139885172839312&#45;&gt;139885172907368 -->\n<g class=\"edge\" id=\"edge120\">\n<title>139885172839312-&gt;139885172907368</title>\n<path d=\"M182.0506,-4745.4551C190.755,-4736.5054 201.4132,-4725.547 210.9156,-4715.7769\" fill=\"none\" stroke=\"#000000\"/>\n<polygon fill=\"#000000\" points=\"213.4421,-4718.1992 217.9053,-4708.5904 208.424,-4713.3187 213.4421,-4718.1992\" stroke=\"#000000\"/>\n</g>\n<!-- 139885172932168 -->\n<g class=\"node\" id=\"node112\">\n<title>139885172932168</title>\n<polygon fill=\"none\" points=\"155,-4599.5 155,-4635.5 316,-4635.5 316,-4599.5 155,-4599.5\" stroke=\"#000000\"/>\n<text fill=\"#000000\" font-family=\"Times,serif\" font-size=\"14.00\" text-anchor=\"middle\" x=\"235.5\" y=\"-4613.8\">activation_31: Activation</text>\n</g>\n<!-- 139885172907368&#45;&gt;139885172932168 -->\n<g class=\"edge\" id=\"edge121\">\n<title>139885172907368-&gt;139885172932168</title>\n<path d=\"M235.5,-4672.4551C235.5,-4664.3828 235.5,-4654.6764 235.5,-4645.6817\" fill=\"none\" stroke=\"#000000\"/>\n<polygon fill=\"#000000\" points=\"239.0001,-4645.5903 235.5,-4635.5904 232.0001,-4645.5904 239.0001,-4645.5903\" stroke=\"#000000\"/>\n</g>\n<!-- 139885172442952 -->\n<g class=\"node\" id=\"node113\">\n<title>139885172442952</title>\n<polygon fill=\"none\" points=\"98,-4526.5 98,-4562.5 263,-4562.5 263,-4526.5 98,-4526.5\" stroke=\"#000000\"/>\n<text fill=\"#000000\" font-family=\"Times,serif\" font-size=\"14.00\" text-anchor=\"middle\" x=\"180.5\" y=\"-4540.8\">res4d_branch2a: Conv2D</text>\n</g>\n<!-- 139885172932168&#45;&gt;139885172442952 -->\n<g class=\"edge\" id=\"edge122\">\n<title>139885172932168-&gt;139885172442952</title>\n<path d=\"M221.9045,-4599.4551C215.3599,-4590.7686 207.3896,-4580.1898 200.196,-4570.642\" fill=\"none\" stroke=\"#000000\"/>\n<polygon fill=\"#000000\" points=\"202.9427,-4568.4711 194.1297,-4562.5904 197.3518,-4572.6834 202.9427,-4568.4711\" stroke=\"#000000\"/>\n</g>\n<!-- 139883758739408 -->\n<g class=\"node\" id=\"node121\">\n<title>139883758739408</title>\n<polygon fill=\"none\" points=\"189.5,-3942.5 189.5,-3978.5 281.5,-3978.5 281.5,-3942.5 189.5,-3942.5\" stroke=\"#000000\"/>\n<text fill=\"#000000\" font-family=\"Times,serif\" font-size=\"14.00\" text-anchor=\"middle\" x=\"235.5\" y=\"-3956.8\">add_11: Add</text>\n</g>\n<!-- 139885172932168&#45;&gt;139883758739408 -->\n<g class=\"edge\" id=\"edge130\">\n<title>139885172932168-&gt;139883758739408</title>\n<path d=\"M251.4791,-4599.1083C272.6909,-4572.7403 307.5,-4521.8061 307.5,-4471.5 307.5,-4471.5 307.5,-4471.5 307.5,-4106.5 307.5,-4064.8732 307.0378,-4051.7568 287.5,-4015 281.8031,-4004.2823 273.402,-3994.1724 265.0064,-3985.6383\" fill=\"none\" stroke=\"#000000\"/>\n<polygon fill=\"#000000\" points=\"267.3189,-3983.0057 257.6979,-3978.5687 262.452,-3988.037 267.3189,-3983.0057\" stroke=\"#000000\"/>\n</g>\n<!-- 139885172516456 -->\n<g class=\"node\" id=\"node114\">\n<title>139885172516456</title>\n<polygon fill=\"none\" points=\"50,-4453.5 50,-4489.5 279,-4489.5 279,-4453.5 50,-4453.5\" stroke=\"#000000\"/>\n<text fill=\"#000000\" font-family=\"Times,serif\" font-size=\"14.00\" text-anchor=\"middle\" x=\"164.5\" y=\"-4467.8\">bn4d_branch2a: BatchNormalization</text>\n</g>\n<!-- 139885172442952&#45;&gt;139885172516456 -->\n<g class=\"edge\" id=\"edge123\">\n<title>139885172442952-&gt;139885172516456</title>\n<path d=\"M176.5449,-4526.4551C174.7565,-4518.2951 172.602,-4508.4652 170.6126,-4499.3887\" fill=\"none\" stroke=\"#000000\"/>\n<polygon fill=\"#000000\" points=\"174.0249,-4498.6091 168.465,-4489.5904 167.1872,-4500.1079 174.0249,-4498.6091\" stroke=\"#000000\"/>\n</g>\n<!-- 139885172546248 -->\n<g class=\"node\" id=\"node115\">\n<title>139885172546248</title>\n<polygon fill=\"none\" points=\"84,-4380.5 84,-4416.5 245,-4416.5 245,-4380.5 84,-4380.5\" stroke=\"#000000\"/>\n<text fill=\"#000000\" font-family=\"Times,serif\" font-size=\"14.00\" text-anchor=\"middle\" x=\"164.5\" y=\"-4394.8\">activation_32: Activation</text>\n</g>\n<!-- 139885172516456&#45;&gt;139885172546248 -->\n<g class=\"edge\" id=\"edge124\">\n<title>139885172516456-&gt;139885172546248</title>\n<path d=\"M164.5,-4453.4551C164.5,-4445.3828 164.5,-4435.6764 164.5,-4426.6817\" fill=\"none\" stroke=\"#000000\"/>\n<polygon fill=\"#000000\" points=\"168.0001,-4426.5903 164.5,-4416.5904 161.0001,-4426.5904 168.0001,-4426.5903\" stroke=\"#000000\"/>\n</g>\n<!-- 139885172561064 -->\n<g class=\"node\" id=\"node116\">\n<title>139885172561064</title>\n<polygon fill=\"none\" points=\"81,-4307.5 81,-4343.5 248,-4343.5 248,-4307.5 81,-4307.5\" stroke=\"#000000\"/>\n<text fill=\"#000000\" font-family=\"Times,serif\" font-size=\"14.00\" text-anchor=\"middle\" x=\"164.5\" y=\"-4321.8\">res4d_branch2b: Conv2D</text>\n</g>\n<!-- 139885172546248&#45;&gt;139885172561064 -->\n<g class=\"edge\" id=\"edge125\">\n<title>139885172546248-&gt;139885172561064</title>\n<path d=\"M164.5,-4380.4551C164.5,-4372.3828 164.5,-4362.6764 164.5,-4353.6817\" fill=\"none\" stroke=\"#000000\"/>\n<polygon fill=\"#000000\" points=\"168.0001,-4353.5903 164.5,-4343.5904 161.0001,-4353.5904 168.0001,-4353.5903\" stroke=\"#000000\"/>\n</g>\n<!-- 139885172656896 -->\n<g class=\"node\" id=\"node117\">\n<title>139885172656896</title>\n<polygon fill=\"none\" points=\"49.5,-4234.5 49.5,-4270.5 279.5,-4270.5 279.5,-4234.5 49.5,-4234.5\" stroke=\"#000000\"/>\n<text fill=\"#000000\" font-family=\"Times,serif\" font-size=\"14.00\" text-anchor=\"middle\" x=\"164.5\" y=\"-4248.8\">bn4d_branch2b: BatchNormalization</text>\n</g>\n<!-- 139885172561064&#45;&gt;139885172656896 -->\n<g class=\"edge\" id=\"edge126\">\n<title>139885172561064-&gt;139885172656896</title>\n<path d=\"M164.5,-4307.4551C164.5,-4299.3828 164.5,-4289.6764 164.5,-4280.6817\" fill=\"none\" stroke=\"#000000\"/>\n<polygon fill=\"#000000\" points=\"168.0001,-4280.5903 164.5,-4270.5904 161.0001,-4280.5904 168.0001,-4280.5903\" stroke=\"#000000\"/>\n</g>\n<!-- 139885172655552 -->\n<g class=\"node\" id=\"node118\">\n<title>139885172655552</title>\n<polygon fill=\"none\" points=\"84,-4161.5 84,-4197.5 245,-4197.5 245,-4161.5 84,-4161.5\" stroke=\"#000000\"/>\n<text fill=\"#000000\" font-family=\"Times,serif\" font-size=\"14.00\" text-anchor=\"middle\" x=\"164.5\" y=\"-4175.8\">activation_33: Activation</text>\n</g>\n<!-- 139885172656896&#45;&gt;139885172655552 -->\n<g class=\"edge\" id=\"edge127\">\n<title>139885172656896-&gt;139885172655552</title>\n<path d=\"M164.5,-4234.4551C164.5,-4226.3828 164.5,-4216.6764 164.5,-4207.6817\" fill=\"none\" stroke=\"#000000\"/>\n<polygon fill=\"#000000\" points=\"168.0001,-4207.5903 164.5,-4197.5904 161.0001,-4207.5904 168.0001,-4207.5903\" stroke=\"#000000\"/>\n</g>\n<!-- 139883758626632 -->\n<g class=\"node\" id=\"node119\">\n<title>139883758626632</title>\n<polygon fill=\"none\" points=\"82,-4088.5 82,-4124.5 247,-4124.5 247,-4088.5 82,-4088.5\" stroke=\"#000000\"/>\n<text fill=\"#000000\" font-family=\"Times,serif\" font-size=\"14.00\" text-anchor=\"middle\" x=\"164.5\" y=\"-4102.8\">res4d_branch2c: Conv2D</text>\n</g>\n<!-- 139885172655552&#45;&gt;139883758626632 -->\n<g class=\"edge\" id=\"edge128\">\n<title>139885172655552-&gt;139883758626632</title>\n<path d=\"M164.5,-4161.4551C164.5,-4153.3828 164.5,-4143.6764 164.5,-4134.6817\" fill=\"none\" stroke=\"#000000\"/>\n<polygon fill=\"#000000\" points=\"168.0001,-4134.5903 164.5,-4124.5904 161.0001,-4134.5904 168.0001,-4134.5903\" stroke=\"#000000\"/>\n</g>\n<!-- 139883758710568 -->\n<g class=\"node\" id=\"node120\">\n<title>139883758710568</title>\n<polygon fill=\"none\" points=\"50,-4015.5 50,-4051.5 279,-4051.5 279,-4015.5 50,-4015.5\" stroke=\"#000000\"/>\n<text fill=\"#000000\" font-family=\"Times,serif\" font-size=\"14.00\" text-anchor=\"middle\" x=\"164.5\" y=\"-4029.8\">bn4d_branch2c: BatchNormalization</text>\n</g>\n<!-- 139883758626632&#45;&gt;139883758710568 -->\n<g class=\"edge\" id=\"edge129\">\n<title>139883758626632-&gt;139883758710568</title>\n<path d=\"M164.5,-4088.4551C164.5,-4080.3828 164.5,-4070.6764 164.5,-4061.6817\" fill=\"none\" stroke=\"#000000\"/>\n<polygon fill=\"#000000\" points=\"168.0001,-4061.5903 164.5,-4051.5904 161.0001,-4061.5904 168.0001,-4061.5903\" stroke=\"#000000\"/>\n</g>\n<!-- 139883758710568&#45;&gt;139883758739408 -->\n<g class=\"edge\" id=\"edge131\">\n<title>139883758710568-&gt;139883758739408</title>\n<path d=\"M182.0506,-4015.4551C190.755,-4006.5054 201.4132,-3995.547 210.9156,-3985.7769\" fill=\"none\" stroke=\"#000000\"/>\n<polygon fill=\"#000000\" points=\"213.4421,-3988.1992 217.9053,-3978.5904 208.424,-3983.3187 213.4421,-3988.1992\" stroke=\"#000000\"/>\n</g>\n<!-- 139883758766568 -->\n<g class=\"node\" id=\"node122\">\n<title>139883758766568</title>\n<polygon fill=\"none\" points=\"155,-3869.5 155,-3905.5 316,-3905.5 316,-3869.5 155,-3869.5\" stroke=\"#000000\"/>\n<text fill=\"#000000\" font-family=\"Times,serif\" font-size=\"14.00\" text-anchor=\"middle\" x=\"235.5\" y=\"-3883.8\">activation_34: Activation</text>\n</g>\n<!-- 139883758739408&#45;&gt;139883758766568 -->\n<g class=\"edge\" id=\"edge132\">\n<title>139883758739408-&gt;139883758766568</title>\n<path d=\"M235.5,-3942.4551C235.5,-3934.3828 235.5,-3924.6764 235.5,-3915.6817\" fill=\"none\" stroke=\"#000000\"/>\n<polygon fill=\"#000000\" points=\"239.0001,-3915.5903 235.5,-3905.5904 232.0001,-3915.5904 239.0001,-3915.5903\" stroke=\"#000000\"/>\n</g>\n<!-- 139883758797152 -->\n<g class=\"node\" id=\"node123\">\n<title>139883758797152</title>\n<polygon fill=\"none\" points=\"82.5,-3796.5 82.5,-3832.5 246.5,-3832.5 246.5,-3796.5 82.5,-3796.5\" stroke=\"#000000\"/>\n<text fill=\"#000000\" font-family=\"Times,serif\" font-size=\"14.00\" text-anchor=\"middle\" x=\"164.5\" y=\"-3810.8\">res4e_branch2a: Conv2D</text>\n</g>\n<!-- 139883758766568&#45;&gt;139883758797152 -->\n<g class=\"edge\" id=\"edge133\">\n<title>139883758766568-&gt;139883758797152</title>\n<path d=\"M217.9494,-3869.4551C209.245,-3860.5054 198.5868,-3849.547 189.0844,-3839.7769\" fill=\"none\" stroke=\"#000000\"/>\n<polygon fill=\"#000000\" points=\"191.576,-3837.3187 182.0947,-3832.5904 186.5579,-3842.1992 191.576,-3837.3187\" stroke=\"#000000\"/>\n</g>\n<!-- 139883758609016 -->\n<g class=\"node\" id=\"node131\">\n<title>139883758609016</title>\n<polygon fill=\"none\" points=\"172.5,-3212.5 172.5,-3248.5 264.5,-3248.5 264.5,-3212.5 172.5,-3212.5\" stroke=\"#000000\"/>\n<text fill=\"#000000\" font-family=\"Times,serif\" font-size=\"14.00\" text-anchor=\"middle\" x=\"218.5\" y=\"-3226.8\">add_12: Add</text>\n</g>\n<!-- 139883758766568&#45;&gt;139883758609016 -->\n<g class=\"edge\" id=\"edge141\">\n<title>139883758766568-&gt;139883758609016</title>\n<path d=\"M247.1641,-3869.4282C263.3088,-3842.6285 290.5,-3790.255 290.5,-3741.5 290.5,-3741.5 290.5,-3741.5 290.5,-3376.5 290.5,-3334.776 289.0965,-3321.8356 269.5,-3285 263.8512,-3274.382 255.5948,-3264.2995 247.3641,-3255.7599\" fill=\"none\" stroke=\"#000000\"/>\n<polygon fill=\"#000000\" points=\"249.7749,-3253.2216 240.2038,-3248.6779 244.8524,-3258.1984 249.7749,-3253.2216\" stroke=\"#000000\"/>\n</g>\n<!-- 139883758866896 -->\n<g class=\"node\" id=\"node124\">\n<title>139883758866896</title>\n<polygon fill=\"none\" points=\"35,-3723.5 35,-3759.5 262,-3759.5 262,-3723.5 35,-3723.5\" stroke=\"#000000\"/>\n<text fill=\"#000000\" font-family=\"Times,serif\" font-size=\"14.00\" text-anchor=\"middle\" x=\"148.5\" y=\"-3737.8\">bn4e_branch2a: BatchNormalization</text>\n</g>\n<!-- 139883758797152&#45;&gt;139883758866896 -->\n<g class=\"edge\" id=\"edge134\">\n<title>139883758797152-&gt;139883758866896</title>\n<path d=\"M160.5449,-3796.4551C158.7565,-3788.2951 156.602,-3778.4652 154.6126,-3769.3887\" fill=\"none\" stroke=\"#000000\"/>\n<polygon fill=\"#000000\" points=\"158.0249,-3768.6091 152.465,-3759.5904 151.1872,-3770.1079 158.0249,-3768.6091\" stroke=\"#000000\"/>\n</g>\n<!-- 139883758869416 -->\n<g class=\"node\" id=\"node125\">\n<title>139883758869416</title>\n<polygon fill=\"none\" points=\"68,-3650.5 68,-3686.5 229,-3686.5 229,-3650.5 68,-3650.5\" stroke=\"#000000\"/>\n<text fill=\"#000000\" font-family=\"Times,serif\" font-size=\"14.00\" text-anchor=\"middle\" x=\"148.5\" y=\"-3664.8\">activation_35: Activation</text>\n</g>\n<!-- 139883758866896&#45;&gt;139883758869416 -->\n<g class=\"edge\" id=\"edge135\">\n<title>139883758866896-&gt;139883758869416</title>\n<path d=\"M148.5,-3723.4551C148.5,-3715.3828 148.5,-3705.6764 148.5,-3696.6817\" fill=\"none\" stroke=\"#000000\"/>\n<polygon fill=\"#000000\" points=\"152.0001,-3696.5903 148.5,-3686.5904 145.0001,-3696.5904 152.0001,-3696.5903\" stroke=\"#000000\"/>\n</g>\n<!-- 139883758374528 -->\n<g class=\"node\" id=\"node126\">\n<title>139883758374528</title>\n<polygon fill=\"none\" points=\"66,-3577.5 66,-3613.5 231,-3613.5 231,-3577.5 66,-3577.5\" stroke=\"#000000\"/>\n<text fill=\"#000000\" font-family=\"Times,serif\" font-size=\"14.00\" text-anchor=\"middle\" x=\"148.5\" y=\"-3591.8\">res4e_branch2b: Conv2D</text>\n</g>\n<!-- 139883758869416&#45;&gt;139883758374528 -->\n<g class=\"edge\" id=\"edge136\">\n<title>139883758869416-&gt;139883758374528</title>\n<path d=\"M148.5,-3650.4551C148.5,-3642.3828 148.5,-3632.6764 148.5,-3623.6817\" fill=\"none\" stroke=\"#000000\"/>\n<polygon fill=\"#000000\" points=\"152.0001,-3623.5903 148.5,-3613.5904 145.0001,-3623.5904 152.0001,-3623.5903\" stroke=\"#000000\"/>\n</g>\n<!-- 139883758408928 -->\n<g class=\"node\" id=\"node127\">\n<title>139883758408928</title>\n<polygon fill=\"none\" points=\"33,-3504.5 33,-3540.5 262,-3540.5 262,-3504.5 33,-3504.5\" stroke=\"#000000\"/>\n<text fill=\"#000000\" font-family=\"Times,serif\" font-size=\"14.00\" text-anchor=\"middle\" x=\"147.5\" y=\"-3518.8\">bn4e_branch2b: BatchNormalization</text>\n</g>\n<!-- 139883758374528&#45;&gt;139883758408928 -->\n<g class=\"edge\" id=\"edge137\">\n<title>139883758374528-&gt;139883758408928</title>\n<path d=\"M148.2528,-3577.4551C148.1422,-3569.3828 148.0093,-3559.6764 147.8861,-3550.6817\" fill=\"none\" stroke=\"#000000\"/>\n<polygon fill=\"#000000\" points=\"151.3846,-3550.5414 147.7478,-3540.5904 144.3852,-3550.6374 151.3846,-3550.5414\" stroke=\"#000000\"/>\n</g>\n<!-- 139883758485176 -->\n<g class=\"node\" id=\"node128\">\n<title>139883758485176</title>\n<polygon fill=\"none\" points=\"67,-3431.5 67,-3467.5 228,-3467.5 228,-3431.5 67,-3431.5\" stroke=\"#000000\"/>\n<text fill=\"#000000\" font-family=\"Times,serif\" font-size=\"14.00\" text-anchor=\"middle\" x=\"147.5\" y=\"-3445.8\">activation_36: Activation</text>\n</g>\n<!-- 139883758408928&#45;&gt;139883758485176 -->\n<g class=\"edge\" id=\"edge138\">\n<title>139883758408928-&gt;139883758485176</title>\n<path d=\"M147.5,-3504.4551C147.5,-3496.3828 147.5,-3486.6764 147.5,-3477.6817\" fill=\"none\" stroke=\"#000000\"/>\n<polygon fill=\"#000000\" points=\"151.0001,-3477.5903 147.5,-3467.5904 144.0001,-3477.5904 151.0001,-3477.5903\" stroke=\"#000000\"/>\n</g>\n<!-- 139883758505320 -->\n<g class=\"node\" id=\"node129\">\n<title>139883758505320</title>\n<polygon fill=\"none\" points=\"65.5,-3358.5 65.5,-3394.5 229.5,-3394.5 229.5,-3358.5 65.5,-3358.5\" stroke=\"#000000\"/>\n<text fill=\"#000000\" font-family=\"Times,serif\" font-size=\"14.00\" text-anchor=\"middle\" x=\"147.5\" y=\"-3372.8\">res4e_branch2c: Conv2D</text>\n</g>\n<!-- 139883758485176&#45;&gt;139883758505320 -->\n<g class=\"edge\" id=\"edge139\">\n<title>139883758485176-&gt;139883758505320</title>\n<path d=\"M147.5,-3431.4551C147.5,-3423.3828 147.5,-3413.6764 147.5,-3404.6817\" fill=\"none\" stroke=\"#000000\"/>\n<polygon fill=\"#000000\" points=\"151.0001,-3404.5903 147.5,-3394.5904 144.0001,-3404.5904 151.0001,-3404.5903\" stroke=\"#000000\"/>\n</g>\n<!-- 139883758610360 -->\n<g class=\"node\" id=\"node130\">\n<title>139883758610360</title>\n<polygon fill=\"none\" points=\"34,-3285.5 34,-3321.5 261,-3321.5 261,-3285.5 34,-3285.5\" stroke=\"#000000\"/>\n<text fill=\"#000000\" font-family=\"Times,serif\" font-size=\"14.00\" text-anchor=\"middle\" x=\"147.5\" y=\"-3299.8\">bn4e_branch2c: BatchNormalization</text>\n</g>\n<!-- 139883758505320&#45;&gt;139883758610360 -->\n<g class=\"edge\" id=\"edge140\">\n<title>139883758505320-&gt;139883758610360</title>\n<path d=\"M147.5,-3358.4551C147.5,-3350.3828 147.5,-3340.6764 147.5,-3331.6817\" fill=\"none\" stroke=\"#000000\"/>\n<polygon fill=\"#000000\" points=\"151.0001,-3331.5903 147.5,-3321.5904 144.0001,-3331.5904 151.0001,-3331.5903\" stroke=\"#000000\"/>\n</g>\n<!-- 139883758610360&#45;&gt;139883758609016 -->\n<g class=\"edge\" id=\"edge142\">\n<title>139883758610360-&gt;139883758609016</title>\n<path d=\"M165.0506,-3285.4551C173.755,-3276.5054 184.4132,-3265.547 193.9156,-3255.7769\" fill=\"none\" stroke=\"#000000\"/>\n<polygon fill=\"#000000\" points=\"196.4421,-3258.1992 200.9053,-3248.5904 191.424,-3253.3187 196.4421,-3258.1992\" stroke=\"#000000\"/>\n</g>\n<!-- 139883758130176 -->\n<g class=\"node\" id=\"node132\">\n<title>139883758130176</title>\n<polygon fill=\"none\" points=\"138,-3139.5 138,-3175.5 299,-3175.5 299,-3139.5 138,-3139.5\" stroke=\"#000000\"/>\n<text fill=\"#000000\" font-family=\"Times,serif\" font-size=\"14.00\" text-anchor=\"middle\" x=\"218.5\" y=\"-3153.8\">activation_37: Activation</text>\n</g>\n<!-- 139883758609016&#45;&gt;139883758130176 -->\n<g class=\"edge\" id=\"edge143\">\n<title>139883758609016-&gt;139883758130176</title>\n<path d=\"M218.5,-3212.4551C218.5,-3204.3828 218.5,-3194.6764 218.5,-3185.6817\" fill=\"none\" stroke=\"#000000\"/>\n<polygon fill=\"#000000\" points=\"222.0001,-3185.5903 218.5,-3175.5904 215.0001,-3185.5904 222.0001,-3185.5903\" stroke=\"#000000\"/>\n</g>\n<!-- 139883758132024 -->\n<g class=\"node\" id=\"node133\">\n<title>139883758132024</title>\n<polygon fill=\"none\" points=\"83.5,-3066.5 83.5,-3102.5 245.5,-3102.5 245.5,-3066.5 83.5,-3066.5\" stroke=\"#000000\"/>\n<text fill=\"#000000\" font-family=\"Times,serif\" font-size=\"14.00\" text-anchor=\"middle\" x=\"164.5\" y=\"-3080.8\">res4f_branch2a: Conv2D</text>\n</g>\n<!-- 139883758130176&#45;&gt;139883758132024 -->\n<g class=\"edge\" id=\"edge144\">\n<title>139883758130176-&gt;139883758132024</title>\n<path d=\"M205.1517,-3139.4551C198.7261,-3130.7686 190.9007,-3120.1898 183.8379,-3110.642\" fill=\"none\" stroke=\"#000000\"/>\n<polygon fill=\"#000000\" points=\"186.6428,-3108.5484 177.8819,-3102.5904 181.0151,-3112.7113 186.6428,-3108.5484\" stroke=\"#000000\"/>\n</g>\n<!-- 139883757972728 -->\n<g class=\"node\" id=\"node141\">\n<title>139883757972728</title>\n<polygon fill=\"none\" points=\"172.5,-2482.5 172.5,-2518.5 264.5,-2518.5 264.5,-2482.5 172.5,-2482.5\" stroke=\"#000000\"/>\n<text fill=\"#000000\" font-family=\"Times,serif\" font-size=\"14.00\" text-anchor=\"middle\" x=\"218.5\" y=\"-2496.8\">add_13: Add</text>\n</g>\n<!-- 139883758130176&#45;&gt;139883757972728 -->\n<g class=\"edge\" id=\"edge152\">\n<title>139883758130176-&gt;139883757972728</title>\n<path d=\"M234.2572,-3139.0704C255.1744,-3112.6575 289.5,-3061.6702 289.5,-3011.5 289.5,-3011.5 289.5,-3011.5 289.5,-2646.5 289.5,-2604.9658 289.8023,-2591.7764 270.5,-2555 264.8592,-2544.2526 256.4735,-2534.1346 248.0748,-2525.6022\" fill=\"none\" stroke=\"#000000\"/>\n<polygon fill=\"#000000\" points=\"250.3836,-2522.9662 240.7593,-2518.5362 245.5204,-2528.0011 250.3836,-2522.9662\" stroke=\"#000000\"/>\n</g>\n<!-- 139883758209624 -->\n<g class=\"node\" id=\"node134\">\n<title>139883758209624</title>\n<polygon fill=\"none\" points=\"35.5,-2993.5 35.5,-3029.5 261.5,-3029.5 261.5,-2993.5 35.5,-2993.5\" stroke=\"#000000\"/>\n<text fill=\"#000000\" font-family=\"Times,serif\" font-size=\"14.00\" text-anchor=\"middle\" x=\"148.5\" y=\"-3007.8\">bn4f_branch2a: BatchNormalization</text>\n</g>\n<!-- 139883758132024&#45;&gt;139883758209624 -->\n<g class=\"edge\" id=\"edge145\">\n<title>139883758132024-&gt;139883758209624</title>\n<path d=\"M160.5449,-3066.4551C158.7565,-3058.2951 156.602,-3048.4652 154.6126,-3039.3887\" fill=\"none\" stroke=\"#000000\"/>\n<polygon fill=\"#000000\" points=\"158.0249,-3038.6091 152.465,-3029.5904 151.1872,-3040.1079 158.0249,-3038.6091\" stroke=\"#000000\"/>\n</g>\n<!-- 139883758239360 -->\n<g class=\"node\" id=\"node135\">\n<title>139883758239360</title>\n<polygon fill=\"none\" points=\"68,-2920.5 68,-2956.5 229,-2956.5 229,-2920.5 68,-2920.5\" stroke=\"#000000\"/>\n<text fill=\"#000000\" font-family=\"Times,serif\" font-size=\"14.00\" text-anchor=\"middle\" x=\"148.5\" y=\"-2934.8\">activation_38: Activation</text>\n</g>\n<!-- 139883758209624&#45;&gt;139883758239360 -->\n<g class=\"edge\" id=\"edge146\">\n<title>139883758209624-&gt;139883758239360</title>\n<path d=\"M148.5,-2993.4551C148.5,-2985.3828 148.5,-2975.6764 148.5,-2966.6817\" fill=\"none\" stroke=\"#000000\"/>\n<polygon fill=\"#000000\" points=\"152.0001,-2966.5903 148.5,-2956.5904 145.0001,-2966.5904 152.0001,-2966.5903\" stroke=\"#000000\"/>\n</g>\n<!-- 139883758262424 -->\n<g class=\"node\" id=\"node136\">\n<title>139883758262424</title>\n<polygon fill=\"none\" points=\"66.5,-2847.5 66.5,-2883.5 230.5,-2883.5 230.5,-2847.5 66.5,-2847.5\" stroke=\"#000000\"/>\n<text fill=\"#000000\" font-family=\"Times,serif\" font-size=\"14.00\" text-anchor=\"middle\" x=\"148.5\" y=\"-2861.8\">res4f_branch2b: Conv2D</text>\n</g>\n<!-- 139883758239360&#45;&gt;139883758262424 -->\n<g class=\"edge\" id=\"edge147\">\n<title>139883758239360-&gt;139883758262424</title>\n<path d=\"M148.5,-2920.4551C148.5,-2912.3828 148.5,-2902.6764 148.5,-2893.6817\" fill=\"none\" stroke=\"#000000\"/>\n<polygon fill=\"#000000\" points=\"152.0001,-2893.5903 148.5,-2883.5904 145.0001,-2893.5904 152.0001,-2893.5903\" stroke=\"#000000\"/>\n</g>\n<!-- 139883758344624 -->\n<g class=\"node\" id=\"node137\">\n<title>139883758344624</title>\n<polygon fill=\"none\" points=\"34,-2774.5 34,-2810.5 261,-2810.5 261,-2774.5 34,-2774.5\" stroke=\"#000000\"/>\n<text fill=\"#000000\" font-family=\"Times,serif\" font-size=\"14.00\" text-anchor=\"middle\" x=\"147.5\" y=\"-2788.8\">bn4f_branch2b: BatchNormalization</text>\n</g>\n<!-- 139883758262424&#45;&gt;139883758344624 -->\n<g class=\"edge\" id=\"edge148\">\n<title>139883758262424-&gt;139883758344624</title>\n<path d=\"M148.2528,-2847.4551C148.1422,-2839.3828 148.0093,-2829.6764 147.8861,-2820.6817\" fill=\"none\" stroke=\"#000000\"/>\n<polygon fill=\"#000000\" points=\"151.3846,-2820.5414 147.7478,-2810.5904 144.3852,-2820.6374 151.3846,-2820.5414\" stroke=\"#000000\"/>\n</g>\n<!-- 139883757849176 -->\n<g class=\"node\" id=\"node138\">\n<title>139883757849176</title>\n<polygon fill=\"none\" points=\"68,-2701.5 68,-2737.5 229,-2737.5 229,-2701.5 68,-2701.5\" stroke=\"#000000\"/>\n<text fill=\"#000000\" font-family=\"Times,serif\" font-size=\"14.00\" text-anchor=\"middle\" x=\"148.5\" y=\"-2715.8\">activation_39: Activation</text>\n</g>\n<!-- 139883758344624&#45;&gt;139883757849176 -->\n<g class=\"edge\" id=\"edge149\">\n<title>139883758344624-&gt;139883757849176</title>\n<path d=\"M147.7472,-2774.4551C147.8578,-2766.3828 147.9907,-2756.6764 148.1139,-2747.6817\" fill=\"none\" stroke=\"#000000\"/>\n<polygon fill=\"#000000\" points=\"151.6148,-2747.6374 148.2522,-2737.5904 144.6154,-2747.5414 151.6148,-2747.6374\" stroke=\"#000000\"/>\n</g>\n<!-- 139883757873976 -->\n<g class=\"node\" id=\"node139\">\n<title>139883757873976</title>\n<polygon fill=\"none\" points=\"67.5,-2628.5 67.5,-2664.5 229.5,-2664.5 229.5,-2628.5 67.5,-2628.5\" stroke=\"#000000\"/>\n<text fill=\"#000000\" font-family=\"Times,serif\" font-size=\"14.00\" text-anchor=\"middle\" x=\"148.5\" y=\"-2642.8\">res4f_branch2c: Conv2D</text>\n</g>\n<!-- 139883757849176&#45;&gt;139883757873976 -->\n<g class=\"edge\" id=\"edge150\">\n<title>139883757849176-&gt;139883757873976</title>\n<path d=\"M148.5,-2701.4551C148.5,-2693.3828 148.5,-2683.6764 148.5,-2674.6817\" fill=\"none\" stroke=\"#000000\"/>\n<polygon fill=\"#000000\" points=\"152.0001,-2674.5903 148.5,-2664.5904 145.0001,-2674.5904 152.0001,-2674.5903\" stroke=\"#000000\"/>\n</g>\n<!-- 139883757896088 -->\n<g class=\"node\" id=\"node140\">\n<title>139883757896088</title>\n<polygon fill=\"none\" points=\"35.5,-2555.5 35.5,-2591.5 261.5,-2591.5 261.5,-2555.5 35.5,-2555.5\" stroke=\"#000000\"/>\n<text fill=\"#000000\" font-family=\"Times,serif\" font-size=\"14.00\" text-anchor=\"middle\" x=\"148.5\" y=\"-2569.8\">bn4f_branch2c: BatchNormalization</text>\n</g>\n<!-- 139883757873976&#45;&gt;139883757896088 -->\n<g class=\"edge\" id=\"edge151\">\n<title>139883757873976-&gt;139883757896088</title>\n<path d=\"M148.5,-2628.4551C148.5,-2620.3828 148.5,-2610.6764 148.5,-2601.6817\" fill=\"none\" stroke=\"#000000\"/>\n<polygon fill=\"#000000\" points=\"152.0001,-2601.5903 148.5,-2591.5904 145.0001,-2601.5904 152.0001,-2601.5903\" stroke=\"#000000\"/>\n</g>\n<!-- 139883757896088&#45;&gt;139883757972728 -->\n<g class=\"edge\" id=\"edge153\">\n<title>139883757896088-&gt;139883757972728</title>\n<path d=\"M165.8034,-2555.4551C174.3011,-2546.5932 184.6875,-2535.7616 193.986,-2526.0646\" fill=\"none\" stroke=\"#000000\"/>\n<polygon fill=\"#000000\" points=\"196.7581,-2528.2306 201.1531,-2518.5904 191.7056,-2523.3858 196.7581,-2528.2306\" stroke=\"#000000\"/>\n</g>\n<!-- 139883757997528 -->\n<g class=\"node\" id=\"node142\">\n<title>139883757997528</title>\n<polygon fill=\"none\" points=\"138,-2409.5 138,-2445.5 299,-2445.5 299,-2409.5 138,-2409.5\" stroke=\"#000000\"/>\n<text fill=\"#000000\" font-family=\"Times,serif\" font-size=\"14.00\" text-anchor=\"middle\" x=\"218.5\" y=\"-2423.8\">activation_40: Activation</text>\n</g>\n<!-- 139883757972728&#45;&gt;139883757997528 -->\n<g class=\"edge\" id=\"edge154\">\n<title>139883757972728-&gt;139883757997528</title>\n<path d=\"M218.5,-2482.4551C218.5,-2474.3828 218.5,-2464.6764 218.5,-2455.6817\" fill=\"none\" stroke=\"#000000\"/>\n<polygon fill=\"#000000\" points=\"222.0001,-2455.5903 218.5,-2445.5904 215.0001,-2455.5904 222.0001,-2455.5903\" stroke=\"#000000\"/>\n</g>\n<!-- 139883758079616 -->\n<g class=\"node\" id=\"node143\">\n<title>139883758079616</title>\n<polygon fill=\"none\" points=\"81.5,-2336.5 81.5,-2372.5 245.5,-2372.5 245.5,-2336.5 81.5,-2336.5\" stroke=\"#000000\"/>\n<text fill=\"#000000\" font-family=\"Times,serif\" font-size=\"14.00\" text-anchor=\"middle\" x=\"163.5\" y=\"-2350.8\">res5a_branch2a: Conv2D</text>\n</g>\n<!-- 139883757997528&#45;&gt;139883758079616 -->\n<g class=\"edge\" id=\"edge155\">\n<title>139883757997528-&gt;139883758079616</title>\n<path d=\"M204.9045,-2409.4551C198.3599,-2400.7686 190.3896,-2390.1898 183.196,-2380.642\" fill=\"none\" stroke=\"#000000\"/>\n<polygon fill=\"#000000\" points=\"185.9427,-2378.4711 177.1297,-2372.5904 180.3518,-2382.6834 185.9427,-2378.4711\" stroke=\"#000000\"/>\n</g>\n<!-- 139883757367368 -->\n<g class=\"node\" id=\"node149\">\n<title>139883757367368</title>\n<polygon fill=\"none\" points=\"245.5,-2263.5 245.5,-2299.5 403.5,-2299.5 403.5,-2263.5 245.5,-2263.5\" stroke=\"#000000\"/>\n<text fill=\"#000000\" font-family=\"Times,serif\" font-size=\"14.00\" text-anchor=\"middle\" x=\"324.5\" y=\"-2277.8\">res5a_branch1: Conv2D</text>\n</g>\n<!-- 139883757997528&#45;&gt;139883757367368 -->\n<g class=\"edge\" id=\"edge161\">\n<title>139883757997528-&gt;139883757367368</title>\n<path d=\"M231.7106,-2409.3042C250.1981,-2383.8403 283.9072,-2337.4108 305.2051,-2308.0759\" fill=\"none\" stroke=\"#000000\"/>\n<polygon fill=\"#000000\" points=\"308.08,-2310.0736 311.1229,-2299.9251 302.4154,-2305.961 308.08,-2310.0736\" stroke=\"#000000\"/>\n</g>\n<!-- 139883758097688 -->\n<g class=\"node\" id=\"node144\">\n<title>139883758097688</title>\n<polygon fill=\"none\" points=\"0,-2263.5 0,-2299.5 227,-2299.5 227,-2263.5 0,-2263.5\" stroke=\"#000000\"/>\n<text fill=\"#000000\" font-family=\"Times,serif\" font-size=\"14.00\" text-anchor=\"middle\" x=\"113.5\" y=\"-2277.8\">bn5a_branch2a: BatchNormalization</text>\n</g>\n<!-- 139883758079616&#45;&gt;139883758097688 -->\n<g class=\"edge\" id=\"edge156\">\n<title>139883758079616-&gt;139883758097688</title>\n<path d=\"M151.1404,-2336.4551C145.2509,-2327.8564 138.0913,-2317.4034 131.6039,-2307.9316\" fill=\"none\" stroke=\"#000000\"/>\n<polygon fill=\"#000000\" points=\"134.4292,-2305.8628 125.8907,-2299.5904 128.654,-2309.8185 134.4292,-2305.8628\" stroke=\"#000000\"/>\n</g>\n<!-- 139883757603024 -->\n<g class=\"node\" id=\"node145\">\n<title>139883757603024</title>\n<polygon fill=\"none\" points=\"34,-2190.5 34,-2226.5 195,-2226.5 195,-2190.5 34,-2190.5\" stroke=\"#000000\"/>\n<text fill=\"#000000\" font-family=\"Times,serif\" font-size=\"14.00\" text-anchor=\"middle\" x=\"114.5\" y=\"-2204.8\">activation_41: Activation</text>\n</g>\n<!-- 139883758097688&#45;&gt;139883757603024 -->\n<g class=\"edge\" id=\"edge157\">\n<title>139883758097688-&gt;139883757603024</title>\n<path d=\"M113.7472,-2263.4551C113.8578,-2255.3828 113.9907,-2245.6764 114.1139,-2236.6817\" fill=\"none\" stroke=\"#000000\"/>\n<polygon fill=\"#000000\" points=\"117.6148,-2236.6374 114.2522,-2226.5904 110.6154,-2236.5414 117.6148,-2236.6374\" stroke=\"#000000\"/>\n</g>\n<!-- 139883757638320 -->\n<g class=\"node\" id=\"node146\">\n<title>139883757638320</title>\n<polygon fill=\"none\" points=\"65,-2117.5 65,-2153.5 230,-2153.5 230,-2117.5 65,-2117.5\" stroke=\"#000000\"/>\n<text fill=\"#000000\" font-family=\"Times,serif\" font-size=\"14.00\" text-anchor=\"middle\" x=\"147.5\" y=\"-2131.8\">res5a_branch2b: Conv2D</text>\n</g>\n<!-- 139883757603024&#45;&gt;139883757638320 -->\n<g class=\"edge\" id=\"edge158\">\n<title>139883757603024-&gt;139883757638320</title>\n<path d=\"M122.6573,-2190.4551C126.4254,-2182.1196 130.9812,-2172.0416 135.157,-2162.8042\" fill=\"none\" stroke=\"#000000\"/>\n<polygon fill=\"#000000\" points=\"138.3922,-2164.1443 139.3222,-2153.5904 132.0136,-2161.2608 138.3922,-2164.1443\" stroke=\"#000000\"/>\n</g>\n<!-- 139883757705480 -->\n<g class=\"node\" id=\"node147\">\n<title>139883757705480</title>\n<polygon fill=\"none\" points=\"49,-2044.5 49,-2080.5 278,-2080.5 278,-2044.5 49,-2044.5\" stroke=\"#000000\"/>\n<text fill=\"#000000\" font-family=\"Times,serif\" font-size=\"14.00\" text-anchor=\"middle\" x=\"163.5\" y=\"-2058.8\">bn5a_branch2b: BatchNormalization</text>\n</g>\n<!-- 139883757638320&#45;&gt;139883757705480 -->\n<g class=\"edge\" id=\"edge159\">\n<title>139883757638320-&gt;139883757705480</title>\n<path d=\"M151.4551,-2117.4551C153.2435,-2109.2951 155.398,-2099.4652 157.3874,-2090.3887\" fill=\"none\" stroke=\"#000000\"/>\n<polygon fill=\"#000000\" points=\"160.8128,-2091.1079 159.535,-2080.5904 153.9751,-2089.6091 160.8128,-2091.1079\" stroke=\"#000000\"/>\n</g>\n<!-- 139883757704136 -->\n<g class=\"node\" id=\"node148\">\n<title>139883757704136</title>\n<polygon fill=\"none\" points=\"83,-1971.5 83,-2007.5 244,-2007.5 244,-1971.5 83,-1971.5\" stroke=\"#000000\"/>\n<text fill=\"#000000\" font-family=\"Times,serif\" font-size=\"14.00\" text-anchor=\"middle\" x=\"163.5\" y=\"-1985.8\">activation_42: Activation</text>\n</g>\n<!-- 139883757705480&#45;&gt;139883757704136 -->\n<g class=\"edge\" id=\"edge160\">\n<title>139883757705480-&gt;139883757704136</title>\n<path d=\"M163.5,-2044.4551C163.5,-2036.3828 163.5,-2026.6764 163.5,-2017.6817\" fill=\"none\" stroke=\"#000000\"/>\n<polygon fill=\"#000000\" points=\"167.0001,-2017.5903 163.5,-2007.5904 160.0001,-2017.5904 167.0001,-2017.5903\" stroke=\"#000000\"/>\n</g>\n<!-- 139883757765968 -->\n<g class=\"node\" id=\"node150\">\n<title>139883757765968</title>\n<polygon fill=\"none\" points=\"90.5,-1898.5 90.5,-1934.5 254.5,-1934.5 254.5,-1898.5 90.5,-1898.5\" stroke=\"#000000\"/>\n<text fill=\"#000000\" font-family=\"Times,serif\" font-size=\"14.00\" text-anchor=\"middle\" x=\"172.5\" y=\"-1912.8\">res5a_branch2c: Conv2D</text>\n</g>\n<!-- 139883757704136&#45;&gt;139883757765968 -->\n<g class=\"edge\" id=\"edge162\">\n<title>139883757704136-&gt;139883757765968</title>\n<path d=\"M165.7247,-1971.4551C166.7199,-1963.3828 167.9166,-1953.6764 169.0255,-1944.6817\" fill=\"none\" stroke=\"#000000\"/>\n<polygon fill=\"#000000\" points=\"172.5197,-1944.9435 170.2697,-1934.5904 165.5723,-1944.0869 172.5197,-1944.9435\" stroke=\"#000000\"/>\n</g>\n<!-- 139883757371176 -->\n<g class=\"node\" id=\"node151\">\n<title>139883757371176</title>\n<polygon fill=\"none\" points=\"213,-2190.5 213,-2226.5 434,-2226.5 434,-2190.5 213,-2190.5\" stroke=\"#000000\"/>\n<text fill=\"#000000\" font-family=\"Times,serif\" font-size=\"14.00\" text-anchor=\"middle\" x=\"323.5\" y=\"-2204.8\">bn5a_branch1: BatchNormalization</text>\n</g>\n<!-- 139883757367368&#45;&gt;139883757371176 -->\n<g class=\"edge\" id=\"edge163\">\n<title>139883757367368-&gt;139883757371176</title>\n<path d=\"M324.2528,-2263.4551C324.1422,-2255.3828 324.0093,-2245.6764 323.8861,-2236.6817\" fill=\"none\" stroke=\"#000000\"/>\n<polygon fill=\"#000000\" points=\"327.3846,-2236.5414 323.7478,-2226.5904 320.3852,-2236.6374 327.3846,-2236.5414\" stroke=\"#000000\"/>\n</g>\n<!-- 139883757837224 -->\n<g class=\"node\" id=\"node152\">\n<title>139883757837224</title>\n<polygon fill=\"none\" points=\"59,-1825.5 59,-1861.5 286,-1861.5 286,-1825.5 59,-1825.5\" stroke=\"#000000\"/>\n<text fill=\"#000000\" font-family=\"Times,serif\" font-size=\"14.00\" text-anchor=\"middle\" x=\"172.5\" y=\"-1839.8\">bn5a_branch2c: BatchNormalization</text>\n</g>\n<!-- 139883757765968&#45;&gt;139883757837224 -->\n<g class=\"edge\" id=\"edge164\">\n<title>139883757765968-&gt;139883757837224</title>\n<path d=\"M172.5,-1898.4551C172.5,-1890.3828 172.5,-1880.6764 172.5,-1871.6817\" fill=\"none\" stroke=\"#000000\"/>\n<polygon fill=\"#000000\" points=\"176.0001,-1871.5903 172.5,-1861.5904 169.0001,-1871.5904 176.0001,-1871.5903\" stroke=\"#000000\"/>\n</g>\n<!-- 139883757444568 -->\n<g class=\"node\" id=\"node153\">\n<title>139883757444568</title>\n<polygon fill=\"none\" points=\"197.5,-1752.5 197.5,-1788.5 289.5,-1788.5 289.5,-1752.5 197.5,-1752.5\" stroke=\"#000000\"/>\n<text fill=\"#000000\" font-family=\"Times,serif\" font-size=\"14.00\" text-anchor=\"middle\" x=\"243.5\" y=\"-1766.8\">add_14: Add</text>\n</g>\n<!-- 139883757371176&#45;&gt;139883757444568 -->\n<g class=\"edge\" id=\"edge165\">\n<title>139883757371176-&gt;139883757444568</title>\n<path d=\"M321.6352,-2190.0845C318.999,-2162.4173 314.5,-2108.4656 314.5,-2062.5 314.5,-2062.5 314.5,-2062.5 314.5,-1916.5 314.5,-1874.8732 313.8594,-1861.8511 294.5,-1825 288.9066,-1814.3527 280.6654,-1804.2622 272.4315,-1795.7242\" fill=\"none\" stroke=\"#000000\"/>\n<polygon fill=\"#000000\" points=\"274.8388,-1793.1825 265.2644,-1788.6458 269.92,-1798.163 274.8388,-1793.1825\" stroke=\"#000000\"/>\n</g>\n<!-- 139883757837224&#45;&gt;139883757444568 -->\n<g class=\"edge\" id=\"edge166\">\n<title>139883757837224-&gt;139883757444568</title>\n<path d=\"M190.0506,-1825.4551C198.755,-1816.5054 209.4132,-1805.547 218.9156,-1795.7769\" fill=\"none\" stroke=\"#000000\"/>\n<polygon fill=\"#000000\" points=\"221.4421,-1798.1992 225.9053,-1788.5904 216.424,-1793.3187 221.4421,-1798.1992\" stroke=\"#000000\"/>\n</g>\n<!-- 139883757496472 -->\n<g class=\"node\" id=\"node154\">\n<title>139883757496472</title>\n<polygon fill=\"none\" points=\"163,-1679.5 163,-1715.5 324,-1715.5 324,-1679.5 163,-1679.5\" stroke=\"#000000\"/>\n<text fill=\"#000000\" font-family=\"Times,serif\" font-size=\"14.00\" text-anchor=\"middle\" x=\"243.5\" y=\"-1693.8\">activation_43: Activation</text>\n</g>\n<!-- 139883757444568&#45;&gt;139883757496472 -->\n<g class=\"edge\" id=\"edge167\">\n<title>139883757444568-&gt;139883757496472</title>\n<path d=\"M243.5,-1752.4551C243.5,-1744.3828 243.5,-1734.6764 243.5,-1725.6817\" fill=\"none\" stroke=\"#000000\"/>\n<polygon fill=\"#000000\" points=\"247.0001,-1725.5903 243.5,-1715.5904 240.0001,-1725.5904 247.0001,-1725.5903\" stroke=\"#000000\"/>\n</g>\n<!-- 139883757498152 -->\n<g class=\"node\" id=\"node155\">\n<title>139883757498152</title>\n<polygon fill=\"none\" points=\"90,-1606.5 90,-1642.5 255,-1642.5 255,-1606.5 90,-1606.5\" stroke=\"#000000\"/>\n<text fill=\"#000000\" font-family=\"Times,serif\" font-size=\"14.00\" text-anchor=\"middle\" x=\"172.5\" y=\"-1620.8\">res5b_branch2a: Conv2D</text>\n</g>\n<!-- 139883757496472&#45;&gt;139883757498152 -->\n<g class=\"edge\" id=\"edge168\">\n<title>139883757496472-&gt;139883757498152</title>\n<path d=\"M225.9494,-1679.4551C217.245,-1670.5054 206.5868,-1659.547 197.0844,-1649.7769\" fill=\"none\" stroke=\"#000000\"/>\n<polygon fill=\"#000000\" points=\"199.576,-1647.3187 190.0947,-1642.5904 194.5579,-1652.1992 199.576,-1647.3187\" stroke=\"#000000\"/>\n</g>\n<!-- 139883756806552 -->\n<g class=\"node\" id=\"node163\">\n<title>139883756806552</title>\n<polygon fill=\"none\" points=\"181.5,-1022.5 181.5,-1058.5 273.5,-1058.5 273.5,-1022.5 181.5,-1022.5\" stroke=\"#000000\"/>\n<text fill=\"#000000\" font-family=\"Times,serif\" font-size=\"14.00\" text-anchor=\"middle\" x=\"227.5\" y=\"-1036.8\">add_15: Add</text>\n</g>\n<!-- 139883757496472&#45;&gt;139883756806552 -->\n<g class=\"edge\" id=\"edge176\">\n<title>139883757496472-&gt;139883756806552</title>\n<path d=\"M255.3762,-1679.4575C271.8145,-1652.6944 299.5,-1600.366 299.5,-1551.5 299.5,-1551.5 299.5,-1551.5 299.5,-1186.5 299.5,-1144.8732 299.0378,-1131.7568 279.5,-1095 273.8031,-1084.2823 265.402,-1074.1724 257.0064,-1065.6383\" fill=\"none\" stroke=\"#000000\"/>\n<polygon fill=\"#000000\" points=\"259.3189,-1063.0057 249.6979,-1058.5687 254.452,-1068.037 259.3189,-1063.0057\" stroke=\"#000000\"/>\n</g>\n<!-- 139883757081320 -->\n<g class=\"node\" id=\"node156\">\n<title>139883757081320</title>\n<polygon fill=\"none\" points=\"42,-1533.5 42,-1569.5 271,-1569.5 271,-1533.5 42,-1533.5\" stroke=\"#000000\"/>\n<text fill=\"#000000\" font-family=\"Times,serif\" font-size=\"14.00\" text-anchor=\"middle\" x=\"156.5\" y=\"-1547.8\">bn5b_branch2a: BatchNormalization</text>\n</g>\n<!-- 139883757498152&#45;&gt;139883757081320 -->\n<g class=\"edge\" id=\"edge169\">\n<title>139883757498152-&gt;139883757081320</title>\n<path d=\"M168.5449,-1606.4551C166.7565,-1598.2951 164.602,-1588.4652 162.6126,-1579.3887\" fill=\"none\" stroke=\"#000000\"/>\n<polygon fill=\"#000000\" points=\"166.0249,-1578.6091 160.465,-1569.5904 159.1872,-1580.1079 166.0249,-1578.6091\" stroke=\"#000000\"/>\n</g>\n<!-- 139883757083336 -->\n<g class=\"node\" id=\"node157\">\n<title>139883757083336</title>\n<polygon fill=\"none\" points=\"76,-1460.5 76,-1496.5 237,-1496.5 237,-1460.5 76,-1460.5\" stroke=\"#000000\"/>\n<text fill=\"#000000\" font-family=\"Times,serif\" font-size=\"14.00\" text-anchor=\"middle\" x=\"156.5\" y=\"-1474.8\">activation_44: Activation</text>\n</g>\n<!-- 139883757081320&#45;&gt;139883757083336 -->\n<g class=\"edge\" id=\"edge170\">\n<title>139883757081320-&gt;139883757083336</title>\n<path d=\"M156.5,-1533.4551C156.5,-1525.3828 156.5,-1515.6764 156.5,-1506.6817\" fill=\"none\" stroke=\"#000000\"/>\n<polygon fill=\"#000000\" points=\"160.0001,-1506.5903 156.5,-1496.5904 153.0001,-1506.5904 160.0001,-1506.5903\" stroke=\"#000000\"/>\n</g>\n<!-- 139883757104544 -->\n<g class=\"node\" id=\"node158\">\n<title>139883757104544</title>\n<polygon fill=\"none\" points=\"73,-1387.5 73,-1423.5 240,-1423.5 240,-1387.5 73,-1387.5\" stroke=\"#000000\"/>\n<text fill=\"#000000\" font-family=\"Times,serif\" font-size=\"14.00\" text-anchor=\"middle\" x=\"156.5\" y=\"-1401.8\">res5b_branch2b: Conv2D</text>\n</g>\n<!-- 139883757083336&#45;&gt;139883757104544 -->\n<g class=\"edge\" id=\"edge171\">\n<title>139883757083336-&gt;139883757104544</title>\n<path d=\"M156.5,-1460.4551C156.5,-1452.3828 156.5,-1442.6764 156.5,-1433.6817\" fill=\"none\" stroke=\"#000000\"/>\n<polygon fill=\"#000000\" points=\"160.0001,-1433.5903 156.5,-1423.5904 153.0001,-1433.5904 160.0001,-1433.5903\" stroke=\"#000000\"/>\n</g>\n<!-- 139883757143040 -->\n<g class=\"node\" id=\"node159\">\n<title>139883757143040</title>\n<polygon fill=\"none\" points=\"41.5,-1314.5 41.5,-1350.5 271.5,-1350.5 271.5,-1314.5 41.5,-1314.5\" stroke=\"#000000\"/>\n<text fill=\"#000000\" font-family=\"Times,serif\" font-size=\"14.00\" text-anchor=\"middle\" x=\"156.5\" y=\"-1328.8\">bn5b_branch2b: BatchNormalization</text>\n</g>\n<!-- 139883757104544&#45;&gt;139883757143040 -->\n<g class=\"edge\" id=\"edge172\">\n<title>139883757104544-&gt;139883757143040</title>\n<path d=\"M156.5,-1387.4551C156.5,-1379.3828 156.5,-1369.6764 156.5,-1360.6817\" fill=\"none\" stroke=\"#000000\"/>\n<polygon fill=\"#000000\" points=\"160.0001,-1360.5903 156.5,-1350.5904 153.0001,-1360.5904 160.0001,-1360.5903\" stroke=\"#000000\"/>\n</g>\n<!-- 139883757207000 -->\n<g class=\"node\" id=\"node160\">\n<title>139883757207000</title>\n<polygon fill=\"none\" points=\"76,-1241.5 76,-1277.5 237,-1277.5 237,-1241.5 76,-1241.5\" stroke=\"#000000\"/>\n<text fill=\"#000000\" font-family=\"Times,serif\" font-size=\"14.00\" text-anchor=\"middle\" x=\"156.5\" y=\"-1255.8\">activation_45: Activation</text>\n</g>\n<!-- 139883757143040&#45;&gt;139883757207000 -->\n<g class=\"edge\" id=\"edge173\">\n<title>139883757143040-&gt;139883757207000</title>\n<path d=\"M156.5,-1314.4551C156.5,-1306.3828 156.5,-1296.6764 156.5,-1287.6817\" fill=\"none\" stroke=\"#000000\"/>\n<polygon fill=\"#000000\" points=\"160.0001,-1287.5903 156.5,-1277.5904 153.0001,-1287.5904 160.0001,-1287.5903\" stroke=\"#000000\"/>\n</g>\n<!-- 139883757231240 -->\n<g class=\"node\" id=\"node161\">\n<title>139883757231240</title>\n<polygon fill=\"none\" points=\"74,-1168.5 74,-1204.5 239,-1204.5 239,-1168.5 74,-1168.5\" stroke=\"#000000\"/>\n<text fill=\"#000000\" font-family=\"Times,serif\" font-size=\"14.00\" text-anchor=\"middle\" x=\"156.5\" y=\"-1182.8\">res5b_branch2c: Conv2D</text>\n</g>\n<!-- 139883757207000&#45;&gt;139883757231240 -->\n<g class=\"edge\" id=\"edge174\">\n<title>139883757207000-&gt;139883757231240</title>\n<path d=\"M156.5,-1241.4551C156.5,-1233.3828 156.5,-1223.6764 156.5,-1214.6817\" fill=\"none\" stroke=\"#000000\"/>\n<polygon fill=\"#000000\" points=\"160.0001,-1214.5903 156.5,-1204.5904 153.0001,-1214.5904 160.0001,-1214.5903\" stroke=\"#000000\"/>\n</g>\n<!-- 139883756807896 -->\n<g class=\"node\" id=\"node162\">\n<title>139883756807896</title>\n<polygon fill=\"none\" points=\"42,-1095.5 42,-1131.5 271,-1131.5 271,-1095.5 42,-1095.5\" stroke=\"#000000\"/>\n<text fill=\"#000000\" font-family=\"Times,serif\" font-size=\"14.00\" text-anchor=\"middle\" x=\"156.5\" y=\"-1109.8\">bn5b_branch2c: BatchNormalization</text>\n</g>\n<!-- 139883757231240&#45;&gt;139883756807896 -->\n<g class=\"edge\" id=\"edge175\">\n<title>139883757231240-&gt;139883756807896</title>\n<path d=\"M156.5,-1168.4551C156.5,-1160.3828 156.5,-1150.6764 156.5,-1141.6817\" fill=\"none\" stroke=\"#000000\"/>\n<polygon fill=\"#000000\" points=\"160.0001,-1141.5903 156.5,-1131.5904 153.0001,-1141.5904 160.0001,-1141.5903\" stroke=\"#000000\"/>\n</g>\n<!-- 139883756807896&#45;&gt;139883756806552 -->\n<g class=\"edge\" id=\"edge177\">\n<title>139883756807896-&gt;139883756806552</title>\n<path d=\"M174.0506,-1095.4551C182.755,-1086.5054 193.4132,-1075.547 202.9156,-1065.7769\" fill=\"none\" stroke=\"#000000\"/>\n<polygon fill=\"#000000\" points=\"205.4421,-1068.1992 209.9053,-1058.5904 200.424,-1063.3187 205.4421,-1068.1992\" stroke=\"#000000\"/>\n</g>\n<!-- 139883756864288 -->\n<g class=\"node\" id=\"node164\">\n<title>139883756864288</title>\n<polygon fill=\"none\" points=\"147,-949.5 147,-985.5 308,-985.5 308,-949.5 147,-949.5\" stroke=\"#000000\"/>\n<text fill=\"#000000\" font-family=\"Times,serif\" font-size=\"14.00\" text-anchor=\"middle\" x=\"227.5\" y=\"-963.8\">activation_46: Activation</text>\n</g>\n<!-- 139883756806552&#45;&gt;139883756864288 -->\n<g class=\"edge\" id=\"edge178\">\n<title>139883756806552-&gt;139883756864288</title>\n<path d=\"M227.5,-1022.4551C227.5,-1014.3828 227.5,-1004.6764 227.5,-995.6817\" fill=\"none\" stroke=\"#000000\"/>\n<polygon fill=\"#000000\" points=\"231.0001,-995.5903 227.5,-985.5904 224.0001,-995.5904 231.0001,-995.5903\" stroke=\"#000000\"/>\n</g>\n<!-- 139883756866136 -->\n<g class=\"node\" id=\"node165\">\n<title>139883756866136</title>\n<polygon fill=\"none\" points=\"74.5,-876.5 74.5,-912.5 238.5,-912.5 238.5,-876.5 74.5,-876.5\" stroke=\"#000000\"/>\n<text fill=\"#000000\" font-family=\"Times,serif\" font-size=\"14.00\" text-anchor=\"middle\" x=\"156.5\" y=\"-890.8\">res5c_branch2a: Conv2D</text>\n</g>\n<!-- 139883756864288&#45;&gt;139883756866136 -->\n<g class=\"edge\" id=\"edge179\">\n<title>139883756864288-&gt;139883756866136</title>\n<path d=\"M209.9494,-949.4551C201.245,-940.5054 190.5868,-929.547 181.0844,-919.7769\" fill=\"none\" stroke=\"#000000\"/>\n<polygon fill=\"#000000\" points=\"183.576,-917.3187 174.0947,-912.5904 178.5579,-922.1992 183.576,-917.3187\" stroke=\"#000000\"/>\n</g>\n<!-- 139883756698648 -->\n<g class=\"node\" id=\"node173\">\n<title>139883756698648</title>\n<polygon fill=\"none\" points=\"165.5,-292.5 165.5,-328.5 257.5,-328.5 257.5,-292.5 165.5,-292.5\" stroke=\"#000000\"/>\n<text fill=\"#000000\" font-family=\"Times,serif\" font-size=\"14.00\" text-anchor=\"middle\" x=\"211.5\" y=\"-306.8\">add_16: Add</text>\n</g>\n<!-- 139883756864288&#45;&gt;139883756698648 -->\n<g class=\"edge\" id=\"edge187\">\n<title>139883756864288-&gt;139883756698648</title>\n<path d=\"M239.1641,-949.4282C255.3088,-922.6285 282.5,-870.255 282.5,-821.5 282.5,-821.5 282.5,-821.5 282.5,-456.5 282.5,-414.8732 281.8594,-401.8511 262.5,-365 256.9066,-354.3527 248.6654,-344.2622 240.4315,-335.7242\" fill=\"none\" stroke=\"#000000\"/>\n<polygon fill=\"#000000\" points=\"242.8388,-333.1825 233.2644,-328.6458 237.92,-338.163 242.8388,-333.1825\" stroke=\"#000000\"/>\n</g>\n<!-- 139883756939640 -->\n<g class=\"node\" id=\"node166\">\n<title>139883756939640</title>\n<polygon fill=\"none\" points=\"27,-803.5 27,-839.5 254,-839.5 254,-803.5 27,-803.5\" stroke=\"#000000\"/>\n<text fill=\"#000000\" font-family=\"Times,serif\" font-size=\"14.00\" text-anchor=\"middle\" x=\"140.5\" y=\"-817.8\">bn5c_branch2a: BatchNormalization</text>\n</g>\n<!-- 139883756866136&#45;&gt;139883756939640 -->\n<g class=\"edge\" id=\"edge180\">\n<title>139883756866136-&gt;139883756939640</title>\n<path d=\"M152.5449,-876.4551C150.7565,-868.2951 148.602,-858.4652 146.6126,-849.3887\" fill=\"none\" stroke=\"#000000\"/>\n<polygon fill=\"#000000\" points=\"150.0249,-848.6091 144.465,-839.5904 143.1872,-850.1079 150.0249,-848.6091\" stroke=\"#000000\"/>\n</g>\n<!-- 139883756973416 -->\n<g class=\"node\" id=\"node167\">\n<title>139883756973416</title>\n<polygon fill=\"none\" points=\"59,-730.5 59,-766.5 220,-766.5 220,-730.5 59,-730.5\" stroke=\"#000000\"/>\n<text fill=\"#000000\" font-family=\"Times,serif\" font-size=\"14.00\" text-anchor=\"middle\" x=\"139.5\" y=\"-744.8\">activation_47: Activation</text>\n</g>\n<!-- 139883756939640&#45;&gt;139883756973416 -->\n<g class=\"edge\" id=\"edge181\">\n<title>139883756939640-&gt;139883756973416</title>\n<path d=\"M140.2528,-803.4551C140.1422,-795.3828 140.0093,-785.6764 139.8861,-776.6817\" fill=\"none\" stroke=\"#000000\"/>\n<polygon fill=\"#000000\" points=\"143.3846,-776.5414 139.7478,-766.5904 136.3852,-776.6374 143.3846,-776.5414\" stroke=\"#000000\"/>\n</g>\n<!-- 139883756992440 -->\n<g class=\"node\" id=\"node168\">\n<title>139883756992440</title>\n<polygon fill=\"none\" points=\"57,-657.5 57,-693.5 222,-693.5 222,-657.5 57,-657.5\" stroke=\"#000000\"/>\n<text fill=\"#000000\" font-family=\"Times,serif\" font-size=\"14.00\" text-anchor=\"middle\" x=\"139.5\" y=\"-671.8\">res5c_branch2b: Conv2D</text>\n</g>\n<!-- 139883756973416&#45;&gt;139883756992440 -->\n<g class=\"edge\" id=\"edge182\">\n<title>139883756973416-&gt;139883756992440</title>\n<path d=\"M139.5,-730.4551C139.5,-722.3828 139.5,-712.6764 139.5,-703.6817\" fill=\"none\" stroke=\"#000000\"/>\n<polygon fill=\"#000000\" points=\"143.0001,-703.5903 139.5,-693.5904 136.0001,-703.5904 143.0001,-703.5903\" stroke=\"#000000\"/>\n</g>\n<!-- 139883756556184 -->\n<g class=\"node\" id=\"node169\">\n<title>139883756556184</title>\n<polygon fill=\"none\" points=\"25,-584.5 25,-620.5 254,-620.5 254,-584.5 25,-584.5\" stroke=\"#000000\"/>\n<text fill=\"#000000\" font-family=\"Times,serif\" font-size=\"14.00\" text-anchor=\"middle\" x=\"139.5\" y=\"-598.8\">bn5c_branch2b: BatchNormalization</text>\n</g>\n<!-- 139883756992440&#45;&gt;139883756556184 -->\n<g class=\"edge\" id=\"edge183\">\n<title>139883756992440-&gt;139883756556184</title>\n<path d=\"M139.5,-657.4551C139.5,-649.3828 139.5,-639.6764 139.5,-630.6817\" fill=\"none\" stroke=\"#000000\"/>\n<polygon fill=\"#000000\" points=\"143.0001,-630.5903 139.5,-620.5904 136.0001,-630.5904 143.0001,-630.5903\" stroke=\"#000000\"/>\n</g>\n<!-- 139883756579416 -->\n<g class=\"node\" id=\"node170\">\n<title>139883756579416</title>\n<polygon fill=\"none\" points=\"60,-511.5 60,-547.5 221,-547.5 221,-511.5 60,-511.5\" stroke=\"#000000\"/>\n<text fill=\"#000000\" font-family=\"Times,serif\" font-size=\"14.00\" text-anchor=\"middle\" x=\"140.5\" y=\"-525.8\">activation_48: Activation</text>\n</g>\n<!-- 139883756556184&#45;&gt;139883756579416 -->\n<g class=\"edge\" id=\"edge184\">\n<title>139883756556184-&gt;139883756579416</title>\n<path d=\"M139.7472,-584.4551C139.8578,-576.3828 139.9907,-566.6764 140.1139,-557.6817\" fill=\"none\" stroke=\"#000000\"/>\n<polygon fill=\"#000000\" points=\"143.6148,-557.6374 140.2522,-547.5904 136.6154,-557.5414 143.6148,-557.6374\" stroke=\"#000000\"/>\n</g>\n<!-- 139883756599896 -->\n<g class=\"node\" id=\"node171\">\n<title>139883756599896</title>\n<polygon fill=\"none\" points=\"58.5,-438.5 58.5,-474.5 222.5,-474.5 222.5,-438.5 58.5,-438.5\" stroke=\"#000000\"/>\n<text fill=\"#000000\" font-family=\"Times,serif\" font-size=\"14.00\" text-anchor=\"middle\" x=\"140.5\" y=\"-452.8\">res5c_branch2c: Conv2D</text>\n</g>\n<!-- 139883756579416&#45;&gt;139883756599896 -->\n<g class=\"edge\" id=\"edge185\">\n<title>139883756579416-&gt;139883756599896</title>\n<path d=\"M140.5,-511.4551C140.5,-503.3828 140.5,-493.6764 140.5,-484.6817\" fill=\"none\" stroke=\"#000000\"/>\n<polygon fill=\"#000000\" points=\"144.0001,-484.5903 140.5,-474.5904 137.0001,-484.5904 144.0001,-484.5903\" stroke=\"#000000\"/>\n</g>\n<!-- 139883756619536 -->\n<g class=\"node\" id=\"node172\">\n<title>139883756619536</title>\n<polygon fill=\"none\" points=\"27,-365.5 27,-401.5 254,-401.5 254,-365.5 27,-365.5\" stroke=\"#000000\"/>\n<text fill=\"#000000\" font-family=\"Times,serif\" font-size=\"14.00\" text-anchor=\"middle\" x=\"140.5\" y=\"-379.8\">bn5c_branch2c: BatchNormalization</text>\n</g>\n<!-- 139883756599896&#45;&gt;139883756619536 -->\n<g class=\"edge\" id=\"edge186\">\n<title>139883756599896-&gt;139883756619536</title>\n<path d=\"M140.5,-438.4551C140.5,-430.3828 140.5,-420.6764 140.5,-411.6817\" fill=\"none\" stroke=\"#000000\"/>\n<polygon fill=\"#000000\" points=\"144.0001,-411.5903 140.5,-401.5904 137.0001,-411.5904 144.0001,-411.5903\" stroke=\"#000000\"/>\n</g>\n<!-- 139883756619536&#45;&gt;139883756698648 -->\n<g class=\"edge\" id=\"edge188\">\n<title>139883756619536-&gt;139883756698648</title>\n<path d=\"M158.0506,-365.4551C166.755,-356.5054 177.4132,-345.547 186.9156,-335.7769\" fill=\"none\" stroke=\"#000000\"/>\n<polygon fill=\"#000000\" points=\"189.4421,-338.1992 193.9053,-328.5904 184.424,-333.3187 189.4421,-338.1992\" stroke=\"#000000\"/>\n</g>\n<!-- 139883756727544 -->\n<g class=\"node\" id=\"node174\">\n<title>139883756727544</title>\n<polygon fill=\"none\" points=\"131,-219.5 131,-255.5 292,-255.5 292,-219.5 131,-219.5\" stroke=\"#000000\"/>\n<text fill=\"#000000\" font-family=\"Times,serif\" font-size=\"14.00\" text-anchor=\"middle\" x=\"211.5\" y=\"-233.8\">activation_49: Activation</text>\n</g>\n<!-- 139883756698648&#45;&gt;139883756727544 -->\n<g class=\"edge\" id=\"edge189\">\n<title>139883756698648-&gt;139883756727544</title>\n<path d=\"M211.5,-292.4551C211.5,-284.3828 211.5,-274.6764 211.5,-265.6817\" fill=\"none\" stroke=\"#000000\"/>\n<polygon fill=\"#000000\" points=\"215.0001,-265.5903 211.5,-255.5904 208.0001,-265.5904 215.0001,-265.5903\" stroke=\"#000000\"/>\n</g>\n<!-- 139883756727768 -->\n<g class=\"node\" id=\"node175\">\n<title>139883756727768</title>\n<polygon fill=\"none\" points=\"117,-146.5 117,-182.5 306,-182.5 306,-146.5 117,-146.5\" stroke=\"#000000\"/>\n<text fill=\"#000000\" font-family=\"Times,serif\" font-size=\"14.00\" text-anchor=\"middle\" x=\"211.5\" y=\"-160.8\">avg_pool: AveragePooling2D</text>\n</g>\n<!-- 139883756727544&#45;&gt;139883756727768 -->\n<g class=\"edge\" id=\"edge190\">\n<title>139883756727544-&gt;139883756727768</title>\n<path d=\"M211.5,-219.4551C211.5,-211.3828 211.5,-201.6764 211.5,-192.6817\" fill=\"none\" stroke=\"#000000\"/>\n<polygon fill=\"#000000\" points=\"215.0001,-192.5903 211.5,-182.5904 208.0001,-192.5904 215.0001,-192.5903\" stroke=\"#000000\"/>\n</g>\n<!-- 139883756285456 -->\n<g class=\"node\" id=\"node176\">\n<title>139883756285456</title>\n<polygon fill=\"none\" points=\"155,-73.5 155,-109.5 268,-109.5 268,-73.5 155,-73.5\" stroke=\"#000000\"/>\n<text fill=\"#000000\" font-family=\"Times,serif\" font-size=\"14.00\" text-anchor=\"middle\" x=\"211.5\" y=\"-87.8\">flatten_1: Flatten</text>\n</g>\n<!-- 139883756727768&#45;&gt;139883756285456 -->\n<g class=\"edge\" id=\"edge191\">\n<title>139883756727768-&gt;139883756285456</title>\n<path d=\"M211.5,-146.4551C211.5,-138.3828 211.5,-128.6764 211.5,-119.6817\" fill=\"none\" stroke=\"#000000\"/>\n<polygon fill=\"#000000\" points=\"215.0001,-119.5903 211.5,-109.5904 208.0001,-119.5904 215.0001,-119.5903\" stroke=\"#000000\"/>\n</g>\n<!-- 139883756334328 -->\n<g class=\"node\" id=\"node177\">\n<title>139883756334328</title>\n<polygon fill=\"none\" points=\"173,-.5 173,-36.5 250,-36.5 250,-.5 173,-.5\" stroke=\"#000000\"/>\n<text fill=\"#000000\" font-family=\"Times,serif\" font-size=\"14.00\" text-anchor=\"middle\" x=\"211.5\" y=\"-14.8\">fc6: Dense</text>\n</g>\n<!-- 139883756285456&#45;&gt;139883756334328 -->\n<g class=\"edge\" id=\"edge192\">\n<title>139883756285456-&gt;139883756334328</title>\n<path d=\"M211.5,-73.4551C211.5,-65.3828 211.5,-55.6764 211.5,-46.6817\" fill=\"none\" stroke=\"#000000\"/>\n<polygon fill=\"#000000\" points=\"215.0001,-46.5903 211.5,-36.5904 208.0001,-46.5904 215.0001,-46.5903\" stroke=\"#000000\"/>\n</g>\n</g>\n</svg>"
          },
          "metadata": {
            "tags": []
          },
          "execution_count": 33
        }
      ]
    },
    {
      "cell_type": "markdown",
      "metadata": {
        "id": "PxKL010Qlh8v",
        "colab_type": "text"
      },
      "source": [
        "## What you should remember\n",
        "- Very deep \"plain\" networks don't work in practice because they are hard to train due to vanishing gradients.  \n",
        "- The skip-connections help to address the Vanishing Gradient problem. They also make it easy for a ResNet block to learn an identity function. \n",
        "- There are two main types of blocks: The identity block and the convolutional block. \n",
        "- Very deep Residual Networks are built by stacking these blocks together."
      ]
    },
    {
      "cell_type": "markdown",
      "metadata": {
        "id": "XEvWWYWmlh8w",
        "colab_type": "text"
      },
      "source": [
        "### References \n",
        "\n",
        "This notebook presents the ResNet algorithm due to He et al. (2015). The implementation here also took significant inspiration and follows the structure given in the GitHub repository of Francois Chollet: \n",
        "\n",
        "- Kaiming He, Xiangyu Zhang, Shaoqing Ren, Jian Sun - [Deep Residual Learning for Image Recognition (2015)](https://arxiv.org/abs/1512.03385)\n",
        "- Francois Chollet's GitHub repository: https://github.com/fchollet/deep-learning-models/blob/master/resnet50.py\n"
      ]
    },
    {
      "cell_type": "code",
      "metadata": {
        "id": "WTOxCKJAlh8x",
        "colab_type": "code",
        "colab": {}
      },
      "source": [
        ""
      ],
      "execution_count": 0,
      "outputs": []
    }
  ]
}